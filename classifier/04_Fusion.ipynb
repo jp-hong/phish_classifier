{
 "cells": [
  {
   "cell_type": "code",
   "execution_count": 1,
   "metadata": {},
   "outputs": [],
   "source": [
    "from tensorflow.keras.models import Model, load_model\n",
    "from tensorflow.keras.layers import concatenate, Reshape, Conv1D, MaxPool1D, Flatten, Dense\n",
    "from tensorflow.keras.callbacks import EarlyStopping\n",
    "from sklearn.model_selection import train_test_split\n",
    "from sklearn.metrics import confusion_matrix\n",
    "import matplotlib.pyplot as plt\n",
    "\n",
    "from code.modelhelper import *"
   ]
  },
  {
   "cell_type": "code",
   "execution_count": 2,
   "metadata": {},
   "outputs": [],
   "source": [
    "NCLASS = 2\n",
    "BATCH_SIZE = 150\n",
    "EPOCHS = 300"
   ]
  },
  {
   "cell_type": "code",
   "execution_count": 3,
   "metadata": {},
   "outputs": [
    {
     "name": "stderr",
     "output_type": "stream",
     "text": [
      "WARNING: Logging before flag parsing goes to stderr.\n",
      "W0912 14:53:51.080589  4484 deprecation.py:323] From c:\\program files\\python37\\lib\\site-packages\\tensorflow_core\\python\\ops\\math_grad.py:1424: where (from tensorflow.python.ops.array_ops) is deprecated and will be removed in a future version.\n",
      "Instructions for updating:\n",
      "Use tf.where in 2.0, which has the same broadcast rule as np.where\n"
     ]
    }
   ],
   "source": [
    "m1 = load_model(\"models/dl/m1.h5\")\n",
    "m2 = load_model(\"models/dl/m2.h5\")\n",
    "m3 = load_model(\"models/dl/m3.h5\")"
   ]
  },
  {
   "cell_type": "code",
   "execution_count": 3,
   "metadata": {},
   "outputs": [],
   "source": [
    "x_feat = np.load(\"data/xy/x_feat_630.npz\")[\"arr_0\"]\n",
    "x_char = np.load(\"data/xy/x_char_onehot_45_15.npz\")[\"arr_0\"]\n",
    "x_word = np.load(\"data/xy/x_word_45_15.npy\")\n",
    "y = np.load(\"data/xy/y_onehot_45_15.npy\")"
   ]
  },
  {
   "cell_type": "code",
   "execution_count": 5,
   "metadata": {},
   "outputs": [],
   "source": [
    "xf_train, xf_test, y_train, y_test = train_test_split(\n",
    "    x_feat,\n",
    "    y,\n",
    "    test_size=0.2,\n",
    "    random_state=11\n",
    ")\n",
    "\n",
    "xc_train, xc_test, y_train, y_test = train_test_split(\n",
    "    x_char,\n",
    "    y,\n",
    "    test_size=0.2,\n",
    "    random_state=11\n",
    ")\n",
    "\n",
    "xw_train, xw_test, y_train, y_test = train_test_split(\n",
    "    x_word,\n",
    "    y,\n",
    "    test_size=0.2,\n",
    "    random_state=11\n",
    ")"
   ]
  },
  {
   "cell_type": "markdown",
   "metadata": {},
   "source": [
    "# Models 1, 2, 3 Fusion"
   ]
  },
  {
   "cell_type": "code",
   "execution_count": 6,
   "metadata": {},
   "outputs": [],
   "source": [
    "for layer in m1.layers:\n",
    "    layer.trainable = False\n",
    "    \n",
    "for layer in m2.layers:\n",
    "    layer.trainable = False\n",
    "    \n",
    "for layer in m3.layers:\n",
    "    layer.trainable = False"
   ]
  },
  {
   "cell_type": "code",
   "execution_count": 7,
   "metadata": {
    "scrolled": true
   },
   "outputs": [
    {
     "name": "stdout",
     "output_type": "stream",
     "text": [
      "Model: \"model\"\n",
      "__________________________________________________________________________________________________\n",
      "Layer (type)                    Output Shape         Param #     Connected to                     \n",
      "==================================================================================================\n",
      "m2_input (InputLayer)           [(None, 13900)]      0                                            \n",
      "__________________________________________________________________________________________________\n",
      "m2_reshape (Reshape)            (None, 100, 139, 1)  0           m2_input[0][0]                   \n",
      "__________________________________________________________________________________________________\n",
      "m2_timedistributed_1 (TimeDistr (None, 100, 139, 20) 60          m2_reshape[0][0]                 \n",
      "__________________________________________________________________________________________________\n",
      "m2_timedistributed_2 (TimeDistr (None, 100, 69, 20)  0           m2_timedistributed_1[0][0]       \n",
      "__________________________________________________________________________________________________\n",
      "m2_timedistributed_3 (TimeDistr (None, 100, 69, 20)  820         m2_timedistributed_2[0][0]       \n",
      "__________________________________________________________________________________________________\n",
      "m2_timedistributed_4 (TimeDistr (None, 100, 34, 20)  0           m2_timedistributed_3[0][0]       \n",
      "__________________________________________________________________________________________________\n",
      "m2_timedistributed_5 (TimeDistr (None, 100, 34, 20)  820         m2_timedistributed_4[0][0]       \n",
      "__________________________________________________________________________________________________\n",
      "m1_input (InputLayer)           [(None, 630)]        0                                            \n",
      "__________________________________________________________________________________________________\n",
      "m2_timedistributed_6 (TimeDistr (None, 100, 17, 20)  0           m2_timedistributed_5[0][0]       \n",
      "__________________________________________________________________________________________________\n",
      "m1_dense1 (Dense)               (None, 50)           31550       m1_input[0][0]                   \n",
      "__________________________________________________________________________________________________\n",
      "m2_timedistributed_7 (TimeDistr (None, 100, 340)     0           m2_timedistributed_6[0][0]       \n",
      "__________________________________________________________________________________________________\n",
      "m3_input (InputLayer)           [(None, 20)]         0                                            \n",
      "__________________________________________________________________________________________________\n",
      "m1_dense2 (Dense)               (None, 100)          5100        m1_dense1[0][0]                  \n",
      "__________________________________________________________________________________________________\n",
      "m2_dropout_1 (Dropout)          (None, 100, 340)     0           m2_timedistributed_7[0][0]       \n",
      "__________________________________________________________________________________________________\n",
      "m3_embedding (Embedding)        (None, 20, 32)       160000      m3_input[0][0]                   \n",
      "__________________________________________________________________________________________________\n",
      "m1_dense3 (Dense)               (None, 150)          15150       m1_dense2[0][0]                  \n",
      "__________________________________________________________________________________________________\n",
      "m2_gru_1 (GRU)                  (None, 100, 256)     459264      m2_dropout_1[0][0]               \n",
      "__________________________________________________________________________________________________\n",
      "m3_spacialdropout1d (SpatialDro (None, 20, 32)       0           m3_embedding[0][0]               \n",
      "__________________________________________________________________________________________________\n",
      "m1_dense4 (Dense)               (None, 200)          30200       m1_dense3[0][0]                  \n",
      "__________________________________________________________________________________________________\n",
      "m2_gru_2 (GRU)                  (None, 256)          394752      m2_gru_1[0][0]                   \n",
      "__________________________________________________________________________________________________\n",
      "m3_lstm (LSTM)                  (None, 32)           8320        m3_spacialdropout1d[0][0]        \n",
      "__________________________________________________________________________________________________\n",
      "concatenate (Concatenate)       (None, 488)          0           m1_dense4[0][0]                  \n",
      "                                                                 m2_gru_2[0][0]                   \n",
      "                                                                 m3_lstm[0][0]                    \n",
      "__________________________________________________________________________________________________\n",
      "fusion_reshape (Reshape)        (None, 488, 1)       0           concatenate[0][0]                \n",
      "__________________________________________________________________________________________________\n",
      "fusion_conv1d_1 (Conv1D)        (None, 488, 32)      96          fusion_reshape[0][0]             \n",
      "__________________________________________________________________________________________________\n",
      "fusion_maxpool1d_1 (MaxPooling1 (None, 244, 32)      0           fusion_conv1d_1[0][0]            \n",
      "__________________________________________________________________________________________________\n",
      "fusion_conv1d_2 (Conv1D)        (None, 244, 32)      2080        fusion_maxpool1d_1[0][0]         \n",
      "__________________________________________________________________________________________________\n",
      "fusion_maxpool1d_2 (MaxPooling1 (None, 122, 32)      0           fusion_conv1d_2[0][0]            \n",
      "__________________________________________________________________________________________________\n",
      "fusion_conv1d_3 (Conv1D)        (None, 122, 32)      2080        fusion_maxpool1d_2[0][0]         \n",
      "__________________________________________________________________________________________________\n",
      "fusion_maxpool1d_3 (MaxPooling1 (None, 61, 32)       0           fusion_conv1d_3[0][0]            \n",
      "__________________________________________________________________________________________________\n",
      "fusion_conv1d_4 (Conv1D)        (None, 61, 32)       2080        fusion_maxpool1d_3[0][0]         \n",
      "__________________________________________________________________________________________________\n",
      "fusion_maxpool1d_4 (MaxPooling1 (None, 30, 32)       0           fusion_conv1d_4[0][0]            \n",
      "__________________________________________________________________________________________________\n",
      "fusion_flatten (Flatten)        (None, 960)          0           fusion_maxpool1d_4[0][0]         \n",
      "__________________________________________________________________________________________________\n",
      "fusion_dense_1 (Dense)          (None, 480)          461280      fusion_flatten[0][0]             \n",
      "__________________________________________________________________________________________________\n",
      "fusion_dense_2 (Dense)          (None, 120)          57720       fusion_dense_1[0][0]             \n",
      "__________________________________________________________________________________________________\n",
      "fusion_output (Dense)           (None, 2)            242         fusion_dense_2[0][0]             \n",
      "==================================================================================================\n",
      "Total params: 1,631,614\n",
      "Trainable params: 525,578\n",
      "Non-trainable params: 1,106,036\n",
      "__________________________________________________________________________________________________\n"
     ]
    }
   ],
   "source": [
    "model_input = concatenate(\n",
    "    [\n",
    "        m1.get_layer(\"m1_dense4\").output,\n",
    "        m2.get_layer(\"m2_gru_2\").output,\n",
    "        m3.get_layer(\"m3_lstm\").output,\n",
    "    ]\n",
    ")\n",
    "\n",
    "H = Reshape((200+256+32, 1), name=\"fusion_reshape\")(model_input)\n",
    "\n",
    "H = Conv1D(\n",
    "    filters=32,\n",
    "    kernel_size=2,\n",
    "    padding=\"same\",\n",
    "    activation=\"tanh\",\n",
    "    name=\"fusion_conv1d_1\"\n",
    ")(H)\n",
    "H = MaxPool1D(2, name=\"fusion_maxpool1d_1\")(H)\n",
    "\n",
    "H = Conv1D(\n",
    "    filters=32,\n",
    "    kernel_size=2,\n",
    "    padding=\"same\",\n",
    "    activation=\"tanh\",\n",
    "    name=\"fusion_conv1d_2\"\n",
    ")(H)\n",
    "H = MaxPool1D(2, name=\"fusion_maxpool1d_2\")(H)\n",
    "\n",
    "H = Conv1D(\n",
    "    filters=32,\n",
    "    kernel_size=2,\n",
    "    padding=\"same\",\n",
    "    activation=\"tanh\",\n",
    "    name=\"fusion_conv1d_3\"\n",
    ")(H)\n",
    "H = MaxPool1D(2, name=\"fusion_maxpool1d_3\")(H)\n",
    "\n",
    "H = Conv1D(\n",
    "    filters=32,\n",
    "    kernel_size=2,\n",
    "    padding=\"same\",\n",
    "    activation=\"tanh\",\n",
    "    name=\"fusion_conv1d_4\"\n",
    ")(H)\n",
    "H = MaxPool1D(2, name=\"fusion_maxpool1d_4\")(H)\n",
    "\n",
    "H = Flatten(name=\"fusion_flatten\")(H)\n",
    "H = Dense(480, activation='tanh', name=\"fusion_dense_1\")(H)\n",
    "H = Dense(120, activation='tanh', name=\"fusion_dense_2\")(H)\n",
    "model_output = Dense(NCLASS, activation='softmax', name=\"fusion_output\")(H)\n",
    "\n",
    "model = Model(inputs=[m1.input, m2.input, m3.input], outputs=model_output)\n",
    "model.summary()\n",
    "\n",
    "model.compile(\n",
    "    loss=\"categorical_crossentropy\",\n",
    "    optimizer=\"adam\",\n",
    "    metrics=[\"accuracy\"]\n",
    ")\n",
    "\n",
    "es = EarlyStopping(\n",
    "    monitor=\"val_loss\",\n",
    "    patience=5,\n",
    "    restore_best_weights=True\n",
    ")"
   ]
  },
  {
   "cell_type": "markdown",
   "metadata": {},
   "source": [
    "# Training"
   ]
  },
  {
   "cell_type": "code",
   "execution_count": 8,
   "metadata": {},
   "outputs": [
    {
     "name": "stdout",
     "output_type": "stream",
     "text": [
      "Train on 48000 samples, validate on 12000 samples\n",
      "Epoch 1/300\n",
      "48000/48000 - 93s - loss: 0.0494 - accuracy: 0.9844 - val_loss: 0.0605 - val_accuracy: 0.9797\n",
      "Epoch 2/300\n",
      "48000/48000 - 86s - loss: 0.0425 - accuracy: 0.9871 - val_loss: 0.0613 - val_accuracy: 0.9808\n",
      "Epoch 3/300\n",
      "48000/48000 - 85s - loss: 0.0416 - accuracy: 0.9868 - val_loss: 0.0586 - val_accuracy: 0.9810\n",
      "Epoch 4/300\n",
      "48000/48000 - 86s - loss: 0.0410 - accuracy: 0.9871 - val_loss: 0.0573 - val_accuracy: 0.9812\n",
      "Epoch 5/300\n",
      "48000/48000 - 86s - loss: 0.0399 - accuracy: 0.9877 - val_loss: 0.0619 - val_accuracy: 0.9801\n",
      "Epoch 6/300\n",
      "48000/48000 - 86s - loss: 0.0405 - accuracy: 0.9875 - val_loss: 0.0610 - val_accuracy: 0.9797\n",
      "Epoch 7/300\n",
      "48000/48000 - 86s - loss: 0.0404 - accuracy: 0.9874 - val_loss: 0.0582 - val_accuracy: 0.9811\n",
      "Epoch 8/300\n",
      "48000/48000 - 87s - loss: 0.0398 - accuracy: 0.9880 - val_loss: 0.0616 - val_accuracy: 0.9796\n",
      "Epoch 9/300\n",
      "48000/48000 - 86s - loss: 0.0399 - accuracy: 0.9875 - val_loss: 0.0581 - val_accuracy: 0.9805\n"
     ]
    }
   ],
   "source": [
    "history = model.fit(\n",
    "    [xf_train, xc_train, xw_train],\n",
    "    y_train,\n",
    "    batch_size=BATCH_SIZE,\n",
    "    epochs=EPOCHS,\n",
    "    verbose=2,\n",
    "    validation_data=([xf_test, xc_test, xw_test], y_test),\n",
    "    callbacks=[es]\n",
    ")"
   ]
  },
  {
   "cell_type": "code",
   "execution_count": 9,
   "metadata": {},
   "outputs": [
    {
     "name": "stdout",
     "output_type": "stream",
     "text": [
      "Test loss: 0.057318296974524854\n",
      "Test accuracy: 0.98116666\n",
      "Test recall: 0.9509969584319027\n",
      "[[8960   81]\n",
      " [ 145 2814]]\n"
     ]
    }
   ],
   "source": [
    "score = model.evaluate([xf_test, xc_test, xw_test], y_test, verbose=0)\n",
    "print('Test loss:', score[0])\n",
    "print('Test accuracy:', score[1])\n",
    "\n",
    "y_pred_model = model.predict([xf_test, xc_test, xw_test])\n",
    "y_pred = to_bin(y_pred_model)\n",
    "print(\"Test recall: {}\".format(recall(y_test, y_pred)))\n",
    "\n",
    "y_test0 = to_1D(y_test)\n",
    "y_pred0 = to_1D(y_pred)\n",
    "print(confusion_matrix(y_test0, y_pred0))"
   ]
  },
  {
   "cell_type": "code",
   "execution_count": 10,
   "metadata": {},
   "outputs": [
    {
     "data": {
      "image/png": "[encoded data removed]",
      "text/plain": [
       "<Figure size 864x432 with 1 Axes>"
      ]
     },
     "metadata": {
      "needs_background": "light"
     },
     "output_type": "display_data"
    }
   ],
   "source": [
    "plt.figure(figsize=(12, 6))\n",
    "plt.plot(history.history[\"accuracy\"], label=\"Train\")\n",
    "plt.plot(history.history[\"val_accuracy\"], label=\"Test\")\n",
    "plt.legend()\n",
    "plt.xlabel(\"Epochs\")\n",
    "plt.ylabel(\"Accuracy\")\n",
    "plt.show()"
   ]
  },
  {
   "cell_type": "code",
   "execution_count": 11,
   "metadata": {},
   "outputs": [],
   "source": [
    "model.save(\"models/dl/fusion.h5\")"
   ]
  },
  {
   "cell_type": "markdown",
   "metadata": {},
   "source": [
    "# K-fold CV"
   ]
  },
  {
   "cell_type": "code",
   "execution_count": 7,
   "metadata": {},
   "outputs": [],
   "source": [
    "model_params = {\n",
    "    \"batch_size\": BATCH_SIZE,\n",
    "    \"epochs\": EPOCHS,\n",
    "    \"es\": es,\n",
    "}"
   ]
  },
  {
   "cell_type": "code",
   "execution_count": 8,
   "metadata": {},
   "outputs": [
    {
     "name": "stdout",
     "output_type": "stream",
     "text": [
      "Starting 10-fold cross validation:\n",
      "    Validation 01 of 10 ... done [896.39s]\n",
      "    Validation 02 of 10 ... done [711.50s]\n",
      "    Validation 03 of 10 ... done [709.41s]\n",
      "    Validation 04 of 10 ... done [710.35s]\n",
      "    Validation 05 of 10 ... done [606.61s]\n",
      "    Validation 06 of 10 ... done [683.84s]\n",
      "    Validation 07 of 10 ... done [653.07s]\n",
      "    Validation 08 of 10 ... done [590.13s]\n",
      "    Validation 09 of 10 ... done [859.41s]\n",
      "    Validation 10 of 10 ... done [585.34s]\n"
     ]
    }
   ],
   "source": [
    "scores = kfold_multi_input(model, model_params, [x_feat, x_char, x_word], y, cv=10)"
   ]
  },
  {
   "cell_type": "code",
   "execution_count": 9,
   "metadata": {},
   "outputs": [
    {
     "data": {
      "text/plain": [
       "array([[0.981     , 0.98133333, 0.98983333, 0.98833333, 0.98883333,\n",
       "        0.98866667, 0.99066667, 0.98916667, 0.99016667, 0.98983333],\n",
       "       [0.97884344, 0.97577855, 0.9897541 , 0.98976109, 0.98371777,\n",
       "        0.98762887, 0.99597315, 0.99250681, 0.98706339, 0.9929078 ],\n",
       "       [0.94293478, 0.94821789, 0.96923077, 0.96345515, 0.97119893,\n",
       "        0.96637525, 0.96740548, 0.96426208, 0.97507987, 0.96485183],\n",
       "       [0.00662544, 0.00775537, 0.00332963, 0.00333704, 0.00532505,\n",
       "        0.00398848, 0.00134348, 0.00245043, 0.00450958, 0.00219829]])"
      ]
     },
     "execution_count": 9,
     "metadata": {},
     "output_type": "execute_result"
    }
   ],
   "source": [
    "arr = scores_dict_to_array(scores)\n",
    "arr"
   ]
  },
  {
   "cell_type": "code",
   "execution_count": null,
   "metadata": {},
   "outputs": [],
   "source": [
    "np.save(\"cv/fusion_123_cv.npy\", arr)"
   ]
  },
  {
   "cell_type": "code",
   "execution_count": 11,
   "metadata": {},
   "outputs": [
    {
     "data": {
      "text/plain": [
       "0.9633012022729963"
      ]
     },
     "execution_count": 11,
     "metadata": {},
     "output_type": "execute_result"
    }
   ],
   "source": [
    "arr[2].mean()"
   ]
  },
  {
   "cell_type": "markdown",
   "metadata": {},
   "source": [
    "# Confusion Matrix"
   ]
  },
  {
   "cell_type": "code",
   "execution_count": 2,
   "metadata": {},
   "outputs": [
    {
     "name": "stderr",
     "output_type": "stream",
     "text": [
      "WARNING: Logging before flag parsing goes to stderr.\n",
      "W0918 13:54:14.077210 4669298112 deprecation.py:323] From /Library/Frameworks/Python.framework/Versions/3.7/lib/python3.7/site-packages/tensorflow_core/python/ops/math_grad.py:1424: where (from tensorflow.python.ops.array_ops) is deprecated and will be removed in a future version.\n",
      "Instructions for updating:\n",
      "Use tf.where in 2.0, which has the same broadcast rule as np.where\n"
     ]
    }
   ],
   "source": [
    "model = load_model(\"models/dl/fusion.h5\")"
   ]
  },
  {
   "cell_type": "code",
   "execution_count": 7,
   "metadata": {},
   "outputs": [],
   "source": [
    "y_pred_model = model.predict([xf_test, xc_test, xw_test])\n",
    "y_pred = to_bin(y_pred_model)"
   ]
  },
  {
   "cell_type": "code",
   "execution_count": null,
   "metadata": {},
   "outputs": [],
   "source": []
  }
 ],
 "metadata": {
  "kernelspec": {
   "display_name": "Python 3",
   "language": "python",
   "name": "python3"
  },
  "language_info": {
   "codemirror_mode": {
    "name": "ipython",
    "version": 3
   },
   "file_extension": ".py",
   "mimetype": "text/x-python",
   "name": "python",
   "nbconvert_exporter": "python",
   "pygments_lexer": "ipython3",
   "version": "3.7.4"
  },
  "varInspector": {
   "cols": {
    "lenName": 16,
    "lenType": 16,
    "lenVar": 40
   },
   "kernels_config": {
    "python": {
     "delete_cmd_postfix": "",
     "delete_cmd_prefix": "del ",
     "library": "var_list.py",
     "varRefreshCmd": "print(var_dic_list())"
    },
    "r": {
     "delete_cmd_postfix": ") ",
     "delete_cmd_prefix": "rm(",
     "library": "var_list.r",
     "varRefreshCmd": "cat(var_dic_list()) "
    }
   },
   "types_to_exclude": [
    "module",
    "function",
    "builtin_function_or_method",
    "instance",
    "_Feature"
   ],
   "window_display": false
  }
 },
 "nbformat": 4,
 "nbformat_minor": 2
}
