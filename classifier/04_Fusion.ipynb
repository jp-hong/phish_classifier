{
 "cells": [
  {
   "cell_type": "code",
   "execution_count": 1,
   "metadata": {},
   "outputs": [
    {
     "name": "stderr",
     "output_type": "stream",
     "text": [
      "c:\\program files\\python37\\lib\\site-packages\\tensorboard\\compat\\tensorflow_stub\\dtypes.py:541: FutureWarning: Passing (type, 1) or '1type' as a synonym of type is deprecated; in a future version of numpy, it will be understood as (type, (1,)) / '(1,)type'.\n",
      "  _np_qint8 = np.dtype([(\"qint8\", np.int8, 1)])\n",
      "c:\\program files\\python37\\lib\\site-packages\\tensorboard\\compat\\tensorflow_stub\\dtypes.py:542: FutureWarning: Passing (type, 1) or '1type' as a synonym of type is deprecated; in a future version of numpy, it will be understood as (type, (1,)) / '(1,)type'.\n",
      "  _np_quint8 = np.dtype([(\"quint8\", np.uint8, 1)])\n",
      "c:\\program files\\python37\\lib\\site-packages\\tensorboard\\compat\\tensorflow_stub\\dtypes.py:543: FutureWarning: Passing (type, 1) or '1type' as a synonym of type is deprecated; in a future version of numpy, it will be understood as (type, (1,)) / '(1,)type'.\n",
      "  _np_qint16 = np.dtype([(\"qint16\", np.int16, 1)])\n",
      "c:\\program files\\python37\\lib\\site-packages\\tensorboard\\compat\\tensorflow_stub\\dtypes.py:544: FutureWarning: Passing (type, 1) or '1type' as a synonym of type is deprecated; in a future version of numpy, it will be understood as (type, (1,)) / '(1,)type'.\n",
      "  _np_quint16 = np.dtype([(\"quint16\", np.uint16, 1)])\n",
      "c:\\program files\\python37\\lib\\site-packages\\tensorboard\\compat\\tensorflow_stub\\dtypes.py:545: FutureWarning: Passing (type, 1) or '1type' as a synonym of type is deprecated; in a future version of numpy, it will be understood as (type, (1,)) / '(1,)type'.\n",
      "  _np_qint32 = np.dtype([(\"qint32\", np.int32, 1)])\n",
      "c:\\program files\\python37\\lib\\site-packages\\tensorboard\\compat\\tensorflow_stub\\dtypes.py:550: FutureWarning: Passing (type, 1) or '1type' as a synonym of type is deprecated; in a future version of numpy, it will be understood as (type, (1,)) / '(1,)type'.\n",
      "  np_resource = np.dtype([(\"resource\", np.ubyte, 1)])\n"
     ]
    }
   ],
   "source": [
    "from tensorflow.keras.models import Model, load_model\n",
    "from tensorflow.keras.layers import concatenate, Reshape, Conv1D, MaxPool1D, Flatten, Dense\n",
    "from tensorflow.keras.callbacks import EarlyStopping\n",
    "from sklearn.model_selection import train_test_split\n",
    "from sklearn.metrics import confusion_matrix\n",
    "import matplotlib.pyplot as plt\n",
    "\n",
    "from code.modelhelper import *"
   ]
  },
  {
   "cell_type": "code",
   "execution_count": 2,
   "metadata": {},
   "outputs": [],
   "source": [
    "NCLASS = 2\n",
    "BATCH_SIZE = 150\n",
    "EPOCHS = 300"
   ]
  },
  {
   "cell_type": "code",
   "execution_count": 3,
   "metadata": {},
   "outputs": [
    {
     "name": "stderr",
     "output_type": "stream",
     "text": [
      "WARNING: Logging before flag parsing goes to stderr.\n",
      "W0828 18:18:22.905227  7364 deprecation.py:323] From c:\\program files\\python37\\lib\\site-packages\\tensorflow_core\\python\\ops\\math_grad.py:1424: where (from tensorflow.python.ops.array_ops) is deprecated and will be removed in a future version.\n",
      "Instructions for updating:\n",
      "Use tf.where in 2.0, which has the same broadcast rule as np.where\n"
     ]
    }
   ],
   "source": [
    "m1 = load_model(\"models/dl/m1_630_nadam.h5\")\n",
    "m2 = load_model(\"models/dl/m2.h5\")\n",
    "m3 = load_model(\"models/dl/m3.h5\")"
   ]
  },
  {
   "cell_type": "code",
   "execution_count": 4,
   "metadata": {},
   "outputs": [],
   "source": [
    "x_feat = np.load(\"data/xy/x_feat_630.npy\")\n",
    "x_char = np.load(\"data/xy/x_char_onehot_45_15.npz\")[\"arr_0\"]\n",
    "x_word = np.load(\"data/xy/x_word_45_15.npy\")\n",
    "y = np.load(\"data/xy/y_onehot_45_15.npy\")"
   ]
  },
  {
   "cell_type": "code",
   "execution_count": 5,
   "metadata": {},
   "outputs": [],
   "source": [
    "xf_train, xf_test, y_train, y_test = train_test_split(\n",
    "    x_feat,\n",
    "    y,\n",
    "    test_size=0.2,\n",
    "    random_state=11\n",
    ")\n",
    "\n",
    "xc_train, xc_test, y_train, y_test = train_test_split(\n",
    "    x_char,\n",
    "    y,\n",
    "    test_size=0.2,\n",
    "    random_state=11\n",
    ")\n",
    "\n",
    "xw_train, xw_test, y_train, y_test = train_test_split(\n",
    "    x_word,\n",
    "    y,\n",
    "    test_size=0.2,\n",
    "    random_state=11\n",
    ")"
   ]
  },
  {
   "cell_type": "code",
   "execution_count": 6,
   "metadata": {},
   "outputs": [],
   "source": [
    "for layer in m1.layers:\n",
    "    layer.trainable = False\n",
    "    \n",
    "for layer in m2.layers:\n",
    "    layer.trainable = False\n",
    "    \n",
    "for layer in m3.layers:\n",
    "    layer.trainable = False"
   ]
  },
  {
   "cell_type": "code",
   "execution_count": 7,
   "metadata": {},
   "outputs": [
    {
     "name": "stderr",
     "output_type": "stream",
     "text": [
      "W0828 18:19:04.655184  7364 training.py:2055] Discrepancy between trainable weights and collected trainable weights, did you set `model.trainable` without calling `model.compile` after ?\n"
     ]
    },
    {
     "name": "stdout",
     "output_type": "stream",
     "text": [
      "Model: \"model_1\"\n",
      "_________________________________________________________________\n",
      "Layer (type)                 Output Shape              Param #   \n",
      "=================================================================\n",
      "m1_input (InputLayer)        [(None, 630)]             0         \n",
      "_________________________________________________________________\n",
      "m1_dense1 (Dense)            (None, 50)                31550     \n",
      "_________________________________________________________________\n",
      "m1_dense2 (Dense)            (None, 100)               5100      \n",
      "_________________________________________________________________\n",
      "m1_dense3 (Dense)            (None, 150)               15150     \n",
      "_________________________________________________________________\n",
      "m1_dense4 (Dense)            (None, 200)               30200     \n",
      "_________________________________________________________________\n",
      "m1_dropout1 (Dropout)        (None, 200)               0         \n",
      "_________________________________________________________________\n",
      "m1_output (Dense)            (None, 2)                 402       \n",
      "=================================================================\n",
      "Total params: 164,804\n",
      "Trainable params: 82,402\n",
      "Non-trainable params: 82,402\n",
      "_________________________________________________________________\n"
     ]
    }
   ],
   "source": [
    "m1.summary()"
   ]
  },
  {
   "cell_type": "code",
   "execution_count": 8,
   "metadata": {
    "scrolled": true
   },
   "outputs": [
    {
     "name": "stdout",
     "output_type": "stream",
     "text": [
      "Model: \"model\"\n",
      "__________________________________________________________________________________________________\n",
      "Layer (type)                    Output Shape         Param #     Connected to                     \n",
      "==================================================================================================\n",
      "m2_input (InputLayer)           [(None, 13900)]      0                                            \n",
      "__________________________________________________________________________________________________\n",
      "m2_reshape (Reshape)            (None, 100, 139, 1)  0           m2_input[0][0]                   \n",
      "__________________________________________________________________________________________________\n",
      "m2_timedistributed_1 (TimeDistr (None, 100, 139, 20) 60          m2_reshape[0][0]                 \n",
      "__________________________________________________________________________________________________\n",
      "m2_timedistributed_2 (TimeDistr (None, 100, 69, 20)  0           m2_timedistributed_1[0][0]       \n",
      "__________________________________________________________________________________________________\n",
      "m2_timedistributed_3 (TimeDistr (None, 100, 69, 20)  820         m2_timedistributed_2[0][0]       \n",
      "__________________________________________________________________________________________________\n",
      "m2_timedistributed_4 (TimeDistr (None, 100, 34, 20)  0           m2_timedistributed_3[0][0]       \n",
      "__________________________________________________________________________________________________\n",
      "m2_timedistributed_5 (TimeDistr (None, 100, 34, 20)  820         m2_timedistributed_4[0][0]       \n",
      "__________________________________________________________________________________________________\n",
      "m1_input (InputLayer)           [(None, 630)]        0                                            \n",
      "__________________________________________________________________________________________________\n",
      "m2_timedistributed_6 (TimeDistr (None, 100, 17, 20)  0           m2_timedistributed_5[0][0]       \n",
      "__________________________________________________________________________________________________\n",
      "m1_dense1 (Dense)               (None, 50)           31550       m1_input[0][0]                   \n",
      "__________________________________________________________________________________________________\n",
      "m2_timedistributed_7 (TimeDistr (None, 100, 340)     0           m2_timedistributed_6[0][0]       \n",
      "__________________________________________________________________________________________________\n",
      "m3_input (InputLayer)           [(None, 20)]         0                                            \n",
      "__________________________________________________________________________________________________\n",
      "m1_dense2 (Dense)               (None, 100)          5100        m1_dense1[0][0]                  \n",
      "__________________________________________________________________________________________________\n",
      "m2_dropout_1 (Dropout)          (None, 100, 340)     0           m2_timedistributed_7[0][0]       \n",
      "__________________________________________________________________________________________________\n",
      "m3_embedding (Embedding)        (None, 20, 32)       160000      m3_input[0][0]                   \n",
      "__________________________________________________________________________________________________\n",
      "m1_dense3 (Dense)               (None, 150)          15150       m1_dense2[0][0]                  \n",
      "__________________________________________________________________________________________________\n",
      "m2_gru_1 (GRU)                  (None, 100, 256)     459264      m2_dropout_1[0][0]               \n",
      "__________________________________________________________________________________________________\n",
      "m3_spacialdropout1d (SpatialDro (None, 20, 32)       0           m3_embedding[0][0]               \n",
      "__________________________________________________________________________________________________\n",
      "m1_dense4 (Dense)               (None, 200)          30200       m1_dense3[0][0]                  \n",
      "__________________________________________________________________________________________________\n",
      "m2_gru_2 (GRU)                  (None, 256)          394752      m2_gru_1[0][0]                   \n",
      "__________________________________________________________________________________________________\n",
      "m3_lstm (LSTM)                  (None, 32)           8320        m3_spacialdropout1d[0][0]        \n",
      "__________________________________________________________________________________________________\n",
      "concatenate (Concatenate)       (None, 488)          0           m1_dense4[0][0]                  \n",
      "                                                                 m2_gru_2[0][0]                   \n",
      "                                                                 m3_lstm[0][0]                    \n",
      "__________________________________________________________________________________________________\n",
      "fusion_reshape (Reshape)        (None, 488, 1)       0           concatenate[0][0]                \n",
      "__________________________________________________________________________________________________\n",
      "fusion_conv1d_1 (Conv1D)        (None, 488, 32)      96          fusion_reshape[0][0]             \n",
      "__________________________________________________________________________________________________\n",
      "fusion_maxpool1d_1 (MaxPooling1 (None, 244, 32)      0           fusion_conv1d_1[0][0]            \n",
      "__________________________________________________________________________________________________\n",
      "fusion_conv1d_2 (Conv1D)        (None, 244, 32)      2080        fusion_maxpool1d_1[0][0]         \n",
      "__________________________________________________________________________________________________\n",
      "fusion_maxpool1d_2 (MaxPooling1 (None, 122, 32)      0           fusion_conv1d_2[0][0]            \n",
      "__________________________________________________________________________________________________\n",
      "fusion_conv1d_3 (Conv1D)        (None, 122, 32)      2080        fusion_maxpool1d_2[0][0]         \n",
      "__________________________________________________________________________________________________\n",
      "fusion_maxpool1d_3 (MaxPooling1 (None, 61, 32)       0           fusion_conv1d_3[0][0]            \n",
      "__________________________________________________________________________________________________\n",
      "fusion_conv1d_4 (Conv1D)        (None, 61, 32)       2080        fusion_maxpool1d_3[0][0]         \n",
      "__________________________________________________________________________________________________\n",
      "fusion_maxpool1d_4 (MaxPooling1 (None, 30, 32)       0           fusion_conv1d_4[0][0]            \n",
      "__________________________________________________________________________________________________\n",
      "fusion_flatten (Flatten)        (None, 960)          0           fusion_maxpool1d_4[0][0]         \n",
      "__________________________________________________________________________________________________\n",
      "fusion_dense_1 (Dense)          (None, 320)          307520      fusion_flatten[0][0]             \n",
      "__________________________________________________________________________________________________\n",
      "fusion_dense_2 (Dense)          (None, 80)           25680       fusion_dense_1[0][0]             \n",
      "__________________________________________________________________________________________________\n",
      "fusion_output (Dense)           (None, 2)            162         fusion_dense_2[0][0]             \n",
      "==================================================================================================\n",
      "Total params: 1,445,734\n",
      "Trainable params: 339,698\n",
      "Non-trainable params: 1,106,036\n",
      "__________________________________________________________________________________________________\n"
     ]
    }
   ],
   "source": [
    "model_input = concatenate(\n",
    "    [\n",
    "        m1.get_layer(\"m1_dense4\").output,\n",
    "        m2.get_layer(\"m2_gru_2\").output,\n",
    "        m3.get_layer(\"m3_lstm\").output,\n",
    "    ]\n",
    ")\n",
    "\n",
    "H = Reshape((200+256+32, 1), name=\"fusion_reshape\")(model_input)\n",
    "\n",
    "H = Conv1D(\n",
    "    filters=32,\n",
    "    kernel_size=2,\n",
    "    padding=\"same\",\n",
    "    activation=\"tanh\",\n",
    "    name=\"fusion_conv1d_1\"\n",
    ")(H)\n",
    "H = MaxPool1D(2, name=\"fusion_maxpool1d_1\")(H)\n",
    "\n",
    "H = Conv1D(\n",
    "    filters=32,\n",
    "    kernel_size=2,\n",
    "    padding=\"same\",\n",
    "    activation=\"tanh\",\n",
    "    name=\"fusion_conv1d_2\"\n",
    ")(H)\n",
    "H = MaxPool1D(2, name=\"fusion_maxpool1d_2\")(H)\n",
    "\n",
    "H = Conv1D(\n",
    "    filters=32,\n",
    "    kernel_size=2,\n",
    "    padding=\"same\",\n",
    "    activation=\"tanh\",\n",
    "    name=\"fusion_conv1d_3\"\n",
    ")(H)\n",
    "H = MaxPool1D(2, name=\"fusion_maxpool1d_3\")(H)\n",
    "\n",
    "H = Conv1D(\n",
    "    filters=32,\n",
    "    kernel_size=2,\n",
    "    padding=\"same\",\n",
    "    activation=\"tanh\",\n",
    "    name=\"fusion_conv1d_4\"\n",
    ")(H)\n",
    "H = MaxPool1D(2, name=\"fusion_maxpool1d_4\")(H)\n",
    "\n",
    "H = Flatten(name=\"fusion_flatten\")(H)\n",
    "H = Dense(320, activation='tanh', name=\"fusion_dense_1\")(H)\n",
    "H = Dense(80, activation='tanh', name=\"fusion_dense_2\")(H)\n",
    "model_output = Dense(NCLASS, activation='softmax', name=\"fusion_output\")(H)\n",
    "\n",
    "model = Model(inputs=[m1.input, m2.input, m3.input], outputs=model_output)\n",
    "\n",
    "model.summary()"
   ]
  },
  {
   "cell_type": "code",
   "execution_count": 9,
   "metadata": {},
   "outputs": [
    {
     "name": "stdout",
     "output_type": "stream",
     "text": [
      "Train on 48000 samples, validate on 12000 samples\n",
      "Epoch 1/300\n",
      "48000/48000 - 90s - loss: 0.0526 - accuracy: 0.9814 - val_loss: 0.0607 - val_accuracy: 0.9796\n",
      "Epoch 2/300\n",
      "48000/48000 - 81s - loss: 0.0419 - accuracy: 0.9867 - val_loss: 0.0578 - val_accuracy: 0.9804\n",
      "Epoch 3/300\n",
      "48000/48000 - 81s - loss: 0.0420 - accuracy: 0.9870 - val_loss: 0.0579 - val_accuracy: 0.9805\n",
      "Epoch 4/300\n",
      "48000/48000 - 83s - loss: 0.0415 - accuracy: 0.9868 - val_loss: 0.0573 - val_accuracy: 0.9814\n",
      "Epoch 5/300\n",
      "48000/48000 - 81s - loss: 0.0410 - accuracy: 0.9873 - val_loss: 0.0630 - val_accuracy: 0.9807\n",
      "Epoch 6/300\n",
      "48000/48000 - 82s - loss: 0.0408 - accuracy: 0.9872 - val_loss: 0.0591 - val_accuracy: 0.9807\n",
      "Epoch 7/300\n",
      "48000/48000 - 81s - loss: 0.0405 - accuracy: 0.9874 - val_loss: 0.0594 - val_accuracy: 0.9812\n",
      "Epoch 8/300\n",
      "48000/48000 - 82s - loss: 0.0396 - accuracy: 0.9876 - val_loss: 0.0618 - val_accuracy: 0.9796\n",
      "Epoch 9/300\n",
      "48000/48000 - 81s - loss: 0.0403 - accuracy: 0.9873 - val_loss: 0.0606 - val_accuracy: 0.9812\n"
     ]
    }
   ],
   "source": [
    "model.compile(\n",
    "    loss=\"categorical_crossentropy\",\n",
    "    optimizer=\"adam\",\n",
    "    metrics=[\"accuracy\"]\n",
    ")\n",
    "\n",
    "es = EarlyStopping(\n",
    "    mode=\"auto\",\n",
    "    monitor=\"val_loss\",\n",
    "    patience=5,\n",
    "    restore_best_weights=True\n",
    ")\n",
    "\n",
    "history = model.fit(\n",
    "    [xf_train, xc_train, xw_train],\n",
    "    y_train,\n",
    "    batch_size=BATCH_SIZE,\n",
    "    epochs=EPOCHS,\n",
    "    verbose=2,\n",
    "    validation_data=([xf_test, xc_test, xw_test], y_test),\n",
    "    callbacks=[es]\n",
    ")"
   ]
  },
  {
   "cell_type": "code",
   "execution_count": 10,
   "metadata": {},
   "outputs": [
    {
     "name": "stdout",
     "output_type": "stream",
     "text": [
      "Test loss: 0.05728243071523805\n",
      "Test accuracy: 0.98141664\n",
      "Test recall: 0.9509969584319027\n",
      "[[8963   78]\n",
      " [ 145 2814]]\n"
     ]
    }
   ],
   "source": [
    "score = model.evaluate([xf_test, xc_test, xw_test], y_test, verbose=0)\n",
    "print('Test loss:', score[0])\n",
    "print('Test accuracy:', score[1])\n",
    "\n",
    "y_pred_model = model.predict([xf_test, xc_test, xw_test])\n",
    "y_pred = to_bin(y_pred_model)\n",
    "print(\"Test recall: {}\".format(recall(y_test, y_pred)))\n",
    "\n",
    "y_test0 = to_1D(y_test)\n",
    "y_pred0 = to_1D(y_pred)\n",
    "print(confusion_matrix(y_test0, y_pred0))"
   ]
  },
  {
   "cell_type": "code",
   "execution_count": 10,
   "metadata": {},
   "outputs": [
    {
     "data": {
      "image/png": "[encoded data removed]",
      "text/plain": [
       "<Figure size 864x432 with 1 Axes>"
      ]
     },
     "metadata": {
      "needs_background": "light"
     },
     "output_type": "display_data"
    }
   ],
   "source": [
    "plt.figure(figsize=(12, 6))\n",
    "plt.plot(history.history[\"accuracy\"], label=\"Train\")\n",
    "plt.plot(history.history[\"val_accuracy\"], label=\"Test\")\n",
    "plt.legend()\n",
    "plt.xlabel(\"Epochs\")\n",
    "plt.ylabel(\"Accuracy\")\n",
    "plt.show()"
   ]
  },
  {
   "cell_type": "code",
   "execution_count": 11,
   "metadata": {},
   "outputs": [],
   "source": [
    "model.save(\"models/dl/fusion.h5\")"
   ]
  },
  {
   "cell_type": "code",
   "execution_count": null,
   "metadata": {},
   "outputs": [],
   "source": []
  }
 ],
 "metadata": {
  "kernelspec": {
   "display_name": "Python 3",
   "language": "python",
   "name": "python3"
  },
  "language_info": {
   "codemirror_mode": {
    "name": "ipython",
    "version": 3
   },
   "file_extension": ".py",
   "mimetype": "text/x-python",
   "name": "python",
   "nbconvert_exporter": "python",
   "pygments_lexer": "ipython3",
   "version": "3.7.4"
  },
  "varInspector": {
   "cols": {
    "lenName": 16,
    "lenType": 16,
    "lenVar": 40
   },
   "kernels_config": {
    "python": {
     "delete_cmd_postfix": "",
     "delete_cmd_prefix": "del ",
     "library": "var_list.py",
     "varRefreshCmd": "print(var_dic_list())"
    },
    "r": {
     "delete_cmd_postfix": ") ",
     "delete_cmd_prefix": "rm(",
     "library": "var_list.r",
     "varRefreshCmd": "cat(var_dic_list()) "
    }
   },
   "types_to_exclude": [
    "module",
    "function",
    "builtin_function_or_method",
    "instance",
    "_Feature"
   ],
   "window_display": false
  }
 },
 "nbformat": 4,
 "nbformat_minor": 2
}
