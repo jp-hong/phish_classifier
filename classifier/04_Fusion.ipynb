{
 "cells": [
  {
   "cell_type": "code",
   "execution_count": 1,
   "metadata": {},
   "outputs": [
    {
     "name": "stderr",
     "output_type": "stream",
     "text": [
      "c:\\program files\\python37\\lib\\site-packages\\tensorboard\\compat\\tensorflow_stub\\dtypes.py:541: FutureWarning: Passing (type, 1) or '1type' as a synonym of type is deprecated; in a future version of numpy, it will be understood as (type, (1,)) / '(1,)type'.\n",
      "  _np_qint8 = np.dtype([(\"qint8\", np.int8, 1)])\n",
      "c:\\program files\\python37\\lib\\site-packages\\tensorboard\\compat\\tensorflow_stub\\dtypes.py:542: FutureWarning: Passing (type, 1) or '1type' as a synonym of type is deprecated; in a future version of numpy, it will be understood as (type, (1,)) / '(1,)type'.\n",
      "  _np_quint8 = np.dtype([(\"quint8\", np.uint8, 1)])\n",
      "c:\\program files\\python37\\lib\\site-packages\\tensorboard\\compat\\tensorflow_stub\\dtypes.py:543: FutureWarning: Passing (type, 1) or '1type' as a synonym of type is deprecated; in a future version of numpy, it will be understood as (type, (1,)) / '(1,)type'.\n",
      "  _np_qint16 = np.dtype([(\"qint16\", np.int16, 1)])\n",
      "c:\\program files\\python37\\lib\\site-packages\\tensorboard\\compat\\tensorflow_stub\\dtypes.py:544: FutureWarning: Passing (type, 1) or '1type' as a synonym of type is deprecated; in a future version of numpy, it will be understood as (type, (1,)) / '(1,)type'.\n",
      "  _np_quint16 = np.dtype([(\"quint16\", np.uint16, 1)])\n",
      "c:\\program files\\python37\\lib\\site-packages\\tensorboard\\compat\\tensorflow_stub\\dtypes.py:545: FutureWarning: Passing (type, 1) or '1type' as a synonym of type is deprecated; in a future version of numpy, it will be understood as (type, (1,)) / '(1,)type'.\n",
      "  _np_qint32 = np.dtype([(\"qint32\", np.int32, 1)])\n",
      "c:\\program files\\python37\\lib\\site-packages\\tensorboard\\compat\\tensorflow_stub\\dtypes.py:550: FutureWarning: Passing (type, 1) or '1type' as a synonym of type is deprecated; in a future version of numpy, it will be understood as (type, (1,)) / '(1,)type'.\n",
      "  np_resource = np.dtype([(\"resource\", np.ubyte, 1)])\n"
     ]
    }
   ],
   "source": [
    "from tensorflow.keras.models import Model, load_model\n",
    "from tensorflow.keras.layers import concatenate, Reshape, Conv1D, MaxPool1D, Flatten, Dense\n",
    "from tensorflow.keras.callbacks import EarlyStopping\n",
    "from sklearn.model_selection import train_test_split\n",
    "from sklearn.metrics import confusion_matrix\n",
    "import matplotlib.pyplot as plt\n",
    "\n",
    "from code.modelhelper import *"
   ]
  },
  {
   "cell_type": "code",
   "execution_count": 12,
   "metadata": {},
   "outputs": [],
   "source": [
    "NCLASS = 2\n",
    "BATCH_SIZE = 96\n",
    "EPOCHS = 300"
   ]
  },
  {
   "cell_type": "code",
   "execution_count": 4,
   "metadata": {},
   "outputs": [],
   "source": [
    "m1 = load_model(\"models/dl/m1.h5\")\n",
    "m2 = load_model(\"models/dl/m2.h5\")\n",
    "m3 = load_model(\"models/dl/m3.h5\")"
   ]
  },
  {
   "cell_type": "code",
   "execution_count": 5,
   "metadata": {},
   "outputs": [],
   "source": [
    "x_feat = np.load(\"data/xy/x_feat_45_15.npy\")\n",
    "x_char = np.load(\"data/xy/x_char_onehot_45_15.npz\")[\"arr_0\"]\n",
    "x_word = np.load(\"data/xy/x_word_45_15.npy\")\n",
    "y = np.load(\"data/xy/y_onehot_45_15.npy\")"
   ]
  },
  {
   "cell_type": "code",
   "execution_count": 6,
   "metadata": {},
   "outputs": [],
   "source": [
    "xf_train, xf_test, y_train, y_test = train_test_split(\n",
    "    x_feat,\n",
    "    y,\n",
    "    test_size=0.2,\n",
    "    random_state=11\n",
    ")\n",
    "\n",
    "xc_train, xc_test, y_train, y_test = train_test_split(\n",
    "    x_char,\n",
    "    y,\n",
    "    test_size=0.2,\n",
    "    random_state=11\n",
    ")\n",
    "\n",
    "xw_train, xw_test, y_train, y_test = train_test_split(\n",
    "    x_word,\n",
    "    y,\n",
    "    test_size=0.2,\n",
    "    random_state=11\n",
    ")"
   ]
  },
  {
   "cell_type": "code",
   "execution_count": 7,
   "metadata": {},
   "outputs": [],
   "source": [
    "for layer in m1.layers:\n",
    "    layer.trainable = False\n",
    "    \n",
    "for layer in m2.layers:\n",
    "    layer.trainable = False\n",
    "    \n",
    "for layer in m3.layers:\n",
    "    layer.trainable = False"
   ]
  },
  {
   "cell_type": "code",
   "execution_count": 8,
   "metadata": {
    "scrolled": true
   },
   "outputs": [
    {
     "name": "stdout",
     "output_type": "stream",
     "text": [
      "Model: \"model\"\n",
      "__________________________________________________________________________________________________\n",
      "Layer (type)                    Output Shape         Param #     Connected to                     \n",
      "==================================================================================================\n",
      "m2_input (InputLayer)           [(None, 13900)]      0                                            \n",
      "__________________________________________________________________________________________________\n",
      "m2_reshape (Reshape)            (None, 100, 139, 1)  0           m2_input[0][0]                   \n",
      "__________________________________________________________________________________________________\n",
      "m2_timedistributed_1 (TimeDistr (None, 100, 139, 20) 60          m2_reshape[0][0]                 \n",
      "__________________________________________________________________________________________________\n",
      "m2_timedistributed_2 (TimeDistr (None, 100, 69, 20)  0           m2_timedistributed_1[0][0]       \n",
      "__________________________________________________________________________________________________\n",
      "m2_timedistributed_3 (TimeDistr (None, 100, 69, 20)  820         m2_timedistributed_2[0][0]       \n",
      "__________________________________________________________________________________________________\n",
      "m2_timedistributed_4 (TimeDistr (None, 100, 34, 20)  0           m2_timedistributed_3[0][0]       \n",
      "__________________________________________________________________________________________________\n",
      "m2_timedistributed_5 (TimeDistr (None, 100, 34, 20)  820         m2_timedistributed_4[0][0]       \n",
      "__________________________________________________________________________________________________\n",
      "m1_input (InputLayer)           [(None, 50)]         0                                            \n",
      "__________________________________________________________________________________________________\n",
      "m2_timedistributed_6 (TimeDistr (None, 100, 17, 20)  0           m2_timedistributed_5[0][0]       \n",
      "__________________________________________________________________________________________________\n",
      "m1_dense1 (Dense)               (None, 51)           2601        m1_input[0][0]                   \n",
      "__________________________________________________________________________________________________\n",
      "m2_timedistributed_7 (TimeDistr (None, 100, 340)     0           m2_timedistributed_6[0][0]       \n",
      "__________________________________________________________________________________________________\n",
      "m3_input (InputLayer)           [(None, 20)]         0                                            \n",
      "__________________________________________________________________________________________________\n",
      "m1_dense2 (Dense)               (None, 128)          6656        m1_dense1[0][0]                  \n",
      "__________________________________________________________________________________________________\n",
      "m2_dropout_1 (Dropout)          (None, 100, 340)     0           m2_timedistributed_7[0][0]       \n",
      "__________________________________________________________________________________________________\n",
      "m3_embedding (Embedding)        (None, 20, 32)       320000      m3_input[0][0]                   \n",
      "__________________________________________________________________________________________________\n",
      "m1_dropout (Dropout)            (None, 128)          0           m1_dense2[0][0]                  \n",
      "__________________________________________________________________________________________________\n",
      "m2_gru_1 (GRU)                  (None, 100, 256)     459264      m2_dropout_1[0][0]               \n",
      "__________________________________________________________________________________________________\n",
      "m3_spacialdropout1d (SpatialDro (None, 20, 32)       0           m3_embedding[0][0]               \n",
      "__________________________________________________________________________________________________\n",
      "m1_dense3 (Dense)               (None, 32)           4128        m1_dropout[0][0]                 \n",
      "__________________________________________________________________________________________________\n",
      "m2_gru_2 (GRU)                  (None, 256)          394752      m2_gru_1[0][0]                   \n",
      "__________________________________________________________________________________________________\n",
      "m3_lstm (LSTM)                  (None, 32)           8320        m3_spacialdropout1d[0][0]        \n",
      "__________________________________________________________________________________________________\n",
      "concatenate (Concatenate)       (None, 320)          0           m1_dense3[0][0]                  \n",
      "                                                                 m2_gru_2[0][0]                   \n",
      "                                                                 m3_lstm[0][0]                    \n",
      "__________________________________________________________________________________________________\n",
      "fusion_reshape (Reshape)        (None, 320, 1)       0           concatenate[0][0]                \n",
      "__________________________________________________________________________________________________\n",
      "fusion_conv1d_1 (Conv1D)        (None, 320, 32)      96          fusion_reshape[0][0]             \n",
      "__________________________________________________________________________________________________\n",
      "fusion_maxpool1d_1 (MaxPooling1 (None, 160, 32)      0           fusion_conv1d_1[0][0]            \n",
      "__________________________________________________________________________________________________\n",
      "fusion_conv1d_2 (Conv1D)        (None, 160, 32)      2080        fusion_maxpool1d_1[0][0]         \n",
      "__________________________________________________________________________________________________\n",
      "fusion_maxpool1d_2 (MaxPooling1 (None, 80, 32)       0           fusion_conv1d_2[0][0]            \n",
      "__________________________________________________________________________________________________\n",
      "fusion_conv1d_3 (Conv1D)        (None, 80, 32)       2080        fusion_maxpool1d_2[0][0]         \n",
      "__________________________________________________________________________________________________\n",
      "fusion_maxpool1d_3 (MaxPooling1 (None, 40, 32)       0           fusion_conv1d_3[0][0]            \n",
      "__________________________________________________________________________________________________\n",
      "fusion_conv1d_4 (Conv1D)        (None, 40, 32)       2080        fusion_maxpool1d_3[0][0]         \n",
      "__________________________________________________________________________________________________\n",
      "fusion_maxpool1d_4 (MaxPooling1 (None, 20, 32)       0           fusion_conv1d_4[0][0]            \n",
      "__________________________________________________________________________________________________\n",
      "fusion_flatten (Flatten)        (None, 640)          0           fusion_maxpool1d_4[0][0]         \n",
      "__________________________________________________________________________________________________\n",
      "fusion_dense_1 (Dense)          (None, 320)          205120      fusion_flatten[0][0]             \n",
      "__________________________________________________________________________________________________\n",
      "fusion_dense_2 (Dense)          (None, 80)           25680       fusion_dense_1[0][0]             \n",
      "__________________________________________________________________________________________________\n",
      "fusion_output (Dense)           (None, 2)            162         fusion_dense_2[0][0]             \n",
      "==================================================================================================\n",
      "Total params: 1,434,719\n",
      "Trainable params: 237,298\n",
      "Non-trainable params: 1,197,421\n",
      "__________________________________________________________________________________________________\n"
     ]
    }
   ],
   "source": [
    "model_input = concatenate(\n",
    "    [\n",
    "        m1.get_layer(\"m1_dense3\").output,\n",
    "        m2.get_layer(\"m2_gru_2\").output,\n",
    "        m3.get_layer(\"m3_lstm\").output,\n",
    "    ]\n",
    ")\n",
    "\n",
    "H = Reshape((32+256+32, 1), name=\"fusion_reshape\")(model_input)\n",
    "\n",
    "H = Conv1D(\n",
    "    filters=32,\n",
    "    kernel_size=2,\n",
    "    padding=\"same\",\n",
    "    activation=\"tanh\",\n",
    "    name=\"fusion_conv1d_1\"\n",
    ")(H)\n",
    "H = MaxPool1D(2, name=\"fusion_maxpool1d_1\")(H)\n",
    "\n",
    "H = Conv1D(\n",
    "    filters=32,\n",
    "    kernel_size=2,\n",
    "    padding=\"same\",\n",
    "    activation=\"tanh\",\n",
    "    name=\"fusion_conv1d_2\"\n",
    ")(H)\n",
    "H = MaxPool1D(2, name=\"fusion_maxpool1d_2\")(H)\n",
    "\n",
    "H = Conv1D(\n",
    "    filters=32,\n",
    "    kernel_size=2,\n",
    "    padding=\"same\",\n",
    "    activation=\"tanh\",\n",
    "    name=\"fusion_conv1d_3\"\n",
    ")(H)\n",
    "H = MaxPool1D(2, name=\"fusion_maxpool1d_3\")(H)\n",
    "\n",
    "H = Conv1D(\n",
    "    filters=32,\n",
    "    kernel_size=2,\n",
    "    padding=\"same\",\n",
    "    activation=\"tanh\",\n",
    "    name=\"fusion_conv1d_4\"\n",
    ")(H)\n",
    "H = MaxPool1D(2, name=\"fusion_maxpool1d_4\")(H)\n",
    "\n",
    "H = Flatten(name=\"fusion_flatten\")(H)\n",
    "H = Dense(320, activation='tanh', name=\"fusion_dense_1\")(H)\n",
    "H = Dense(80, activation='tanh', name=\"fusion_dense_2\")(H)\n",
    "model_output = Dense(NCLASS, activation='softmax', name=\"fusion_output\")(H)\n",
    "\n",
    "model = Model(inputs=[m1.input, m2.input, m3.input], outputs=model_output)\n",
    "\n",
    "model.summary()"
   ]
  },
  {
   "cell_type": "code",
   "execution_count": 13,
   "metadata": {},
   "outputs": [
    {
     "name": "stdout",
     "output_type": "stream",
     "text": [
      "Train on 48000 samples, validate on 12000 samples\n",
      "Epoch 1/300\n",
      "48000/48000 - 151s - loss: 0.0431 - accuracy: 0.9864 - val_loss: 0.1098 - val_accuracy: 0.9701\n",
      "Epoch 2/300\n",
      "48000/48000 - 146s - loss: 0.0414 - accuracy: 0.9872 - val_loss: 0.0963 - val_accuracy: 0.9689\n",
      "Epoch 3/300\n",
      "48000/48000 - 146s - loss: 0.0419 - accuracy: 0.9875 - val_loss: 0.0861 - val_accuracy: 0.9723\n",
      "Epoch 4/300\n",
      "48000/48000 - 147s - loss: 0.0413 - accuracy: 0.9873 - val_loss: 0.0908 - val_accuracy: 0.9724\n",
      "Epoch 5/300\n",
      "48000/48000 - 147s - loss: 0.0409 - accuracy: 0.9870 - val_loss: 0.1083 - val_accuracy: 0.9703\n",
      "Epoch 6/300\n",
      "48000/48000 - 146s - loss: 0.0406 - accuracy: 0.9873 - val_loss: 0.0886 - val_accuracy: 0.9719\n",
      "Epoch 7/300\n",
      "48000/48000 - 147s - loss: 0.0401 - accuracy: 0.9872 - val_loss: 0.1015 - val_accuracy: 0.9706\n",
      "Epoch 8/300\n",
      "48000/48000 - 147s - loss: 0.0397 - accuracy: 0.9879 - val_loss: 0.0891 - val_accuracy: 0.9735\n"
     ]
    }
   ],
   "source": [
    "model.compile(\n",
    "    loss=\"categorical_crossentropy\",\n",
    "    optimizer=\"adam\",\n",
    "    metrics=[\"accuracy\"]\n",
    ")\n",
    "\n",
    "es = EarlyStopping(\n",
    "    mode=\"auto\",\n",
    "    monitor=\"val_loss\",\n",
    "    patience=5,\n",
    "    restore_best_weights=True\n",
    ")\n",
    "\n",
    "history = model.fit(\n",
    "    [xf_train, xc_train, xw_train],\n",
    "    y_train,\n",
    "    batch_size=BATCH_SIZE,\n",
    "    epochs=EPOCHS,\n",
    "    verbose=2,\n",
    "    validation_data=([xf_test, xc_test, xw_test], y_test),\n",
    "    callbacks=[es]\n",
    ")"
   ]
  },
  {
   "cell_type": "code",
   "execution_count": 14,
   "metadata": {},
   "outputs": [
    {
     "name": "stdout",
     "output_type": "stream",
     "text": [
      "Test loss: 0.08608849087481697\n",
      "Test accuracy: 0.9723333\n",
      "Test recall: 0.9182156133828996\n",
      "[[8951   90]\n",
      " [ 242 2717]]\n"
     ]
    }
   ],
   "source": [
    "score = model.evaluate([xf_test, xc_test, xw_test], y_test, verbose=0)\n",
    "print('Test loss:', score[0])\n",
    "print('Test accuracy:', score[1])\n",
    "\n",
    "y_pred_model = model.predict([xf_test, xc_test, xw_test])\n",
    "y_pred = to_bin(y_pred_model)\n",
    "print(\"Test recall: {}\".format(recall(y_test, y_pred)))\n",
    "\n",
    "y_test0 = to_1D(y_test)\n",
    "y_pred0 = to_1D(y_pred)\n",
    "print(confusion_matrix(y_test0, y_pred0))"
   ]
  },
  {
   "cell_type": "code",
   "execution_count": 15,
   "metadata": {},
   "outputs": [
    {
     "data": {
      "image/png": "[encoded data removed]",
      "text/plain": [
       "<Figure size 864x432 with 1 Axes>"
      ]
     },
     "metadata": {
      "needs_background": "light"
     },
     "output_type": "display_data"
    }
   ],
   "source": [
    "plt.figure(figsize=(12, 6))\n",
    "plt.plot(history.history[\"accuracy\"], label=\"Train\")\n",
    "plt.plot(history.history[\"val_accuracy\"], label=\"Test\")\n",
    "plt.legend()\n",
    "plt.xlabel(\"Epochs\")\n",
    "plt.ylabel(\"Accuracy\")\n",
    "plt.show()"
   ]
  },
  {
   "cell_type": "code",
   "execution_count": 23,
   "metadata": {},
   "outputs": [],
   "source": [
    "model.save(\"models/dl/fusion.h5\")"
   ]
  },
  {
   "cell_type": "code",
   "execution_count": null,
   "metadata": {},
   "outputs": [],
   "source": []
  }
 ],
 "metadata": {
  "kernelspec": {
   "display_name": "Python 3",
   "language": "python",
   "name": "python3"
  },
  "language_info": {
   "codemirror_mode": {
    "name": "ipython",
    "version": 3
   },
   "file_extension": ".py",
   "mimetype": "text/x-python",
   "name": "python",
   "nbconvert_exporter": "python",
   "pygments_lexer": "ipython3",
   "version": "3.7.4"
  },
  "varInspector": {
   "cols": {
    "lenName": 16,
    "lenType": 16,
    "lenVar": 40
   },
   "kernels_config": {
    "python": {
     "delete_cmd_postfix": "",
     "delete_cmd_prefix": "del ",
     "library": "var_list.py",
     "varRefreshCmd": "print(var_dic_list())"
    },
    "r": {
     "delete_cmd_postfix": ") ",
     "delete_cmd_prefix": "rm(",
     "library": "var_list.r",
     "varRefreshCmd": "cat(var_dic_list()) "
    }
   },
   "types_to_exclude": [
    "module",
    "function",
    "builtin_function_or_method",
    "instance",
    "_Feature"
   ],
   "window_display": false
  }
 },
 "nbformat": 4,
 "nbformat_minor": 2
}
