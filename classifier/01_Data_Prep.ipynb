{
 "cells": [
  {
   "cell_type": "code",
   "execution_count": 1,
   "metadata": {},
   "outputs": [
    {
     "name": "stderr",
     "output_type": "stream",
     "text": [
      "Using TensorFlow backend.\n"
     ]
    }
   ],
   "source": [
    "import pandas as pd\n",
    "import numpy as np\n",
    "from keras.utils.np_utils import to_categorical\n",
    "from keras.preprocessing.text import Tokenizer\n",
    "from keras.preprocessing.sequence import pad_sequences\n",
    "from sklearn.feature_extraction.text import TfidfVectorizer, CountVectorizer\n",
    "from urllib.parse import urlparse\n",
    "from tldextract import extract\n",
    "\n",
    "from code.util import *\n",
    "from code.preprocessor import *\n",
    "from code.gofaster import *"
   ]
  },
  {
   "cell_type": "code",
   "execution_count": 2,
   "metadata": {},
   "outputs": [],
   "source": [
    "data = load(\"data/urls_sampled.pkl\")"
   ]
  },
  {
   "cell_type": "code",
   "execution_count": 3,
   "metadata": {},
   "outputs": [],
   "source": [
    "MAX_WORDS = 4000\n",
    "MI_WORDS = 30\n",
    "MAX_SENTENCE_LEN = 20"
   ]
  },
  {
   "cell_type": "markdown",
   "metadata": {},
   "source": [
    "# Vectorizers"
   ]
  },
  {
   "cell_type": "code",
   "execution_count": 4,
   "metadata": {},
   "outputs": [],
   "source": [
    "cnt = CountVectorizer(\n",
    "    tokenizer=tokenize,\n",
    "    max_features=MAX_WORDS\n",
    ")"
   ]
  },
  {
   "cell_type": "code",
   "execution_count": 5,
   "metadata": {},
   "outputs": [],
   "source": [
    "tf = TfidfVectorizer(\n",
    "    tokenizer=tokenize,\n",
    "    max_features=MAX_WORDS\n",
    ")"
   ]
  },
  {
   "cell_type": "code",
   "execution_count": 6,
   "metadata": {},
   "outputs": [],
   "source": [
    "tk = Tokenizer(\n",
    "    num_words=MAX_WORDS,\n",
    "    filters='!\"#$%&()*+,-.:;<=>?@[\\\\]^_`{|}~',\n",
    "    split=\"/\"\n",
    ")"
   ]
  },
  {
   "cell_type": "code",
   "execution_count": 7,
   "metadata": {},
   "outputs": [],
   "source": [
    "x0 = data.url\n",
    "y0 = data.target"
   ]
  },
  {
   "cell_type": "code",
   "execution_count": 8,
   "metadata": {},
   "outputs": [],
   "source": [
    "y_onehot = to_categorical(y0)\n",
    "\n",
    "save(y_onehot, \"data/largefiles/y_onehot.pkl\")"
   ]
  },
  {
   "cell_type": "code",
   "execution_count": 9,
   "metadata": {},
   "outputs": [],
   "source": [
    "x_count = cnt.fit_transform(x0).toarray()\n",
    "x_tfidf = tf.fit_transform(x0).toarray()\n",
    "\n",
    "save(x_count, \"data/largefiles/x_count.pkl\")\n",
    "save(x_tfidf, \"data/largefiles/x_tfidf.pkl\")"
   ]
  },
  {
   "cell_type": "code",
   "execution_count": 10,
   "metadata": {},
   "outputs": [],
   "source": [
    "tk.fit_on_texts(x0)\n",
    "x_word = pad_sequences(tk.texts_to_sequences(x0), maxlen=MAX_SENTENCE_LEN)\n",
    "\n",
    "save(x_word, \"data/largefiles/x_word.pkl\")"
   ]
  },
  {
   "cell_type": "code",
   "execution_count": 11,
   "metadata": {},
   "outputs": [],
   "source": [
    "x_char = np.vstack(data.url.apply(char_level_encoder))\n",
    "\n",
    "save(x_char, \"data/largefiles/x_char.pkl\")"
   ]
  },
  {
   "cell_type": "markdown",
   "metadata": {},
   "source": [
    "# Feature Engineering"
   ]
  },
  {
   "cell_type": "code",
   "execution_count": 12,
   "metadata": {},
   "outputs": [],
   "source": [
    "words = load(\"data/mi_100.pkl\")"
   ]
  },
  {
   "cell_type": "code",
   "execution_count": 13,
   "metadata": {},
   "outputs": [],
   "source": [
    "suspicious_tlds = ['country','stream','download','xin','gdn','racing', \n",
    "                   'jetzt','win','bid','vip', 'ren', 'kim', 'loan',\n",
    "                   'mom', 'party', 'review', 'trade', 'date', 'wang',\n",
    "                   'accountants', 'zip','cricket','link','work','gq',\n",
    "                   'science','tk', 'world', 'fit', 'work' 'ryukyu',\n",
    "                   'life', 'cloud', 'desi', 'okinawa', 'ooo','men',\n",
    "                   'click', 'loan', 'top', 'cf', 'ml', 'ga']"
   ]
  },
  {
   "cell_type": "code",
   "execution_count": 14,
   "metadata": {},
   "outputs": [],
   "source": [
    "data[\"tokens\"] = data.url.apply(tokenize)\n",
    "data[\"len_url\"] = data.url.apply(len)\n",
    "data[\"len_tok\"] = data.tokens.apply(len)\n",
    "data[\"slash\"] = data.url.apply(lambda url: url.count(\"/\"))\n",
    "data[\"dbl_slash\"] = data.url.apply(lambda url: url.count(\"//\"))\n",
    "data[\"dot\"] = data.url.apply(lambda url: url.count(\".\"))\n",
    "data[\"at\"] = data.url.apply(lambda url: url.count(\"@\"))\n",
    "data[\"dash\"] = data.url.apply(lambda url: url.count(\"-\"))\n",
    "data[\"qmark\"] = data.url.apply(lambda url: url.count(\"?\"))\n",
    "data[\"amp\"] = data.url.apply(lambda url: url.count(\"&\"))\n",
    "data[\"hash\"] = data.url.apply(lambda url: url.count(\"#\"))\n",
    "data[\"perc\"] = data.url.apply(lambda url: url.count(\"%\"))\n",
    "data[\"eq\"] = data.url.apply(lambda url: url.count(\"=\"))\n",
    "data[\"colon\"] = data.url.apply(lambda url: url.count(\":\"))\n",
    "data[\"scolon\"] = data.url.apply(lambda url: url.count(\";\"))\n",
    "data[\"scheme\"] = data.url.apply(lambda url: urlparse(url).scheme)\n",
    "data[\"netloc\"] = data.url.apply(lambda url: urlparse(url).netloc)\n",
    "data[\"tld\"] = data.netloc.apply(lambda netloc: extract(netloc).suffix)\n",
    "data[\"suspicious\"] = data.tld.apply(lambda tld: 1 if tld in suspicious_tlds else 0)\n",
    "\n",
    "for i in range(MI_WORDS):\n",
    "    data[\"mi%d\" % (i)] = data.tokens.apply(lambda tokens: 1 if words[i] in tokens else 0)\n",
    "    \n",
    "dummies = pd.get_dummies(data.scheme, drop_first=True)\n",
    "data = pd.concat([data, dummies], axis=1)"
   ]
  },
  {
   "cell_type": "code",
   "execution_count": 15,
   "metadata": {},
   "outputs": [
    {
     "data": {
      "text/plain": [
       "Index(['target', 'url', 'tokens', 'len_url', 'len_tok', 'slash', 'dbl_slash',\n",
       "       'dot', 'at', 'dash', 'qmark', 'amp', 'hash', 'perc', 'eq', 'colon',\n",
       "       'scolon', 'scheme', 'netloc', 'tld', 'suspicious', 'mi0', 'mi1', 'mi2',\n",
       "       'mi3', 'mi4', 'mi5', 'mi6', 'mi7', 'mi8', 'mi9', 'mi10', 'mi11', 'mi12',\n",
       "       'mi13', 'mi14', 'mi15', 'mi16', 'mi17', 'mi18', 'mi19', 'mi20', 'mi21',\n",
       "       'mi22', 'mi23', 'mi24', 'mi25', 'mi26', 'mi27', 'mi28', 'mi29', 'ftp',\n",
       "       'gopher', 'http', 'https', 'sherlock'],\n",
       "      dtype='object')"
      ]
     },
     "execution_count": 15,
     "metadata": {},
     "output_type": "execute_result"
    }
   ],
   "source": [
    "data.columns"
   ]
  },
  {
   "cell_type": "code",
   "execution_count": 16,
   "metadata": {},
   "outputs": [],
   "source": [
    "drop = [\n",
    "    \"target\",\n",
    "    \"url\",\n",
    "    \"tokens\",\n",
    "    \"scheme\",\n",
    "    \"netloc\",\n",
    "    \"tld\"\n",
    "]"
   ]
  },
  {
   "cell_type": "code",
   "execution_count": 17,
   "metadata": {},
   "outputs": [],
   "source": [
    "data0 = data.drop(columns=drop, axis=1)"
   ]
  },
  {
   "cell_type": "code",
   "execution_count": 18,
   "metadata": {},
   "outputs": [],
   "source": [
    "save(data0.values, \"data/largefiles/x_feat.pkl\")"
   ]
  },
  {
   "cell_type": "code",
   "execution_count": null,
   "metadata": {},
   "outputs": [],
   "source": []
  }
 ],
 "metadata": {
  "kernelspec": {
   "display_name": "Python 3",
   "language": "python",
   "name": "python3"
  },
  "language_info": {
   "codemirror_mode": {
    "name": "ipython",
    "version": 3
   },
   "file_extension": ".py",
   "mimetype": "text/x-python",
   "name": "python",
   "nbconvert_exporter": "python",
   "pygments_lexer": "ipython3",
   "version": "3.7.4"
  },
  "varInspector": {
   "cols": {
    "lenName": 16,
    "lenType": 16,
    "lenVar": 40
   },
   "kernels_config": {
    "python": {
     "delete_cmd_postfix": "",
     "delete_cmd_prefix": "del ",
     "library": "var_list.py",
     "varRefreshCmd": "print(var_dic_list())"
    },
    "r": {
     "delete_cmd_postfix": ") ",
     "delete_cmd_prefix": "rm(",
     "library": "var_list.r",
     "varRefreshCmd": "cat(var_dic_list()) "
    }
   },
   "types_to_exclude": [
    "module",
    "function",
    "builtin_function_or_method",
    "instance",
    "_Feature"
   ],
   "window_display": false
  }
 },
 "nbformat": 4,
 "nbformat_minor": 2
}
