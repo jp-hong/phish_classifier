{
 "cells": [
  {
   "cell_type": "code",
   "execution_count": 1,
   "metadata": {},
   "outputs": [],
   "source": [
    "import pandas as pd\n",
    "import numpy as np\n",
    "from tensorflow.keras.utils import to_categorical\n",
    "from tensorflow.keras.preprocessing.text import Tokenizer\n",
    "from tensorflow.keras.preprocessing.sequence import pad_sequences\n",
    "from urllib.parse import urlparse\n",
    "from tldextract import extract\n",
    "\n",
    "from code.util import *\n",
    "from code.preprocessor import *\n",
    "\n",
    "N0 = 45000\n",
    "N1 = 15000\n",
    "VOCAB = 5000\n",
    "CVECT = 100\n",
    "WVECT = 20\n",
    "UCHARS = 139\n",
    "MI = 30"
   ]
  },
  {
   "cell_type": "markdown",
   "metadata": {},
   "source": [
    "# Sampling"
   ]
  },
  {
   "cell_type": "code",
   "execution_count": 2,
   "metadata": {},
   "outputs": [],
   "source": [
    "url0 = pd.read_csv(\"data/raw/url_0.csv\", skiprows=0).sample(\n",
    "    n=N0,\n",
    "    random_state=11\n",
    ").reset_index(drop=True)\n",
    "\n",
    "url1 = pd.read_csv(\"data/raw/url_1.csv\", skiprows=0).sample(\n",
    "    n=N1,\n",
    "    random_state=11\n",
    ").reset_index(drop=True)"
   ]
  },
  {
   "cell_type": "code",
   "execution_count": 3,
   "metadata": {},
   "outputs": [],
   "source": [
    "url0[\"target\"] = pd.Series(np.zeros(N0).astype(np.int32))\n",
    "url1[\"target\"] = pd.Series(np.ones(N1).astype(np.int32))"
   ]
  },
  {
   "cell_type": "code",
   "execution_count": 4,
   "metadata": {},
   "outputs": [],
   "source": [
    "url = pd.concat(\n",
    "    [\n",
    "        url0[[\"url\", \"target\"]],\n",
    "        url1[[\"url\", \"target\"]]\n",
    "    ]\n",
    ")"
   ]
  },
  {
   "cell_type": "code",
   "execution_count": 5,
   "metadata": {},
   "outputs": [],
   "source": [
    "save(url, \"data/url_45_15.pkl\")"
   ]
  },
  {
   "cell_type": "markdown",
   "metadata": {},
   "source": [
    "# X, Y"
   ]
  },
  {
   "cell_type": "code",
   "execution_count": 6,
   "metadata": {},
   "outputs": [],
   "source": [
    "x0 = url.url\n",
    "y0 = url.target"
   ]
  },
  {
   "cell_type": "markdown",
   "metadata": {},
   "source": [
    "# Target Onehot"
   ]
  },
  {
   "cell_type": "code",
   "execution_count": 7,
   "metadata": {},
   "outputs": [],
   "source": [
    "y_onehot = to_categorical(y0, dtype=np.int32)\n",
    "np.save(\"data/xy/y_onehot.npy\", y_onehot)"
   ]
  },
  {
   "cell_type": "markdown",
   "metadata": {},
   "source": [
    "# Vectorizers"
   ]
  },
  {
   "cell_type": "code",
   "execution_count": 8,
   "metadata": {},
   "outputs": [],
   "source": [
    "tk = Tokenizer(\n",
    "    num_words=VOCAB,\n",
    "    filters='!\"#$%&()*+,-.:;<=>?@[\\\\]^_`{|}~',\n",
    "    split=\"/\"\n",
    ")"
   ]
  },
  {
   "cell_type": "code",
   "execution_count": 9,
   "metadata": {},
   "outputs": [
    {
     "data": {
      "text/plain": [
       "(60000, 20)"
      ]
     },
     "execution_count": 9,
     "metadata": {},
     "output_type": "execute_result"
    }
   ],
   "source": [
    "tk.fit_on_texts(x0)\n",
    "x_word = pad_sequences(tk.texts_to_sequences(x0), maxlen=WVECT)\n",
    "x_word.shape"
   ]
  },
  {
   "cell_type": "code",
   "execution_count": 10,
   "metadata": {},
   "outputs": [],
   "source": [
    "np.save(\"data/xy/x_word_45_15.npy\", x_word)"
   ]
  },
  {
   "cell_type": "markdown",
   "metadata": {},
   "source": [
    "# Character Level Vectorizer"
   ]
  },
  {
   "cell_type": "code",
   "execution_count": 11,
   "metadata": {},
   "outputs": [],
   "source": [
    "x_char = np.vstack(url.url.apply(char_level_encoder, args=(CVECT,)))"
   ]
  },
  {
   "cell_type": "markdown",
   "metadata": {},
   "source": [
    "## Onehot"
   ]
  },
  {
   "cell_type": "code",
   "execution_count": 12,
   "metadata": {},
   "outputs": [],
   "source": [
    "unique_chars = np.unique(x_char).astype(int)"
   ]
  },
  {
   "cell_type": "code",
   "execution_count": 13,
   "metadata": {},
   "outputs": [
    {
     "data": {
      "text/plain": [
       "(60000, 13900)"
      ]
     },
     "execution_count": 13,
     "metadata": {},
     "output_type": "execute_result"
    }
   ],
   "source": [
    "x_char_onehot = char_onehot(x_char, unique_chars, UCHARS)\n",
    "x_char_onehot.shape"
   ]
  },
  {
   "cell_type": "code",
   "execution_count": 14,
   "metadata": {},
   "outputs": [],
   "source": [
    "np.savez_compressed(\"data/xy/x_char_onehot_45_15.npz\", x_char_onehot)"
   ]
  },
  {
   "cell_type": "markdown",
   "metadata": {},
   "source": [
    "# Feature Engineering"
   ]
  },
  {
   "cell_type": "code",
   "execution_count": 4,
   "metadata": {},
   "outputs": [],
   "source": [
    "data = load(\"data/url_45_15.pkl\")"
   ]
  },
  {
   "cell_type": "code",
   "execution_count": 2,
   "metadata": {},
   "outputs": [],
   "source": [
    "words = load(\"data/mi_100.pkl\")"
   ]
  },
  {
   "cell_type": "code",
   "execution_count": 3,
   "metadata": {},
   "outputs": [],
   "source": [
    "suspicious_tlds = ['country','stream','download','xin','gdn','racing', \n",
    "                   'jetzt','win','bid','vip', 'ren', 'kim', 'loan',\n",
    "                   'mom', 'party', 'review', 'trade', 'date', 'wang',\n",
    "                   'accountants', 'zip','cricket','link','work','gq',\n",
    "                   'science','tk', 'world', 'fit', 'work' 'ryukyu',\n",
    "                   'life', 'cloud', 'desi', 'okinawa', 'ooo','men',\n",
    "                   'click', 'loan', 'top', 'cf', 'ml', 'ga']"
   ]
  },
  {
   "cell_type": "code",
   "execution_count": 6,
   "metadata": {},
   "outputs": [],
   "source": [
    "data[\"tokens\"] = data.url.apply(tokenize)\n",
    "data[\"len_url\"] = data.url.apply(len)\n",
    "data[\"len_tok\"] = data.tokens.apply(len)\n",
    "data[\"slash\"] = data.url.apply(lambda url: url.count(\"/\"))\n",
    "data[\"dbl_slash\"] = data.url.apply(lambda url: url.count(\"//\"))\n",
    "data[\"dot\"] = data.url.apply(lambda url: url.count(\".\"))\n",
    "data[\"at\"] = data.url.apply(lambda url: url.count(\"@\"))\n",
    "data[\"dash\"] = data.url.apply(lambda url: url.count(\"-\"))\n",
    "data[\"qmark\"] = data.url.apply(lambda url: url.count(\"?\"))\n",
    "data[\"amp\"] = data.url.apply(lambda url: url.count(\"&\"))\n",
    "data[\"hash\"] = data.url.apply(lambda url: url.count(\"#\"))\n",
    "data[\"perc\"] = data.url.apply(lambda url: url.count(\"%\"))\n",
    "data[\"eq\"] = data.url.apply(lambda url: url.count(\"=\"))\n",
    "data[\"colon\"] = data.url.apply(lambda url: url.count(\":\"))\n",
    "data[\"scolon\"] = data.url.apply(lambda url: url.count(\";\"))\n",
    "data[\"scheme\"] = data.url.apply(lambda url: urlparse(url).scheme)\n",
    "data[\"netloc\"] = data.url.apply(lambda url: urlparse(url).netloc)\n",
    "data[\"tld\"] = data.netloc.apply(lambda netloc: extract(netloc).suffix)\n",
    "data[\"suspicious\"] = data.tld.apply(lambda tld: 1 if tld in suspicious_tlds else 0)\n",
    "\n",
    "def non_ascii(url):\n",
    "    n = 0\n",
    "    \n",
    "    for c in url:\n",
    "        if ord(c) > 127:\n",
    "            n += 1\n",
    "            \n",
    "    return n\n",
    "\n",
    "data[\"non_ascii\"] = data.url.apply(non_ascii)\n",
    "\n",
    "for i in range(MI):\n",
    "    data[\"mi%d\" % (i)] = data.tokens.apply(lambda tokens: 1 if words[i] in tokens else 0)\n",
    "    \n",
    "dummies = pd.get_dummies(data.scheme, drop_first=True)\n",
    "data = pd.concat([data, dummies], axis=1)"
   ]
  },
  {
   "cell_type": "code",
   "execution_count": 8,
   "metadata": {},
   "outputs": [],
   "source": [
    "drop = [\n",
    "    \"target\",\n",
    "    \"url\",\n",
    "    \"tokens\",\n",
    "    \"scheme\",\n",
    "    \"netloc\",\n",
    "    \"tld\"\n",
    "]\n",
    "\n",
    "data = data.drop(columns=drop, axis=1)"
   ]
  },
  {
   "cell_type": "code",
   "execution_count": 10,
   "metadata": {},
   "outputs": [],
   "source": [
    "np.save(\"data/xy/x_feat_45_15.npy\", data.values)"
   ]
  },
  {
   "cell_type": "code",
   "execution_count": null,
   "metadata": {},
   "outputs": [],
   "source": []
  }
 ],
 "metadata": {
  "kernelspec": {
   "display_name": "Python 3",
   "language": "python",
   "name": "python3"
  },
  "language_info": {
   "codemirror_mode": {
    "name": "ipython",
    "version": 3
   },
   "file_extension": ".py",
   "mimetype": "text/x-python",
   "name": "python",
   "nbconvert_exporter": "python",
   "pygments_lexer": "ipython3",
   "version": "3.7.4"
  },
  "varInspector": {
   "cols": {
    "lenName": 16,
    "lenType": 16,
    "lenVar": 40
   },
   "kernels_config": {
    "python": {
     "delete_cmd_postfix": "",
     "delete_cmd_prefix": "del ",
     "library": "var_list.py",
     "varRefreshCmd": "print(var_dic_list())"
    },
    "r": {
     "delete_cmd_postfix": ") ",
     "delete_cmd_prefix": "rm(",
     "library": "var_list.r",
     "varRefreshCmd": "cat(var_dic_list()) "
    }
   },
   "types_to_exclude": [
    "module",
    "function",
    "builtin_function_or_method",
    "instance",
    "_Feature"
   ],
   "window_display": false
  }
 },
 "nbformat": 4,
 "nbformat_minor": 2
}
