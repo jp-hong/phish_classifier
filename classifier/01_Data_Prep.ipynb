{
 "cells": [
  {
   "cell_type": "code",
   "execution_count": 24,
   "metadata": {},
   "outputs": [],
   "source": [
    "import pandas as pd\n",
    "import numpy as np\n",
    "import re\n",
    "from tensorflow.keras.utils import to_categorical\n",
    "from tensorflow.keras.preprocessing.text import Tokenizer\n",
    "from tensorflow.keras.preprocessing.sequence import pad_sequences\n",
    "from urllib.parse import urlparse\n",
    "from tldextract import extract\n",
    "from numba import jit\n",
    "\n",
    "import wordsegment as ws\n",
    "ws.load()\n",
    "\n",
    "from code.util import *\n",
    "from code.preprocessor import *\n",
    "from code.gofaster import *\n",
    "\n",
    "gf = GoFaster(11, 22)\n",
    "\n",
    "N0 = 45000\n",
    "N1 = 15000\n",
    "VOCAB = 10000\n",
    "CVECT = 100\n",
    "WVECT = 20\n",
    "UCHARS = 139\n",
    "MI = 30"
   ]
  },
  {
   "cell_type": "markdown",
   "metadata": {
    "heading_collapsed": true
   },
   "source": [
    "# Sampling"
   ]
  },
  {
   "cell_type": "code",
   "execution_count": null,
   "metadata": {
    "hidden": true
   },
   "outputs": [],
   "source": [
    "url0 = pd.read_csv(\"data/raw/url_0.csv\", skiprows=0).sample(\n",
    "    n=N0,\n",
    "    random_state=11\n",
    ").reset_index(drop=True)\n",
    "\n",
    "url1 = pd.read_csv(\"data/raw/url_1.csv\", skiprows=0).sample(\n",
    "    n=N1,\n",
    "    random_state=11\n",
    ").reset_index(drop=True)"
   ]
  },
  {
   "cell_type": "code",
   "execution_count": null,
   "metadata": {
    "hidden": true
   },
   "outputs": [],
   "source": [
    "url0[\"target\"] = pd.Series(np.zeros(N0).astype(np.int32))\n",
    "url1[\"target\"] = pd.Series(np.ones(N1).astype(np.int32))"
   ]
  },
  {
   "cell_type": "code",
   "execution_count": null,
   "metadata": {
    "hidden": true
   },
   "outputs": [],
   "source": [
    "url = pd.concat(\n",
    "    [\n",
    "        url0[[\"url\", \"target\"]],\n",
    "        url1[[\"url\", \"target\"]]\n",
    "    ]\n",
    ")"
   ]
  },
  {
   "cell_type": "code",
   "execution_count": null,
   "metadata": {
    "hidden": true
   },
   "outputs": [],
   "source": [
    "save(url, \"data/url_45_15.pkl\")"
   ]
  },
  {
   "cell_type": "markdown",
   "metadata": {
    "heading_collapsed": true
   },
   "source": [
    "# X, Y"
   ]
  },
  {
   "cell_type": "code",
   "execution_count": null,
   "metadata": {
    "hidden": true
   },
   "outputs": [],
   "source": [
    "x0 = url.url\n",
    "y0 = url.target"
   ]
  },
  {
   "cell_type": "markdown",
   "metadata": {
    "heading_collapsed": true
   },
   "source": [
    "# Target Onehot"
   ]
  },
  {
   "cell_type": "code",
   "execution_count": null,
   "metadata": {
    "hidden": true
   },
   "outputs": [],
   "source": [
    "y_onehot = to_categorical(y0, dtype=np.int32)\n",
    "np.save(\"data/xy/y_onehot_45_15.npy\", y_onehot)"
   ]
  },
  {
   "cell_type": "markdown",
   "metadata": {
    "heading_collapsed": true
   },
   "source": [
    "# Vectorizers"
   ]
  },
  {
   "cell_type": "code",
   "execution_count": null,
   "metadata": {
    "hidden": true
   },
   "outputs": [],
   "source": [
    "tk = Tokenizer(\n",
    "    num_words=VOCAB,\n",
    "    filters='!\"#$%&()*+,-.:;<=>?@[\\\\]^_`{|}~',\n",
    "    split=\"/\"\n",
    ")"
   ]
  },
  {
   "cell_type": "code",
   "execution_count": null,
   "metadata": {
    "hidden": true
   },
   "outputs": [],
   "source": [
    "tk.fit_on_texts(x0)\n",
    "x_word = pad_sequences(tk.texts_to_sequences(x0), maxlen=WVECT)\n",
    "x_word.shape"
   ]
  },
  {
   "cell_type": "code",
   "execution_count": null,
   "metadata": {
    "hidden": true
   },
   "outputs": [],
   "source": [
    "np.save(\"data/xy/x_word_45_15_10000.npy\", x_word)"
   ]
  },
  {
   "cell_type": "markdown",
   "metadata": {
    "heading_collapsed": true
   },
   "source": [
    "# Character Level Vectorizer"
   ]
  },
  {
   "cell_type": "code",
   "execution_count": 2,
   "metadata": {
    "hidden": true
   },
   "outputs": [],
   "source": [
    "url = load(\"data/url_45_15.pkl\")"
   ]
  },
  {
   "cell_type": "code",
   "execution_count": 3,
   "metadata": {
    "hidden": true
   },
   "outputs": [],
   "source": [
    "x_char = np.vstack(url.url.apply(char_level_encoder, args=(CVECT,)))"
   ]
  },
  {
   "cell_type": "code",
   "execution_count": 4,
   "metadata": {
    "hidden": true
   },
   "outputs": [
    {
     "data": {
      "text/plain": [
       "array([[104, 116, 116, ...,   0,   0,   0],\n",
       "       [104, 116, 116, ...,   0,   0,   0],\n",
       "       [104, 116, 116, ...,   0,   0,   0],\n",
       "       ...,\n",
       "       [104, 116, 116, ..., 117, 115, 116],\n",
       "       [104, 116, 116, ...,   0,   0,   0],\n",
       "       [104, 116, 116, ...,   0,   0,   0]])"
      ]
     },
     "execution_count": 4,
     "metadata": {},
     "output_type": "execute_result"
    }
   ],
   "source": [
    "x_char"
   ]
  },
  {
   "cell_type": "code",
   "execution_count": 5,
   "metadata": {
    "hidden": true
   },
   "outputs": [
    {
     "data": {
      "text/plain": [
       "(60000, 100)"
      ]
     },
     "execution_count": 5,
     "metadata": {},
     "output_type": "execute_result"
    }
   ],
   "source": [
    "x_char.shape"
   ]
  },
  {
   "cell_type": "markdown",
   "metadata": {
    "hidden": true
   },
   "source": [
    "## Onehot"
   ]
  },
  {
   "cell_type": "code",
   "execution_count": 6,
   "metadata": {
    "hidden": true
   },
   "outputs": [
    {
     "data": {
      "text/plain": [
       "140"
      ]
     },
     "execution_count": 6,
     "metadata": {},
     "output_type": "execute_result"
    }
   ],
   "source": [
    "unique_chars = np.unique(x_char).astype(int)\n",
    "len(unique_chars)"
   ]
  },
  {
   "cell_type": "code",
   "execution_count": 7,
   "metadata": {
    "hidden": true
   },
   "outputs": [
    {
     "data": {
      "text/plain": [
       "(60000, 13900)"
      ]
     },
     "execution_count": 7,
     "metadata": {},
     "output_type": "execute_result"
    }
   ],
   "source": [
    "x_char_onehot = char_onehot(x_char, unique_chars, UCHARS)\n",
    "x_char_onehot.shape"
   ]
  },
  {
   "cell_type": "code",
   "execution_count": 8,
   "metadata": {
    "hidden": true
   },
   "outputs": [],
   "source": [
    "np.savez_compressed(\"data/xy/x_char_onehot_45_15.npz\", x_char_onehot)"
   ]
  },
  {
   "cell_type": "markdown",
   "metadata": {},
   "source": [
    "# Feature Engineering"
   ]
  },
  {
   "cell_type": "code",
   "execution_count": 51,
   "metadata": {},
   "outputs": [],
   "source": [
    "data = load(\"data/url_45_15.pkl\")"
   ]
  },
  {
   "cell_type": "code",
   "execution_count": 52,
   "metadata": {},
   "outputs": [],
   "source": [
    "mi_words = load(\"data/mi_100.pkl\")\n",
    "mi_words = list(filter(lambda word: True if len(word) >= 3 else False, words))\n",
    "\n",
    "suspicious_words = [\"confirm\", \"account\", \"banking\", \"secure\", \"ebayisapi\", \"webscr\",\n",
    "           \"login\", \"signin\", \"exe\", \"zip\"]\n",
    "\n",
    "companies = [\"ebay\", \"paypal\", \"bankofscotland\", \"volksbank\", \"wellsfargo\",\n",
    "            \"bankofamerica\", \"privatebanking\", \"hsbc\", \"chase\", \"amazon\",\n",
    "            \"banamex\", \"barclays\"]\n",
    "\n",
    "keywords = list(set(mi_words + suspicious_words + companies))"
   ]
  },
  {
   "cell_type": "code",
   "execution_count": 53,
   "metadata": {},
   "outputs": [],
   "source": [
    "suspicious_tlds = ['country','stream','download','xin','gdn','racing', \n",
    "                   'jetzt','win','bid','vip', 'ren', 'kim', 'loan',\n",
    "                   'mom', 'party', 'review', 'trade', 'date', 'wang',\n",
    "                   'accountants', 'zip','cricket','link','work','gq',\n",
    "                   'science','tk', 'world', 'fit', 'work' 'ryukyu',\n",
    "                   'life', 'cloud', 'desi', 'okinawa', 'ooo','men',\n",
    "                   'click', 'loan', 'top', 'cf', 'ml', 'ga']"
   ]
  },
  {
   "cell_type": "code",
   "execution_count": 54,
   "metadata": {},
   "outputs": [],
   "source": [
    "@jit\n",
    "def non_ascii(url):\n",
    "    n = 0\n",
    "    \n",
    "    for c in url:\n",
    "        if ord(c) > 127:\n",
    "            n += 1\n",
    "            \n",
    "    return n"
   ]
  },
  {
   "cell_type": "code",
   "execution_count": 55,
   "metadata": {},
   "outputs": [],
   "source": [
    "def contains_ip(url):\n",
    "    p = \"\\d{1,3}\\.\\d{1,3}\\.\\d{1,3}\\.\\d{1,3}\"\n",
    "    result = re.findall(p, url)\n",
    "    return 1 if len(result) > 0 else 0"
   ]
  },
  {
   "cell_type": "code",
   "execution_count": 56,
   "metadata": {},
   "outputs": [],
   "source": [
    "data[\"tokens\"] = data.url.apply(tokenize)\n",
    "data[\"len_url\"] = data.url.apply(len)\n",
    "data[\"len_tok\"] = data.tokens.apply(len)\n",
    "data[\"slash\"] = data.url.apply(lambda url: url.count(\"/\"))\n",
    "data[\"dbl_slash\"] = data.url.apply(lambda url: url.count(\"//\"))\n",
    "data[\"dot\"] = data.url.apply(lambda url: url.count(\".\"))\n",
    "data[\"at\"] = data.url.apply(lambda url: url.count(\"@\"))\n",
    "data[\"at2\"] = data.url.apply(lambda url: url.count(\"%40\"))\n",
    "data[\"dash\"] = data.url.apply(lambda url: url.count(\"-\"))\n",
    "data[\"qmark\"] = data.url.apply(lambda url: url.count(\"?\"))\n",
    "data[\"amp\"] = data.url.apply(lambda url: url.count(\"&\"))\n",
    "data[\"hash\"] = data.url.apply(lambda url: url.count(\"#\"))\n",
    "data[\"perc\"] = data.url.apply(lambda url: url.count(\"%\"))\n",
    "data[\"eq\"] = data.url.apply(lambda url: url.count(\"=\"))\n",
    "data[\"colon\"] = data.url.apply(lambda url: url.count(\":\"))\n",
    "data[\"scolon\"] = data.url.apply(lambda url: url.count(\";\"))\n",
    "data[\"scheme\"] = data.url.apply(lambda url: urlparse(url).scheme)\n",
    "data[\"netloc\"] = data.url.apply(lambda url: urlparse(url).netloc)\n",
    "data[\"tld\"] = data.netloc.apply(lambda netloc: extract(netloc).suffix)\n",
    "data[\"suspicious\"] = data.tld.apply(lambda tld: 1 if tld in suspicious_tlds else 0)\n",
    "data[\"non_ascii\"] = data.url.apply(non_ascii)\n",
    "data[\"contains_ip\"] = data.url.apply(contains_ip)\n",
    "data[\"kw_count\"] = data.tokens.apply(lambda tokens: len(set(tokens) & set(keywords)))\n",
    "\n",
    "for i in range(len(keywords)):\n",
    "    data[\"kw%d\" % (i)] = data.tokens.apply(lambda tokens: 1 if keywords[i] in tokens else 0)\n",
    "    \n",
    "dummies = pd.get_dummies(data.scheme, drop_first=True)\n",
    "data = pd.concat([data, dummies], axis=1)"
   ]
  },
  {
   "cell_type": "code",
   "execution_count": 57,
   "metadata": {},
   "outputs": [],
   "source": [
    "drop = [\n",
    "    \"target\",\n",
    "    \"url\",\n",
    "    \"tokens\",\n",
    "    \"scheme\",\n",
    "    \"netloc\",\n",
    "    \"tld\"\n",
    "]\n",
    "\n",
    "data = data.drop(columns=drop, axis=1)"
   ]
  },
  {
   "cell_type": "code",
   "execution_count": 58,
   "metadata": {},
   "outputs": [
    {
     "data": {
      "text/plain": [
       "(60000, 118)"
      ]
     },
     "execution_count": 58,
     "metadata": {},
     "output_type": "execute_result"
    }
   ],
   "source": [
    "data.values.shape"
   ]
  },
  {
   "cell_type": "code",
   "execution_count": 59,
   "metadata": {},
   "outputs": [],
   "source": [
    "np.save(\"data/xy/x_feat_45_15.npy\", data.values)"
   ]
  },
  {
   "cell_type": "markdown",
   "metadata": {},
   "source": [
    "# Segments"
   ]
  },
  {
   "cell_type": "code",
   "execution_count": null,
   "metadata": {},
   "outputs": [],
   "source": [
    "data = load(\"data/url_45_15.pkl\")"
   ]
  },
  {
   "cell_type": "code",
   "execution_count": null,
   "metadata": {},
   "outputs": [],
   "source": [
    "def segment(tokens):\n",
    "    segments = []\n",
    "    \n",
    "    for token in tokens:\n",
    "        segments.append(\" \".join(ws.segment(token)))\n",
    "        \n",
    "    return \" \".join(segments)"
   ]
  },
  {
   "cell_type": "code",
   "execution_count": null,
   "metadata": {},
   "outputs": [],
   "source": [
    "def worker(df):\n",
    "    df[\"segments\"] = df.tokens.apply(segment)\n",
    "    return df"
   ]
  },
  {
   "cell_type": "code",
   "execution_count": null,
   "metadata": {},
   "outputs": [],
   "source": [
    "data[\"tokens\"] = data.url.apply(tokenize)"
   ]
  },
  {
   "cell_type": "code",
   "execution_count": null,
   "metadata": {},
   "outputs": [],
   "source": [
    "data = gf.parallelize(data, worker)"
   ]
  },
  {
   "cell_type": "code",
   "execution_count": null,
   "metadata": {},
   "outputs": [],
   "source": [
    "data[[\"tokens\", \"segments\"]].head(30)"
   ]
  },
  {
   "cell_type": "code",
   "execution_count": null,
   "metadata": {},
   "outputs": [],
   "source": [
    "tk = Tokenizer(\n",
    "    num_words=VOCAB\n",
    ")"
   ]
  },
  {
   "cell_type": "code",
   "execution_count": null,
   "metadata": {},
   "outputs": [],
   "source": [
    "tk.fit_on_texts(data.segments)\n",
    "x_segments = pad_sequences(tk.texts_to_sequences(data.segments), maxlen=WVECT)\n",
    "x_segments.shape"
   ]
  },
  {
   "cell_type": "code",
   "execution_count": null,
   "metadata": {},
   "outputs": [],
   "source": [
    "np.save(\"data/xy/x_segments_45_15.npy\", x_segments)"
   ]
  },
  {
   "cell_type": "code",
   "execution_count": null,
   "metadata": {},
   "outputs": [],
   "source": []
  }
 ],
 "metadata": {
  "kernelspec": {
   "display_name": "Python 3",
   "language": "python",
   "name": "python3"
  },
  "language_info": {
   "codemirror_mode": {
    "name": "ipython",
    "version": 3
   },
   "file_extension": ".py",
   "mimetype": "text/x-python",
   "name": "python",
   "nbconvert_exporter": "python",
   "pygments_lexer": "ipython3",
   "version": "3.7.4"
  },
  "varInspector": {
   "cols": {
    "lenName": 16,
    "lenType": 16,
    "lenVar": 40
   },
   "kernels_config": {
    "python": {
     "delete_cmd_postfix": "",
     "delete_cmd_prefix": "del ",
     "library": "var_list.py",
     "varRefreshCmd": "print(var_dic_list())"
    },
    "r": {
     "delete_cmd_postfix": ") ",
     "delete_cmd_prefix": "rm(",
     "library": "var_list.r",
     "varRefreshCmd": "cat(var_dic_list()) "
    }
   },
   "types_to_exclude": [
    "module",
    "function",
    "builtin_function_or_method",
    "instance",
    "_Feature"
   ],
   "window_display": false
  }
 },
 "nbformat": 4,
 "nbformat_minor": 2
}
