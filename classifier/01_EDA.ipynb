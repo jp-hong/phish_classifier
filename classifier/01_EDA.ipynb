{
 "cells": [
  {
   "cell_type": "markdown",
   "metadata": {},
   "source": [
    "# 0. Imports"
   ]
  },
  {
   "cell_type": "code",
   "execution_count": 1,
   "metadata": {},
   "outputs": [],
   "source": [
    "import numpy as np\n",
    "import pandas as pd\n",
    "import wordsegment as ws\n",
    "import tldextract as tld\n",
    "\n",
    "from urllib.parse import urlparse\n",
    "from os import cpu_count\n",
    "\n",
    "# custom modules\n",
    "from code.util import *\n",
    "from code.preprocessor import *\n",
    "from code.gofaster import *\n",
    "\n",
    "# dataframe parallelizer\n",
    "gf = GoFaster(n_jobs=cpu_count()-1, n_partitions=cpu_count()*3)\n",
    "\n",
    "# load wordsegment dictionary\n",
    "ws.load()"
   ]
  },
  {
   "cell_type": "markdown",
   "metadata": {},
   "source": [
    "# 1. Preprocessing"
   ]
  },
  {
   "cell_type": "code",
   "execution_count": 2,
   "metadata": {},
   "outputs": [],
   "source": [
    "# Load data\n",
    "data = load(\"data/urls.pkl\")"
   ]
  },
  {
   "cell_type": "markdown",
   "metadata": {},
   "source": [
    "## 1.1 Sampling\n",
    "Take a random sample of 5% of normal urls and all phishing urls for a total of ~67k data points"
   ]
  },
  {
   "cell_type": "code",
   "execution_count": 3,
   "metadata": {},
   "outputs": [
    {
     "name": "stdout",
     "output_type": "stream",
     "text": [
      "67690\n"
     ]
    }
   ],
   "source": [
    "sample = data[data.target==0].sample(frac=0.05, random_state=42)\n",
    "sample = pd.concat([sample, data[data.target==1]]).reset_index(drop=True)\n",
    "save(sample, \"data/urls_sampled.pkl\")\n",
    "\n",
    "data = sample\n",
    "print(len(data))"
   ]
  },
  {
   "cell_type": "markdown",
   "metadata": {},
   "source": [
    "## 1.2 Parsing"
   ]
  },
  {
   "cell_type": "code",
   "execution_count": 4,
   "metadata": {},
   "outputs": [],
   "source": [
    "def parser(df):\n",
    "    parse_result = data.url.apply(urlparse)\n",
    "    \n",
    "    df[\"scheme\"] = parse_result.apply(lambda x: x.scheme)\n",
    "    df[\"netloc\"] = parse_result.apply(lambda x: x.netloc)\n",
    "    df[\"path\"] = parse_result.apply(lambda x: x.path)\n",
    "    df[\"params\"] = parse_result.apply(lambda x: x.params)\n",
    "    df[\"query\"] = parse_result.apply(lambda x: x.query)\n",
    "    df[\"fragment\"] = parse_result.apply(lambda x: x.fragment)\n",
    "    \n",
    "    return df\n",
    "\n",
    "\n",
    "if __name__ == \"__main__\":\n",
    "    data = gf.parallelize(data, parser)"
   ]
  },
  {
   "cell_type": "markdown",
   "metadata": {},
   "source": [
    "## 1.3 Domain Extraction\n",
    "Separate netloc into subdomain, domain, and tld (top level domain)"
   ]
  },
  {
   "cell_type": "code",
   "execution_count": 5,
   "metadata": {},
   "outputs": [],
   "source": [
    "def tldextracter(df):\n",
    "    extract_result = df.netloc.apply(tld.extract)\n",
    "    \n",
    "    df[\"subdomain\"] = extract_result.apply(lambda x: x.subdomain)\n",
    "    df[\"domain\"] = extract_result.apply(lambda x: x.domain)\n",
    "    df[\"tld\"] = extract_result.apply(lambda x: x.suffix)\n",
    "    \n",
    "    return df\n",
    "\n",
    "if __name__ == \"__main__\":\n",
    "    data = gf.parallelize(data, tldextracter)"
   ]
  },
  {
   "cell_type": "markdown",
   "metadata": {},
   "source": [
    "## 1.4 Domain Segmentation\n",
    "Segment domain into subwords based on wordsegment vocab"
   ]
  },
  {
   "cell_type": "code",
   "execution_count": 6,
   "metadata": {},
   "outputs": [],
   "source": [
    "def segmenter(df):\n",
    "    df[\"segments\"] = df.domain.apply(ws.segment)\n",
    "    return df\n",
    "\n",
    "\n",
    "if __name__ == \"__main__\":\n",
    "    data = gf.parallelize(data, segmenter)"
   ]
  },
  {
   "cell_type": "markdown",
   "metadata": {},
   "source": [
    "## 1.5 Concatenation"
   ]
  },
  {
   "cell_type": "code",
   "execution_count": 7,
   "metadata": {},
   "outputs": [],
   "source": [
    "# concatenate path, params, query, and fragment\n",
    "def cat(df):\n",
    "    \n",
    "    def worker(row):\n",
    "        return row.path + row.params + row.query + row.fragment\n",
    "        \n",
    "    df[\"tail\"] = df.apply(worker, axis=1)\n",
    "    \n",
    "    return df\n",
    "\n",
    "\n",
    "if __name__ == \"__main__\":\n",
    "    data = gf.parallelize(data, cat)"
   ]
  },
  {
   "cell_type": "code",
   "execution_count": 8,
   "metadata": {},
   "outputs": [],
   "source": [
    "# Finding leftover substrings after parsing\n",
    "def scavenger(df):\n",
    "    \n",
    "    def worker(row):\n",
    "        result = row.netloc\n",
    "\n",
    "        for item in [row.subdomain, row.domain, row.tld]:\n",
    "            result = result.replace(item, \"\", 1)\n",
    "\n",
    "        return result.replace(\".\", \"\")\n",
    "    \n",
    "    df[\"leftovers\"] = df.apply(worker, axis=1)\n",
    "    \n",
    "    return df\n",
    "\n",
    "\n",
    "if __name__ == \"__main__\":\n",
    "    data = gf.parallelize(data, scavenger)"
   ]
  },
  {
   "cell_type": "code",
   "execution_count": 9,
   "metadata": {},
   "outputs": [
    {
     "data": {
      "text/html": [
       "<div>\n",
       "<style scoped>\n",
       "    .dataframe tbody tr th:only-of-type {\n",
       "        vertical-align: middle;\n",
       "    }\n",
       "\n",
       "    .dataframe tbody tr th {\n",
       "        vertical-align: top;\n",
       "    }\n",
       "\n",
       "    .dataframe thead th {\n",
       "        text-align: right;\n",
       "    }\n",
       "</style>\n",
       "<table border=\"1\" class=\"dataframe\">\n",
       "  <thead>\n",
       "    <tr style=\"text-align: right;\">\n",
       "      <th></th>\n",
       "      <th>target</th>\n",
       "      <th>url</th>\n",
       "      <th>scheme</th>\n",
       "      <th>netloc</th>\n",
       "      <th>path</th>\n",
       "      <th>params</th>\n",
       "      <th>query</th>\n",
       "      <th>fragment</th>\n",
       "      <th>subdomain</th>\n",
       "      <th>domain</th>\n",
       "      <th>tld</th>\n",
       "      <th>segments</th>\n",
       "      <th>tail</th>\n",
       "      <th>leftovers</th>\n",
       "    </tr>\n",
       "  </thead>\n",
       "  <tbody>\n",
       "    <tr>\n",
       "      <th>67680</th>\n",
       "      <td>1</td>\n",
       "      <td>http://www.mymvm.com/public/public/public/_cac...</td>\n",
       "      <td>http</td>\n",
       "      <td>www.mymvm.com</td>\n",
       "      <td>/public/public/public/_cache/images/event/www....</td>\n",
       "      <td></td>\n",
       "      <td></td>\n",
       "      <td></td>\n",
       "      <td>www</td>\n",
       "      <td>mymvm</td>\n",
       "      <td>com</td>\n",
       "      <td>[my, mvm]</td>\n",
       "      <td>/public/public/public/_cache/images/event/www....</td>\n",
       "      <td></td>\n",
       "    </tr>\n",
       "    <tr>\n",
       "      <th>67681</th>\n",
       "      <td>1</td>\n",
       "      <td>http://dinas.tomsk.ru/pma/?www.paypal.com/de/c...</td>\n",
       "      <td>http</td>\n",
       "      <td>dinas.tomsk.ru</td>\n",
       "      <td>/pma/</td>\n",
       "      <td></td>\n",
       "      <td>www.paypal.com/de/cgi-bin/webscr.cmd=_login-run.</td>\n",
       "      <td></td>\n",
       "      <td>dinas</td>\n",
       "      <td>tomsk</td>\n",
       "      <td>ru</td>\n",
       "      <td>[tomsk]</td>\n",
       "      <td>/pma/www.paypal.com/de/cgi-bin/webscr.cmd=_log...</td>\n",
       "      <td></td>\n",
       "    </tr>\n",
       "    <tr>\n",
       "      <th>67682</th>\n",
       "      <td>1</td>\n",
       "      <td>http://dinas.tomsk.ru/err/?www.paypal.ch/ch/cg...</td>\n",
       "      <td>http</td>\n",
       "      <td>dinas.tomsk.ru</td>\n",
       "      <td>/err/</td>\n",
       "      <td></td>\n",
       "      <td>www.paypal.ch/ch/cgi-bin/webscr1.htm?cmd=_logi...</td>\n",
       "      <td></td>\n",
       "      <td>dinas</td>\n",
       "      <td>tomsk</td>\n",
       "      <td>ru</td>\n",
       "      <td>[tomsk]</td>\n",
       "      <td>/err/www.paypal.ch/ch/cgi-bin/webscr1.htm?cmd=...</td>\n",
       "      <td></td>\n",
       "    </tr>\n",
       "    <tr>\n",
       "      <th>67683</th>\n",
       "      <td>1</td>\n",
       "      <td>http://paypal.com.cgi-bin.login.submited.elkkl...</td>\n",
       "      <td>http</td>\n",
       "      <td>paypal.com.cgi-bin.login.submited.elkklkdgh54m...</td>\n",
       "      <td>/</td>\n",
       "      <td></td>\n",
       "      <td></td>\n",
       "      <td></td>\n",
       "      <td>paypal.com.cgi-bin.login.submited.elkklkdgh54m...</td>\n",
       "      <td>begiu</td>\n",
       "      <td>com</td>\n",
       "      <td>[be, giu]</td>\n",
       "      <td>/</td>\n",
       "      <td></td>\n",
       "    </tr>\n",
       "    <tr>\n",
       "      <th>67684</th>\n",
       "      <td>1</td>\n",
       "      <td>http://creditiperhabbogratissicuro100.blogspot...</td>\n",
       "      <td>http</td>\n",
       "      <td>creditiperhabbogratissicuro100.blogspot.com</td>\n",
       "      <td>/2011/02/habbo-crediti-gratis-sicuro-100.html</td>\n",
       "      <td></td>\n",
       "      <td></td>\n",
       "      <td></td>\n",
       "      <td>creditiperhabbogratissicuro100</td>\n",
       "      <td>blogspot</td>\n",
       "      <td>com</td>\n",
       "      <td>[blogspot]</td>\n",
       "      <td>/2011/02/habbo-crediti-gratis-sicuro-100.html</td>\n",
       "      <td></td>\n",
       "    </tr>\n",
       "    <tr>\n",
       "      <th>67685</th>\n",
       "      <td>1</td>\n",
       "      <td>https://sites.google.com/site/freehabbocoinsgb...</td>\n",
       "      <td>https</td>\n",
       "      <td>sites.google.com</td>\n",
       "      <td>/site/freehabbocoinsgbbo00/</td>\n",
       "      <td></td>\n",
       "      <td></td>\n",
       "      <td></td>\n",
       "      <td>sites</td>\n",
       "      <td>google</td>\n",
       "      <td>com</td>\n",
       "      <td>[google]</td>\n",
       "      <td>/site/freehabbocoinsgbbo00/</td>\n",
       "      <td></td>\n",
       "    </tr>\n",
       "    <tr>\n",
       "      <th>67686</th>\n",
       "      <td>1</td>\n",
       "      <td>http://mundovirtualhabbo.blogspot.com/2009_01_...</td>\n",
       "      <td>http</td>\n",
       "      <td>mundovirtualhabbo.blogspot.com</td>\n",
       "      <td>/2009_01_01_archive.html</td>\n",
       "      <td></td>\n",
       "      <td></td>\n",
       "      <td></td>\n",
       "      <td>mundovirtualhabbo</td>\n",
       "      <td>blogspot</td>\n",
       "      <td>com</td>\n",
       "      <td>[blogspot]</td>\n",
       "      <td>/2009_01_01_archive.html</td>\n",
       "      <td></td>\n",
       "    </tr>\n",
       "    <tr>\n",
       "      <th>67687</th>\n",
       "      <td>1</td>\n",
       "      <td>http://aijcs.blogspot.com/2005/03/colourful-li...</td>\n",
       "      <td>http</td>\n",
       "      <td>aijcs.blogspot.com</td>\n",
       "      <td>/2005/03/colourful-life-of-aij.html</td>\n",
       "      <td></td>\n",
       "      <td></td>\n",
       "      <td></td>\n",
       "      <td>aijcs</td>\n",
       "      <td>blogspot</td>\n",
       "      <td>com</td>\n",
       "      <td>[blogspot]</td>\n",
       "      <td>/2005/03/colourful-life-of-aij.html</td>\n",
       "      <td></td>\n",
       "    </tr>\n",
       "    <tr>\n",
       "      <th>67688</th>\n",
       "      <td>1</td>\n",
       "      <td>http://tnet.at.ua/index/0-13</td>\n",
       "      <td>http</td>\n",
       "      <td>tnet.at.ua</td>\n",
       "      <td>/index/0-13</td>\n",
       "      <td></td>\n",
       "      <td></td>\n",
       "      <td></td>\n",
       "      <td>tnet</td>\n",
       "      <td>at</td>\n",
       "      <td>ua</td>\n",
       "      <td>[at]</td>\n",
       "      <td>/index/0-13</td>\n",
       "      <td></td>\n",
       "    </tr>\n",
       "    <tr>\n",
       "      <th>67689</th>\n",
       "      <td>1</td>\n",
       "      <td>http://tudu-free.blogspot.com/2008/02/jogos-ja...</td>\n",
       "      <td>http</td>\n",
       "      <td>tudu-free.blogspot.com</td>\n",
       "      <td>/2008/02/jogos-java-aplicativos.html</td>\n",
       "      <td></td>\n",
       "      <td></td>\n",
       "      <td>footer-wrap2</td>\n",
       "      <td>tudu-free</td>\n",
       "      <td>blogspot</td>\n",
       "      <td>com</td>\n",
       "      <td>[blogspot]</td>\n",
       "      <td>/2008/02/jogos-java-aplicativos.htmlfooter-wrap2</td>\n",
       "      <td></td>\n",
       "    </tr>\n",
       "  </tbody>\n",
       "</table>\n",
       "</div>"
      ],
      "text/plain": [
       "       target                                                url scheme  \\\n",
       "67680       1  http://www.mymvm.com/public/public/public/_cac...   http   \n",
       "67681       1  http://dinas.tomsk.ru/pma/?www.paypal.com/de/c...   http   \n",
       "67682       1  http://dinas.tomsk.ru/err/?www.paypal.ch/ch/cg...   http   \n",
       "67683       1  http://paypal.com.cgi-bin.login.submited.elkkl...   http   \n",
       "67684       1  http://creditiperhabbogratissicuro100.blogspot...   http   \n",
       "67685       1  https://sites.google.com/site/freehabbocoinsgb...  https   \n",
       "67686       1  http://mundovirtualhabbo.blogspot.com/2009_01_...   http   \n",
       "67687       1  http://aijcs.blogspot.com/2005/03/colourful-li...   http   \n",
       "67688       1                       http://tnet.at.ua/index/0-13   http   \n",
       "67689       1  http://tudu-free.blogspot.com/2008/02/jogos-ja...   http   \n",
       "\n",
       "                                                  netloc  \\\n",
       "67680                                      www.mymvm.com   \n",
       "67681                                     dinas.tomsk.ru   \n",
       "67682                                     dinas.tomsk.ru   \n",
       "67683  paypal.com.cgi-bin.login.submited.elkklkdgh54m...   \n",
       "67684        creditiperhabbogratissicuro100.blogspot.com   \n",
       "67685                                   sites.google.com   \n",
       "67686                     mundovirtualhabbo.blogspot.com   \n",
       "67687                                 aijcs.blogspot.com   \n",
       "67688                                         tnet.at.ua   \n",
       "67689                             tudu-free.blogspot.com   \n",
       "\n",
       "                                                    path params  \\\n",
       "67680  /public/public/public/_cache/images/event/www....          \n",
       "67681                                              /pma/          \n",
       "67682                                              /err/          \n",
       "67683                                                  /          \n",
       "67684      /2011/02/habbo-crediti-gratis-sicuro-100.html          \n",
       "67685                        /site/freehabbocoinsgbbo00/          \n",
       "67686                           /2009_01_01_archive.html          \n",
       "67687                /2005/03/colourful-life-of-aij.html          \n",
       "67688                                        /index/0-13          \n",
       "67689               /2008/02/jogos-java-aplicativos.html          \n",
       "\n",
       "                                                   query      fragment  \\\n",
       "67680                                                                    \n",
       "67681   www.paypal.com/de/cgi-bin/webscr.cmd=_login-run.                 \n",
       "67682  www.paypal.ch/ch/cgi-bin/webscr1.htm?cmd=_logi...                 \n",
       "67683                                                                    \n",
       "67684                                                                    \n",
       "67685                                                                    \n",
       "67686                                                                    \n",
       "67687                                                                    \n",
       "67688                                                                    \n",
       "67689                                                     footer-wrap2   \n",
       "\n",
       "                                               subdomain    domain  tld  \\\n",
       "67680                                                www     mymvm  com   \n",
       "67681                                              dinas     tomsk   ru   \n",
       "67682                                              dinas     tomsk   ru   \n",
       "67683  paypal.com.cgi-bin.login.submited.elkklkdgh54m...     begiu  com   \n",
       "67684                     creditiperhabbogratissicuro100  blogspot  com   \n",
       "67685                                              sites    google  com   \n",
       "67686                                  mundovirtualhabbo  blogspot  com   \n",
       "67687                                              aijcs  blogspot  com   \n",
       "67688                                               tnet        at   ua   \n",
       "67689                                          tudu-free  blogspot  com   \n",
       "\n",
       "         segments                                               tail leftovers  \n",
       "67680   [my, mvm]  /public/public/public/_cache/images/event/www....            \n",
       "67681     [tomsk]  /pma/www.paypal.com/de/cgi-bin/webscr.cmd=_log...            \n",
       "67682     [tomsk]  /err/www.paypal.ch/ch/cgi-bin/webscr1.htm?cmd=...            \n",
       "67683   [be, giu]                                                  /            \n",
       "67684  [blogspot]      /2011/02/habbo-crediti-gratis-sicuro-100.html            \n",
       "67685    [google]                        /site/freehabbocoinsgbbo00/            \n",
       "67686  [blogspot]                           /2009_01_01_archive.html            \n",
       "67687  [blogspot]                /2005/03/colourful-life-of-aij.html            \n",
       "67688        [at]                                        /index/0-13            \n",
       "67689  [blogspot]   /2008/02/jogos-java-aplicativos.htmlfooter-wrap2            "
      ]
     },
     "execution_count": 9,
     "metadata": {},
     "output_type": "execute_result"
    }
   ],
   "source": [
    "data.tail(10)"
   ]
  },
  {
   "cell_type": "code",
   "execution_count": null,
   "metadata": {},
   "outputs": [],
   "source": []
  },
  {
   "cell_type": "code",
   "execution_count": null,
   "metadata": {},
   "outputs": [],
   "source": []
  },
  {
   "cell_type": "code",
   "execution_count": null,
   "metadata": {},
   "outputs": [],
   "source": []
  },
  {
   "cell_type": "code",
   "execution_count": null,
   "metadata": {},
   "outputs": [],
   "source": []
  },
  {
   "cell_type": "code",
   "execution_count": null,
   "metadata": {},
   "outputs": [],
   "source": []
  },
  {
   "cell_type": "code",
   "execution_count": null,
   "metadata": {},
   "outputs": [],
   "source": []
  },
  {
   "cell_type": "code",
   "execution_count": null,
   "metadata": {},
   "outputs": [],
   "source": []
  },
  {
   "cell_type": "code",
   "execution_count": null,
   "metadata": {},
   "outputs": [],
   "source": []
  },
  {
   "cell_type": "code",
   "execution_count": null,
   "metadata": {},
   "outputs": [],
   "source": []
  },
  {
   "cell_type": "code",
   "execution_count": null,
   "metadata": {},
   "outputs": [],
   "source": []
  },
  {
   "cell_type": "code",
   "execution_count": null,
   "metadata": {},
   "outputs": [],
   "source": []
  },
  {
   "cell_type": "code",
   "execution_count": null,
   "metadata": {},
   "outputs": [],
   "source": []
  },
  {
   "cell_type": "code",
   "execution_count": null,
   "metadata": {},
   "outputs": [],
   "source": []
  },
  {
   "cell_type": "code",
   "execution_count": null,
   "metadata": {},
   "outputs": [],
   "source": []
  },
  {
   "cell_type": "code",
   "execution_count": null,
   "metadata": {},
   "outputs": [],
   "source": []
  },
  {
   "cell_type": "code",
   "execution_count": null,
   "metadata": {},
   "outputs": [],
   "source": []
  },
  {
   "cell_type": "code",
   "execution_count": null,
   "metadata": {},
   "outputs": [],
   "source": []
  },
  {
   "cell_type": "code",
   "execution_count": null,
   "metadata": {},
   "outputs": [],
   "source": []
  },
  {
   "cell_type": "code",
   "execution_count": null,
   "metadata": {},
   "outputs": [],
   "source": []
  }
 ],
 "metadata": {
  "kernelspec": {
   "display_name": "Python 3",
   "language": "python",
   "name": "python3"
  },
  "language_info": {
   "codemirror_mode": {
    "name": "ipython",
    "version": 3
   },
   "file_extension": ".py",
   "mimetype": "text/x-python",
   "name": "python",
   "nbconvert_exporter": "python",
   "pygments_lexer": "ipython3",
   "version": "3.7.4"
  },
  "varInspector": {
   "cols": {
    "lenName": 16,
    "lenType": 16,
    "lenVar": 40
   },
   "kernels_config": {
    "python": {
     "delete_cmd_postfix": "",
     "delete_cmd_prefix": "del ",
     "library": "var_list.py",
     "varRefreshCmd": "print(var_dic_list())"
    },
    "r": {
     "delete_cmd_postfix": ") ",
     "delete_cmd_prefix": "rm(",
     "library": "var_list.r",
     "varRefreshCmd": "cat(var_dic_list()) "
    }
   },
   "types_to_exclude": [
    "module",
    "function",
    "builtin_function_or_method",
    "instance",
    "_Feature"
   ],
   "window_display": false
  }
 },
 "nbformat": 4,
 "nbformat_minor": 2
}
