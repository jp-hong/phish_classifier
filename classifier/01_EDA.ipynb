{
 "cells": [
  {
   "cell_type": "markdown",
   "metadata": {},
   "source": [
    "# 0. Imports"
   ]
  },
  {
   "cell_type": "code",
   "execution_count": 1,
   "metadata": {},
   "outputs": [],
   "source": [
    "import numpy as np\n",
    "import pandas as pd\n",
    "import wordsegment as ws\n",
    "import tldextract as tld\n",
    "\n",
    "from urllib.parse import urlparse\n",
    "from os import cpu_count\n",
    "\n",
    "# custom modules\n",
    "from code.util import *\n",
    "from code.preprocessor import *\n",
    "from code.gofaster import *\n",
    "\n",
    "# dataframe parallelizer\n",
    "gf = GoFaster(n_jobs=cpu_count()-1, n_partitions=cpu_count()*3)\n",
    "\n",
    "# load wordsegment dictionary\n",
    "ws.load()"
   ]
  },
  {
   "cell_type": "markdown",
   "metadata": {},
   "source": [
    "# 1. Preprocessing"
   ]
  },
  {
   "cell_type": "code",
   "execution_count": 2,
   "metadata": {},
   "outputs": [],
   "source": [
    "# Load data\n",
    "data = load(\"data/urls.pkl\")"
   ]
  },
  {
   "cell_type": "markdown",
   "metadata": {},
   "source": [
    "## 1.1 Sampling\n",
    "Take a random sample of 5% of normal urls and all phishing urls for a total of ~67k data points"
   ]
  },
  {
   "cell_type": "code",
   "execution_count": 3,
   "metadata": {},
   "outputs": [
    {
     "name": "stdout",
     "output_type": "stream",
     "text": [
      "67690\n"
     ]
    }
   ],
   "source": [
    "sample = data[data.target==0].sample(frac=0.05, random_state=42)\n",
    "sample = pd.concat([sample, data[data.target==1]]).reset_index(drop=True)\n",
    "save(sample, \"data/urls_sampled.pkl\")\n",
    "\n",
    "data = sample\n",
    "print(len(data))"
   ]
  },
  {
   "cell_type": "markdown",
   "metadata": {},
   "source": [
    "## 1.2 Parsing"
   ]
  },
  {
   "cell_type": "code",
   "execution_count": 4,
   "metadata": {},
   "outputs": [],
   "source": [
    "def parser(df):\n",
    "    parse_result = data.url.apply(urlparse)\n",
    "    \n",
    "    df[\"scheme\"] = parse_result.apply(lambda x: x.scheme)\n",
    "    df[\"netloc\"] = parse_result.apply(lambda x: x.netloc)\n",
    "    df[\"path\"] = parse_result.apply(lambda x: x.path)\n",
    "    df[\"params\"] = parse_result.apply(lambda x: x.params)\n",
    "    df[\"query\"] = parse_result.apply(lambda x: x.query)\n",
    "    df[\"fragment\"] = parse_result.apply(lambda x: x.fragment)\n",
    "    \n",
    "    return df\n",
    "\n",
    "\n",
    "if __name__ == \"__main__\":\n",
    "    data = gf.parallelize(data, parser)"
   ]
  },
  {
   "cell_type": "markdown",
   "metadata": {},
   "source": [
    "## 1.3 Domain Extraction\n",
    "Separate netloc into subdomain, domain, and tld (top level domain)"
   ]
  },
  {
   "cell_type": "code",
   "execution_count": 5,
   "metadata": {},
   "outputs": [],
   "source": [
    "def tldextracter(df):\n",
    "    extract_result = df.netloc.apply(tld.extract)\n",
    "    \n",
    "    df[\"subdomain\"] = extract_result.apply(lambda x: x.subdomain)\n",
    "    df[\"domain\"] = extract_result.apply(lambda x: x.domain)\n",
    "    df[\"tld\"] = extract_result.apply(lambda x: x.suffix)\n",
    "    \n",
    "    return df\n",
    "\n",
    "if __name__ == \"__main__\":\n",
    "    data = gf.parallelize(data, tldextracter)"
   ]
  },
  {
   "cell_type": "markdown",
   "metadata": {},
   "source": [
    "## 1.4 Domain Segmentation\n",
    "Segment domain into subwords based on wordsegment vocab"
   ]
  },
  {
   "cell_type": "code",
   "execution_count": 6,
   "metadata": {},
   "outputs": [],
   "source": [
    "def segmenter(df):\n",
    "    df[\"segments\"] = df.domain.apply(ws.segment)\n",
    "    return df\n",
    "\n",
    "\n",
    "if __name__ == \"__main__\":\n",
    "    data = gf.parallelize(data, segmenter)"
   ]
  },
  {
   "cell_type": "markdown",
   "metadata": {},
   "source": [
    "## 1.5 Concatenation"
   ]
  },
  {
   "cell_type": "code",
   "execution_count": 7,
   "metadata": {},
   "outputs": [],
   "source": [
    "# concatenate path, params, query, and fragment\n",
    "def cat(df):\n",
    "    \n",
    "    def worker(row):\n",
    "        return row.path + row.params + row.query + row.fragment\n",
    "        \n",
    "    df[\"url_tail\"] = df.apply(worker, axis=1)\n",
    "    \n",
    "    return df\n",
    "\n",
    "\n",
    "if __name__ == \"__main__\":\n",
    "    data = gf.parallelize(data, cat)"
   ]
  },
  {
   "cell_type": "code",
   "execution_count": 8,
   "metadata": {},
   "outputs": [],
   "source": [
    "# Finding leftover substrings after parsing\n",
    "def scavenger(df):\n",
    "    \n",
    "    def worker(row):\n",
    "        result = row.netloc\n",
    "\n",
    "        for item in [row.subdomain, row.domain, row.tld]:\n",
    "            result = result.replace(item, \"\", 1)\n",
    "\n",
    "        return result.replace(\".\", \"\")\n",
    "    \n",
    "    df[\"leftovers\"] = df.apply(worker, axis=1)\n",
    "    \n",
    "    return df\n",
    "\n",
    "\n",
    "if __name__ == \"__main__\":\n",
    "    data = gf.parallelize(data, scavenger)"
   ]
  },
  {
   "cell_type": "markdown",
   "metadata": {},
   "source": [
    "## 1.6 Additional Features"
   ]
  },
  {
   "cell_type": "code",
   "execution_count": 9,
   "metadata": {},
   "outputs": [],
   "source": [
    "# counting special characters, subdomains etc.\n",
    "def count_stuff(df):\n",
    "    \n",
    "    df['dots'] = df.url.apply(lambda x: x.count(\".\"))\n",
    "    df['hyphens'] = df.url.apply(lambda x: x.count(\"-\"))\n",
    "    df['ats'] = df.url.apply(lambda x: x.count(\"@\"))\n",
    "    df['slashes'] = df.url.apply(lambda x: x.count(\"/\"))\n",
    "    df['doubleslashes'] = df.url_tail.apply(lambda x: x.count(\"//\"))\n",
    "    df['subdomains'] = df.url.apply(lambda x: len(x.split(\".\")) if x else 0)\n",
    "    df['queries'] = df.url.apply(lambda x: len(x.split(\"&\")) if x else 0)\n",
    "    df[\"len_url\"] = df.url.apply(len)\n",
    "    df[\"len_tail\"] = df.url_tail.apply(len)\n",
    "    \n",
    "    return df\n",
    "\n",
    "\n",
    "if __name__ == \"__main__\":\n",
    "    data = gf.parallelize(data, count_stuff)"
   ]
  },
  {
   "cell_type": "markdown",
   "metadata": {},
   "source": [
    "---"
   ]
  },
  {
   "cell_type": "code",
   "execution_count": 10,
   "metadata": {},
   "outputs": [],
   "source": [
    "# 2017~2019's top 20 most suspicious TLD and words\n",
    "# https://www.symantec.com/blogs/feature-stories/top-20-shady-top-level-domains\n",
    "suspicious_tlds = ['country','stream','download','xin','gdn','racing', \n",
    "                   'jetzt','win','bid','vip', 'ren', 'kim', 'loan',\n",
    "                   'mom', 'party', 'review', 'trade', 'date', 'wang',\n",
    "                   'accountants', 'zip','cricket','link','work','gq',\n",
    "                   'science','tk', 'world', 'fit', 'work' 'ryukyu',\n",
    "                   'life', 'cloud', 'desi', 'okinawa', 'ooo','men',\n",
    "                   'click', 'loan', 'top', 'cf', 'ml', 'ga']\n",
    "\n",
    "suspicious_port = ['21', '22', '445', '1433', '1521', '3306', '3389']"
   ]
  },
  {
   "cell_type": "code",
   "execution_count": 11,
   "metadata": {},
   "outputs": [],
   "source": [
    "def suspicious(df):\n",
    "    \n",
    "    def worker(s, ls):\n",
    "        for item in ls:\n",
    "            if item in s:\n",
    "                return 1\n",
    "            \n",
    "        return 0\n",
    "    \n",
    "    df[\"suspicious_tld\"] = df.url.apply(lambda x: worker(x, suspicious_tlds))\n",
    "    df[\"suspicious_port\"] = df.leftovers.apply(lambda x: worker(x, suspicious_port))\n",
    "    \n",
    "    return df\n",
    "\n",
    "\n",
    "if __name__ == \"__main__\":\n",
    "    data = gf.parallelize(data, suspicious)"
   ]
  },
  {
   "cell_type": "markdown",
   "metadata": {},
   "source": [
    "---"
   ]
  },
  {
   "cell_type": "code",
   "execution_count": 14,
   "metadata": {},
   "outputs": [
    {
     "data": {
      "text/html": [
       "<div>\n",
       "<style scoped>\n",
       "    .dataframe tbody tr th:only-of-type {\n",
       "        vertical-align: middle;\n",
       "    }\n",
       "\n",
       "    .dataframe tbody tr th {\n",
       "        vertical-align: top;\n",
       "    }\n",
       "\n",
       "    .dataframe thead th {\n",
       "        text-align: right;\n",
       "    }\n",
       "</style>\n",
       "<table border=\"1\" class=\"dataframe\">\n",
       "  <thead>\n",
       "    <tr style=\"text-align: right;\">\n",
       "      <th></th>\n",
       "      <th>0</th>\n",
       "      <th>1</th>\n",
       "      <th>2</th>\n",
       "      <th>3</th>\n",
       "      <th>4</th>\n",
       "    </tr>\n",
       "  </thead>\n",
       "  <tbody>\n",
       "    <tr>\n",
       "      <th>target</th>\n",
       "      <td>0</td>\n",
       "      <td>0</td>\n",
       "      <td>0</td>\n",
       "      <td>0</td>\n",
       "      <td>0</td>\n",
       "    </tr>\n",
       "    <tr>\n",
       "      <th>url</th>\n",
       "      <td>http://vioz.org</td>\n",
       "      <td>http://www.bwca.cc/wildflowers/flora.htm</td>\n",
       "      <td>http://www.appleseedenterprises.com/travel20.htm</td>\n",
       "      <td>http://www.soyouwanna.com/site/syws/kitchen/ki...</td>\n",
       "      <td>http://www.peterbelanger.com/newton.html</td>\n",
       "    </tr>\n",
       "    <tr>\n",
       "      <th>scheme</th>\n",
       "      <td>http</td>\n",
       "      <td>http</td>\n",
       "      <td>http</td>\n",
       "      <td>http</td>\n",
       "      <td>http</td>\n",
       "    </tr>\n",
       "    <tr>\n",
       "      <th>netloc</th>\n",
       "      <td>vioz.org</td>\n",
       "      <td>www.bwca.cc</td>\n",
       "      <td>www.appleseedenterprises.com</td>\n",
       "      <td>www.soyouwanna.com</td>\n",
       "      <td>www.peterbelanger.com</td>\n",
       "    </tr>\n",
       "    <tr>\n",
       "      <th>path</th>\n",
       "      <td></td>\n",
       "      <td>/wildflowers/flora.htm</td>\n",
       "      <td>/travel20.htm</td>\n",
       "      <td>/site/syws/kitchen/kitchen.html</td>\n",
       "      <td>/newton.html</td>\n",
       "    </tr>\n",
       "    <tr>\n",
       "      <th>params</th>\n",
       "      <td></td>\n",
       "      <td></td>\n",
       "      <td></td>\n",
       "      <td></td>\n",
       "      <td></td>\n",
       "    </tr>\n",
       "    <tr>\n",
       "      <th>query</th>\n",
       "      <td></td>\n",
       "      <td></td>\n",
       "      <td></td>\n",
       "      <td></td>\n",
       "      <td></td>\n",
       "    </tr>\n",
       "    <tr>\n",
       "      <th>fragment</th>\n",
       "      <td></td>\n",
       "      <td></td>\n",
       "      <td></td>\n",
       "      <td></td>\n",
       "      <td></td>\n",
       "    </tr>\n",
       "    <tr>\n",
       "      <th>subdomain</th>\n",
       "      <td></td>\n",
       "      <td>www</td>\n",
       "      <td>www</td>\n",
       "      <td>www</td>\n",
       "      <td>www</td>\n",
       "    </tr>\n",
       "    <tr>\n",
       "      <th>domain</th>\n",
       "      <td>vioz</td>\n",
       "      <td>bwca</td>\n",
       "      <td>appleseedenterprises</td>\n",
       "      <td>soyouwanna</td>\n",
       "      <td>peterbelanger</td>\n",
       "    </tr>\n",
       "    <tr>\n",
       "      <th>tld</th>\n",
       "      <td>org</td>\n",
       "      <td>cc</td>\n",
       "      <td>com</td>\n",
       "      <td>com</td>\n",
       "      <td>com</td>\n",
       "    </tr>\n",
       "    <tr>\n",
       "      <th>segments</th>\n",
       "      <td>[vi, oz]</td>\n",
       "      <td>[bwca]</td>\n",
       "      <td>[appleseed, enterprises]</td>\n",
       "      <td>[so, you, wanna]</td>\n",
       "      <td>[peter, belanger]</td>\n",
       "    </tr>\n",
       "    <tr>\n",
       "      <th>url_tail</th>\n",
       "      <td></td>\n",
       "      <td>/wildflowers/flora.htm</td>\n",
       "      <td>/travel20.htm</td>\n",
       "      <td>/site/syws/kitchen/kitchen.html</td>\n",
       "      <td>/newton.html</td>\n",
       "    </tr>\n",
       "    <tr>\n",
       "      <th>leftovers</th>\n",
       "      <td></td>\n",
       "      <td></td>\n",
       "      <td></td>\n",
       "      <td></td>\n",
       "      <td></td>\n",
       "    </tr>\n",
       "    <tr>\n",
       "      <th>dots</th>\n",
       "      <td>1</td>\n",
       "      <td>3</td>\n",
       "      <td>3</td>\n",
       "      <td>3</td>\n",
       "      <td>3</td>\n",
       "    </tr>\n",
       "    <tr>\n",
       "      <th>hyphens</th>\n",
       "      <td>0</td>\n",
       "      <td>0</td>\n",
       "      <td>0</td>\n",
       "      <td>0</td>\n",
       "      <td>0</td>\n",
       "    </tr>\n",
       "    <tr>\n",
       "      <th>ats</th>\n",
       "      <td>0</td>\n",
       "      <td>0</td>\n",
       "      <td>0</td>\n",
       "      <td>0</td>\n",
       "      <td>0</td>\n",
       "    </tr>\n",
       "    <tr>\n",
       "      <th>slashes</th>\n",
       "      <td>2</td>\n",
       "      <td>4</td>\n",
       "      <td>3</td>\n",
       "      <td>6</td>\n",
       "      <td>3</td>\n",
       "    </tr>\n",
       "    <tr>\n",
       "      <th>doubleslashes</th>\n",
       "      <td>0</td>\n",
       "      <td>0</td>\n",
       "      <td>0</td>\n",
       "      <td>0</td>\n",
       "      <td>0</td>\n",
       "    </tr>\n",
       "    <tr>\n",
       "      <th>subdomains</th>\n",
       "      <td>2</td>\n",
       "      <td>4</td>\n",
       "      <td>4</td>\n",
       "      <td>4</td>\n",
       "      <td>4</td>\n",
       "    </tr>\n",
       "    <tr>\n",
       "      <th>queries</th>\n",
       "      <td>1</td>\n",
       "      <td>1</td>\n",
       "      <td>1</td>\n",
       "      <td>1</td>\n",
       "      <td>1</td>\n",
       "    </tr>\n",
       "    <tr>\n",
       "      <th>len_url</th>\n",
       "      <td>15</td>\n",
       "      <td>40</td>\n",
       "      <td>48</td>\n",
       "      <td>56</td>\n",
       "      <td>40</td>\n",
       "    </tr>\n",
       "    <tr>\n",
       "      <th>len_tail</th>\n",
       "      <td>0</td>\n",
       "      <td>22</td>\n",
       "      <td>13</td>\n",
       "      <td>31</td>\n",
       "      <td>12</td>\n",
       "    </tr>\n",
       "    <tr>\n",
       "      <th>suspicious_tld</th>\n",
       "      <td>0</td>\n",
       "      <td>0</td>\n",
       "      <td>0</td>\n",
       "      <td>1</td>\n",
       "      <td>1</td>\n",
       "    </tr>\n",
       "    <tr>\n",
       "      <th>suspicious_port</th>\n",
       "      <td>0</td>\n",
       "      <td>0</td>\n",
       "      <td>0</td>\n",
       "      <td>0</td>\n",
       "      <td>0</td>\n",
       "    </tr>\n",
       "  </tbody>\n",
       "</table>\n",
       "</div>"
      ],
      "text/plain": [
       "                               0                                         1  \\\n",
       "target                         0                                         0   \n",
       "url              http://vioz.org  http://www.bwca.cc/wildflowers/flora.htm   \n",
       "scheme                      http                                      http   \n",
       "netloc                  vioz.org                               www.bwca.cc   \n",
       "path                                                /wildflowers/flora.htm   \n",
       "params                                                                       \n",
       "query                                                                        \n",
       "fragment                                                                     \n",
       "subdomain                                                              www   \n",
       "domain                      vioz                                      bwca   \n",
       "tld                          org                                        cc   \n",
       "segments                [vi, oz]                                    [bwca]   \n",
       "url_tail                                            /wildflowers/flora.htm   \n",
       "leftovers                                                                    \n",
       "dots                           1                                         3   \n",
       "hyphens                        0                                         0   \n",
       "ats                            0                                         0   \n",
       "slashes                        2                                         4   \n",
       "doubleslashes                  0                                         0   \n",
       "subdomains                     2                                         4   \n",
       "queries                        1                                         1   \n",
       "len_url                       15                                        40   \n",
       "len_tail                       0                                        22   \n",
       "suspicious_tld                 0                                         0   \n",
       "suspicious_port                0                                         0   \n",
       "\n",
       "                                                                2  \\\n",
       "target                                                          0   \n",
       "url              http://www.appleseedenterprises.com/travel20.htm   \n",
       "scheme                                                       http   \n",
       "netloc                               www.appleseedenterprises.com   \n",
       "path                                                /travel20.htm   \n",
       "params                                                              \n",
       "query                                                               \n",
       "fragment                                                            \n",
       "subdomain                                                     www   \n",
       "domain                                       appleseedenterprises   \n",
       "tld                                                           com   \n",
       "segments                                 [appleseed, enterprises]   \n",
       "url_tail                                            /travel20.htm   \n",
       "leftovers                                                           \n",
       "dots                                                            3   \n",
       "hyphens                                                         0   \n",
       "ats                                                             0   \n",
       "slashes                                                         3   \n",
       "doubleslashes                                                   0   \n",
       "subdomains                                                      4   \n",
       "queries                                                         1   \n",
       "len_url                                                        48   \n",
       "len_tail                                                       13   \n",
       "suspicious_tld                                                  0   \n",
       "suspicious_port                                                 0   \n",
       "\n",
       "                                                                 3  \\\n",
       "target                                                           0   \n",
       "url              http://www.soyouwanna.com/site/syws/kitchen/ki...   \n",
       "scheme                                                        http   \n",
       "netloc                                          www.soyouwanna.com   \n",
       "path                               /site/syws/kitchen/kitchen.html   \n",
       "params                                                               \n",
       "query                                                                \n",
       "fragment                                                             \n",
       "subdomain                                                      www   \n",
       "domain                                                  soyouwanna   \n",
       "tld                                                            com   \n",
       "segments                                          [so, you, wanna]   \n",
       "url_tail                           /site/syws/kitchen/kitchen.html   \n",
       "leftovers                                                            \n",
       "dots                                                             3   \n",
       "hyphens                                                          0   \n",
       "ats                                                              0   \n",
       "slashes                                                          6   \n",
       "doubleslashes                                                    0   \n",
       "subdomains                                                       4   \n",
       "queries                                                          1   \n",
       "len_url                                                         56   \n",
       "len_tail                                                        31   \n",
       "suspicious_tld                                                   1   \n",
       "suspicious_port                                                  0   \n",
       "\n",
       "                                                        4  \n",
       "target                                                  0  \n",
       "url              http://www.peterbelanger.com/newton.html  \n",
       "scheme                                               http  \n",
       "netloc                              www.peterbelanger.com  \n",
       "path                                         /newton.html  \n",
       "params                                                     \n",
       "query                                                      \n",
       "fragment                                                   \n",
       "subdomain                                             www  \n",
       "domain                                      peterbelanger  \n",
       "tld                                                   com  \n",
       "segments                                [peter, belanger]  \n",
       "url_tail                                     /newton.html  \n",
       "leftovers                                                  \n",
       "dots                                                    3  \n",
       "hyphens                                                 0  \n",
       "ats                                                     0  \n",
       "slashes                                                 3  \n",
       "doubleslashes                                           0  \n",
       "subdomains                                              4  \n",
       "queries                                                 1  \n",
       "len_url                                                40  \n",
       "len_tail                                               12  \n",
       "suspicious_tld                                          1  \n",
       "suspicious_port                                         0  "
      ]
     },
     "execution_count": 14,
     "metadata": {},
     "output_type": "execute_result"
    }
   ],
   "source": [
    "data.head().T"
   ]
  },
  {
   "cell_type": "code",
   "execution_count": 12,
   "metadata": {},
   "outputs": [],
   "source": [
    "save(data, \"data/urls_preprocessed.pkl\")"
   ]
  },
  {
   "cell_type": "markdown",
   "metadata": {},
   "source": [
    "# 2. Visualization"
   ]
  },
  {
   "cell_type": "code",
   "execution_count": 13,
   "metadata": {},
   "outputs": [],
   "source": [
    "# def quantize(df):\n",
    "#     df[\"cvect_url\"] = df.url.apply(char_level_encoder)\n",
    "#     df[\"cvect_url_tail\"] = df.url_tail.apply(char_level_encoder)\n",
    "#     return df\n",
    "\n",
    "\n",
    "# if __name__ == \"__main__\":\n",
    "#     data = gf.parallelize(data, quantize)"
   ]
  },
  {
   "cell_type": "code",
   "execution_count": null,
   "metadata": {},
   "outputs": [],
   "source": []
  },
  {
   "cell_type": "code",
   "execution_count": null,
   "metadata": {},
   "outputs": [],
   "source": []
  },
  {
   "cell_type": "code",
   "execution_count": null,
   "metadata": {},
   "outputs": [],
   "source": []
  },
  {
   "cell_type": "code",
   "execution_count": null,
   "metadata": {},
   "outputs": [],
   "source": []
  },
  {
   "cell_type": "code",
   "execution_count": null,
   "metadata": {},
   "outputs": [],
   "source": []
  },
  {
   "cell_type": "code",
   "execution_count": null,
   "metadata": {},
   "outputs": [],
   "source": []
  },
  {
   "cell_type": "code",
   "execution_count": null,
   "metadata": {},
   "outputs": [],
   "source": []
  },
  {
   "cell_type": "code",
   "execution_count": null,
   "metadata": {},
   "outputs": [],
   "source": []
  },
  {
   "cell_type": "code",
   "execution_count": null,
   "metadata": {},
   "outputs": [],
   "source": []
  },
  {
   "cell_type": "code",
   "execution_count": null,
   "metadata": {},
   "outputs": [],
   "source": []
  },
  {
   "cell_type": "code",
   "execution_count": null,
   "metadata": {},
   "outputs": [],
   "source": []
  },
  {
   "cell_type": "code",
   "execution_count": null,
   "metadata": {},
   "outputs": [],
   "source": []
  },
  {
   "cell_type": "code",
   "execution_count": null,
   "metadata": {},
   "outputs": [],
   "source": []
  },
  {
   "cell_type": "code",
   "execution_count": null,
   "metadata": {},
   "outputs": [],
   "source": []
  },
  {
   "cell_type": "code",
   "execution_count": null,
   "metadata": {},
   "outputs": [],
   "source": []
  },
  {
   "cell_type": "code",
   "execution_count": null,
   "metadata": {},
   "outputs": [],
   "source": []
  },
  {
   "cell_type": "code",
   "execution_count": null,
   "metadata": {},
   "outputs": [],
   "source": []
  },
  {
   "cell_type": "code",
   "execution_count": null,
   "metadata": {},
   "outputs": [],
   "source": []
  },
  {
   "cell_type": "code",
   "execution_count": null,
   "metadata": {},
   "outputs": [],
   "source": []
  }
 ],
 "metadata": {
  "kernelspec": {
   "display_name": "Python 3",
   "language": "python",
   "name": "python3"
  },
  "language_info": {
   "codemirror_mode": {
    "name": "ipython",
    "version": 3
   },
   "file_extension": ".py",
   "mimetype": "text/x-python",
   "name": "python",
   "nbconvert_exporter": "python",
   "pygments_lexer": "ipython3",
   "version": "3.7.4"
  },
  "varInspector": {
   "cols": {
    "lenName": 16,
    "lenType": 16,
    "lenVar": 40
   },
   "kernels_config": {
    "python": {
     "delete_cmd_postfix": "",
     "delete_cmd_prefix": "del ",
     "library": "var_list.py",
     "varRefreshCmd": "print(var_dic_list())"
    },
    "r": {
     "delete_cmd_postfix": ") ",
     "delete_cmd_prefix": "rm(",
     "library": "var_list.r",
     "varRefreshCmd": "cat(var_dic_list()) "
    }
   },
   "types_to_exclude": [
    "module",
    "function",
    "builtin_function_or_method",
    "instance",
    "_Feature"
   ],
   "window_display": false
  }
 },
 "nbformat": 4,
 "nbformat_minor": 2
}
