{
 "cells": [
  {
   "cell_type": "markdown",
   "metadata": {},
   "source": [
    "# 0. Imports"
   ]
  },
  {
   "cell_type": "code",
   "execution_count": 1,
   "metadata": {},
   "outputs": [],
   "source": [
    "import numpy as np\n",
    "import pandas as pd\n",
    "import wordsegment as ws\n",
    "import tldextract as tld\n",
    "\n",
    "from urllib.parse import urlparse\n",
    "from os import cpu_count\n",
    "\n",
    "# custom modules\n",
    "from code.util import *\n",
    "from code.preprocessor import *\n",
    "from code.gofaster import *\n",
    "\n",
    "# dataframe parallelizer\n",
    "gf = GoFaster(n_jobs=cpu_count()-1, n_partitions=cpu_count()*3)\n",
    "\n",
    "# load wordsegment dictionary\n",
    "ws.load()"
   ]
  },
  {
   "cell_type": "markdown",
   "metadata": {},
   "source": [
    "# 1. Preprocessing"
   ]
  },
  {
   "cell_type": "code",
   "execution_count": 2,
   "metadata": {},
   "outputs": [],
   "source": [
    "# Load data\n",
    "data = load(\"data/urls.pkl\")"
   ]
  },
  {
   "cell_type": "markdown",
   "metadata": {},
   "source": [
    "## 1.1 Sampling\n",
    "Take a random sample of 5% of normal urls and all phishing urls for a total of ~67k data points"
   ]
  },
  {
   "cell_type": "code",
   "execution_count": 3,
   "metadata": {},
   "outputs": [
    {
     "name": "stdout",
     "output_type": "stream",
     "text": [
      "67690\n"
     ]
    }
   ],
   "source": [
    "sample = data[data.target==0].sample(frac=0.05, random_state=42)\n",
    "sample = pd.concat([sample, data[data.target==1]]).reset_index(drop=True)\n",
    "save(sample, \"data/urls_sampled.pkl\")\n",
    "\n",
    "data = sample\n",
    "print(len(data))"
   ]
  },
  {
   "cell_type": "markdown",
   "metadata": {},
   "source": [
    "## 1.2 Parsing"
   ]
  },
  {
   "cell_type": "code",
   "execution_count": 4,
   "metadata": {},
   "outputs": [],
   "source": [
    "def parser(df):\n",
    "    parse_result = data.url.apply(urlparse)\n",
    "    \n",
    "    df[\"scheme\"] = parse_result.apply(lambda x: x.scheme)\n",
    "    df[\"netloc\"] = parse_result.apply(lambda x: x.netloc)\n",
    "    df[\"path\"] = parse_result.apply(lambda x: x.path)\n",
    "    df[\"params\"] = parse_result.apply(lambda x: x.params)\n",
    "    df[\"query\"] = parse_result.apply(lambda x: x.query)\n",
    "    df[\"fragment\"] = parse_result.apply(lambda x: x.fragment)\n",
    "    \n",
    "    return df\n",
    "\n",
    "\n",
    "if __name__ == \"__main__\":\n",
    "    data = gf.parallelize(data, parser)"
   ]
  },
  {
   "cell_type": "markdown",
   "metadata": {},
   "source": [
    "## 1.3 Domain Extraction\n",
    "Separate netloc into subdomain, domain, and tld (top level domain)"
   ]
  },
  {
   "cell_type": "code",
   "execution_count": 5,
   "metadata": {},
   "outputs": [],
   "source": [
    "def tldextracter(df):\n",
    "    extract_result = df.netloc.apply(tld.extract)\n",
    "    \n",
    "    df[\"subdomain\"] = extract_result.apply(lambda x: x.subdomain)\n",
    "    df[\"domain\"] = extract_result.apply(lambda x: x.domain)\n",
    "    df[\"tld\"] = extract_result.apply(lambda x: x.suffix)\n",
    "    \n",
    "    return df\n",
    "\n",
    "if __name__ == \"__main__\":\n",
    "    data = gf.parallelize(data, tldextracter)"
   ]
  },
  {
   "cell_type": "markdown",
   "metadata": {},
   "source": [
    "## 1.4 Domain Segmentation\n",
    "Segment domain into subwords based on wordsegment vocab"
   ]
  },
  {
   "cell_type": "code",
   "execution_count": null,
   "metadata": {},
   "outputs": [],
   "source": [
    "def segmenter(df):\n",
    "    df[\"segments\"] = df.domain.apply(ws.segment)\n",
    "    return df\n",
    "\n",
    "\n",
    "if __name__ == \"__main__\":\n",
    "    data = gf.parallelize(data, segmenter)"
   ]
  },
  {
   "cell_type": "markdown",
   "metadata": {},
   "source": [
    "## 1.5 Concatenation"
   ]
  },
  {
   "cell_type": "code",
   "execution_count": null,
   "metadata": {},
   "outputs": [],
   "source": [
    "# concatenate path, params, query, and fragment\n",
    "def cat(df):\n",
    "    \n",
    "    def worker(row):\n",
    "        return row.path + row.params + row.query + row.fragment\n",
    "        \n",
    "    df[\"url_tail\"] = df.apply(worker, axis=1)\n",
    "    \n",
    "    return df\n",
    "\n",
    "\n",
    "if __name__ == \"__main__\":\n",
    "    data = gf.parallelize(data, cat)"
   ]
  },
  {
   "cell_type": "code",
   "execution_count": null,
   "metadata": {},
   "outputs": [],
   "source": [
    "# Finding leftover substrings after parsing\n",
    "def scavenger(df):\n",
    "    \n",
    "    def worker(row):\n",
    "        result = row.netloc\n",
    "\n",
    "        for item in [row.subdomain, row.domain, row.tld]:\n",
    "            result = result.replace(item, \"\", 1)\n",
    "\n",
    "        return result.replace(\".\", \"\")\n",
    "    \n",
    "    df[\"leftovers\"] = df.apply(worker, axis=1)\n",
    "    \n",
    "    return df\n",
    "\n",
    "\n",
    "if __name__ == \"__main__\":\n",
    "    data = gf.parallelize(data, scavenger)"
   ]
  },
  {
   "cell_type": "code",
   "execution_count": null,
   "metadata": {},
   "outputs": [],
   "source": [
    "save(data, \"data/urls_preprocessed.pkl\")"
   ]
  },
  {
   "cell_type": "markdown",
   "metadata": {},
   "source": [
    "## 1.6 Character Level Quantization"
   ]
  },
  {
   "cell_type": "code",
   "execution_count": null,
   "metadata": {},
   "outputs": [],
   "source": [
    "def quantize(df):\n",
    "    df[\"cvect_url\"] = df.url.apply(char_level_encoder)\n",
    "    df[\"cvect_url_tail\"] = df.url_tail.apply(char_level_encoder)\n",
    "    return df\n",
    "\n",
    "\n",
    "if __name__ == \"__main__\":\n",
    "    data = gf.parallelize(data, quantize)"
   ]
  },
  {
   "cell_type": "code",
   "execution_count": null,
   "metadata": {},
   "outputs": [],
   "source": [
    "data.tail()"
   ]
  },
  {
   "cell_type": "code",
   "execution_count": null,
   "metadata": {},
   "outputs": [],
   "source": [
    "save(data, \"data/large_files/urls_vectorized.pkl\")"
   ]
  },
  {
   "cell_type": "code",
   "execution_count": null,
   "metadata": {},
   "outputs": [],
   "source": []
  },
  {
   "cell_type": "code",
   "execution_count": null,
   "metadata": {},
   "outputs": [],
   "source": []
  },
  {
   "cell_type": "code",
   "execution_count": null,
   "metadata": {},
   "outputs": [],
   "source": []
  },
  {
   "cell_type": "code",
   "execution_count": null,
   "metadata": {},
   "outputs": [],
   "source": []
  },
  {
   "cell_type": "code",
   "execution_count": null,
   "metadata": {},
   "outputs": [],
   "source": []
  },
  {
   "cell_type": "code",
   "execution_count": null,
   "metadata": {},
   "outputs": [],
   "source": []
  },
  {
   "cell_type": "code",
   "execution_count": null,
   "metadata": {},
   "outputs": [],
   "source": []
  },
  {
   "cell_type": "code",
   "execution_count": null,
   "metadata": {},
   "outputs": [],
   "source": []
  },
  {
   "cell_type": "code",
   "execution_count": null,
   "metadata": {},
   "outputs": [],
   "source": []
  }
 ],
 "metadata": {
  "kernelspec": {
   "display_name": "Python 3",
   "language": "python",
   "name": "python3"
  },
  "language_info": {
   "codemirror_mode": {
    "name": "ipython",
    "version": 3
   },
   "file_extension": ".py",
   "mimetype": "text/x-python",
   "name": "python",
   "nbconvert_exporter": "python",
   "pygments_lexer": "ipython3",
   "version": "3.7.4"
  },
  "varInspector": {
   "cols": {
    "lenName": 16,
    "lenType": 16,
    "lenVar": 40
   },
   "kernels_config": {
    "python": {
     "delete_cmd_postfix": "",
     "delete_cmd_prefix": "del ",
     "library": "var_list.py",
     "varRefreshCmd": "print(var_dic_list())"
    },
    "r": {
     "delete_cmd_postfix": ") ",
     "delete_cmd_prefix": "rm(",
     "library": "var_list.r",
     "varRefreshCmd": "cat(var_dic_list()) "
    }
   },
   "types_to_exclude": [
    "module",
    "function",
    "builtin_function_or_method",
    "instance",
    "_Feature"
   ],
   "window_display": false
  }
 },
 "nbformat": 4,
 "nbformat_minor": 2
}
