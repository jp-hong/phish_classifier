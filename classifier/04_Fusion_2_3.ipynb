{
 "cells": [
  {
   "cell_type": "code",
   "execution_count": 1,
   "metadata": {},
   "outputs": [
    {
     "name": "stderr",
     "output_type": "stream",
     "text": [
      "c:\\program files\\python37\\lib\\site-packages\\tensorboard\\compat\\tensorflow_stub\\dtypes.py:541: FutureWarning: Passing (type, 1) or '1type' as a synonym of type is deprecated; in a future version of numpy, it will be understood as (type, (1,)) / '(1,)type'.\n",
      "  _np_qint8 = np.dtype([(\"qint8\", np.int8, 1)])\n",
      "c:\\program files\\python37\\lib\\site-packages\\tensorboard\\compat\\tensorflow_stub\\dtypes.py:542: FutureWarning: Passing (type, 1) or '1type' as a synonym of type is deprecated; in a future version of numpy, it will be understood as (type, (1,)) / '(1,)type'.\n",
      "  _np_quint8 = np.dtype([(\"quint8\", np.uint8, 1)])\n",
      "c:\\program files\\python37\\lib\\site-packages\\tensorboard\\compat\\tensorflow_stub\\dtypes.py:543: FutureWarning: Passing (type, 1) or '1type' as a synonym of type is deprecated; in a future version of numpy, it will be understood as (type, (1,)) / '(1,)type'.\n",
      "  _np_qint16 = np.dtype([(\"qint16\", np.int16, 1)])\n",
      "c:\\program files\\python37\\lib\\site-packages\\tensorboard\\compat\\tensorflow_stub\\dtypes.py:544: FutureWarning: Passing (type, 1) or '1type' as a synonym of type is deprecated; in a future version of numpy, it will be understood as (type, (1,)) / '(1,)type'.\n",
      "  _np_quint16 = np.dtype([(\"quint16\", np.uint16, 1)])\n",
      "c:\\program files\\python37\\lib\\site-packages\\tensorboard\\compat\\tensorflow_stub\\dtypes.py:545: FutureWarning: Passing (type, 1) or '1type' as a synonym of type is deprecated; in a future version of numpy, it will be understood as (type, (1,)) / '(1,)type'.\n",
      "  _np_qint32 = np.dtype([(\"qint32\", np.int32, 1)])\n",
      "c:\\program files\\python37\\lib\\site-packages\\tensorboard\\compat\\tensorflow_stub\\dtypes.py:550: FutureWarning: Passing (type, 1) or '1type' as a synonym of type is deprecated; in a future version of numpy, it will be understood as (type, (1,)) / '(1,)type'.\n",
      "  np_resource = np.dtype([(\"resource\", np.ubyte, 1)])\n"
     ]
    }
   ],
   "source": [
    "from tensorflow.keras.models import Model, load_model\n",
    "from tensorflow.keras.layers import concatenate, Reshape, Conv1D, MaxPool1D, Flatten, Dense\n",
    "from tensorflow.keras.callbacks import EarlyStopping\n",
    "from sklearn.model_selection import train_test_split\n",
    "from sklearn.metrics import confusion_matrix\n",
    "import matplotlib.pyplot as plt\n",
    "\n",
    "from code.modelhelper import *"
   ]
  },
  {
   "cell_type": "code",
   "execution_count": 2,
   "metadata": {},
   "outputs": [],
   "source": [
    "NCLASS = 2\n",
    "BATCH_SIZE = 150\n",
    "EPOCHS = 300"
   ]
  },
  {
   "cell_type": "code",
   "execution_count": 3,
   "metadata": {},
   "outputs": [
    {
     "name": "stderr",
     "output_type": "stream",
     "text": [
      "WARNING: Logging before flag parsing goes to stderr.\n",
      "W0831 15:44:38.789182  5384 deprecation.py:323] From c:\\program files\\python37\\lib\\site-packages\\tensorflow_core\\python\\ops\\math_grad.py:1424: where (from tensorflow.python.ops.array_ops) is deprecated and will be removed in a future version.\n",
      "Instructions for updating:\n",
      "Use tf.where in 2.0, which has the same broadcast rule as np.where\n"
     ]
    }
   ],
   "source": [
    "m2 = load_model(\"models/dl/m2.h5\")\n",
    "m3 = load_model(\"models/dl/m3.h5\")"
   ]
  },
  {
   "cell_type": "code",
   "execution_count": 4,
   "metadata": {},
   "outputs": [],
   "source": [
    "x_char = np.load(\"data/xy/x_char_onehot_45_15.npz\")[\"arr_0\"]\n",
    "x_word = np.load(\"data/xy/x_word_45_15.npy\")\n",
    "y = np.load(\"data/xy/y_onehot_45_15.npy\")"
   ]
  },
  {
   "cell_type": "code",
   "execution_count": 5,
   "metadata": {},
   "outputs": [],
   "source": [
    "xc_train, xc_test, y_train, y_test = train_test_split(\n",
    "    x_char,\n",
    "    y,\n",
    "    test_size=0.2,\n",
    "    random_state=11\n",
    ")\n",
    "\n",
    "xw_train, xw_test, y_train, y_test = train_test_split(\n",
    "    x_word,\n",
    "    y,\n",
    "    test_size=0.2,\n",
    "    random_state=11\n",
    ")"
   ]
  },
  {
   "cell_type": "markdown",
   "metadata": {},
   "source": [
    "# Models 2, 3 Fusion"
   ]
  },
  {
   "cell_type": "code",
   "execution_count": 5,
   "metadata": {},
   "outputs": [],
   "source": [
    "for layer in m2.layers:\n",
    "    layer.trainable = False\n",
    "    \n",
    "for layer in m3.layers:\n",
    "    layer.trainable = False"
   ]
  },
  {
   "cell_type": "code",
   "execution_count": 6,
   "metadata": {
    "scrolled": true
   },
   "outputs": [
    {
     "name": "stdout",
     "output_type": "stream",
     "text": [
      "Model: \"model\"\n",
      "__________________________________________________________________________________________________\n",
      "Layer (type)                    Output Shape         Param #     Connected to                     \n",
      "==================================================================================================\n",
      "m2_input (InputLayer)           [(None, 13900)]      0                                            \n",
      "__________________________________________________________________________________________________\n",
      "m2_reshape (Reshape)            (None, 100, 139, 1)  0           m2_input[0][0]                   \n",
      "__________________________________________________________________________________________________\n",
      "m2_timedistributed_1 (TimeDistr (None, 100, 139, 20) 60          m2_reshape[0][0]                 \n",
      "__________________________________________________________________________________________________\n",
      "m2_timedistributed_2 (TimeDistr (None, 100, 69, 20)  0           m2_timedistributed_1[0][0]       \n",
      "__________________________________________________________________________________________________\n",
      "m2_timedistributed_3 (TimeDistr (None, 100, 69, 20)  820         m2_timedistributed_2[0][0]       \n",
      "__________________________________________________________________________________________________\n",
      "m2_timedistributed_4 (TimeDistr (None, 100, 34, 20)  0           m2_timedistributed_3[0][0]       \n",
      "__________________________________________________________________________________________________\n",
      "m2_timedistributed_5 (TimeDistr (None, 100, 34, 20)  820         m2_timedistributed_4[0][0]       \n",
      "__________________________________________________________________________________________________\n",
      "m2_timedistributed_6 (TimeDistr (None, 100, 17, 20)  0           m2_timedistributed_5[0][0]       \n",
      "__________________________________________________________________________________________________\n",
      "m2_timedistributed_7 (TimeDistr (None, 100, 340)     0           m2_timedistributed_6[0][0]       \n",
      "__________________________________________________________________________________________________\n",
      "m3_input (InputLayer)           [(None, 20)]         0                                            \n",
      "__________________________________________________________________________________________________\n",
      "m2_dropout_1 (Dropout)          (None, 100, 340)     0           m2_timedistributed_7[0][0]       \n",
      "__________________________________________________________________________________________________\n",
      "m3_embedding (Embedding)        (None, 20, 32)       160000      m3_input[0][0]                   \n",
      "__________________________________________________________________________________________________\n",
      "m2_gru_1 (GRU)                  (None, 100, 256)     459264      m2_dropout_1[0][0]               \n",
      "__________________________________________________________________________________________________\n",
      "m3_spacialdropout1d (SpatialDro (None, 20, 32)       0           m3_embedding[0][0]               \n",
      "__________________________________________________________________________________________________\n",
      "m2_gru_2 (GRU)                  (None, 256)          394752      m2_gru_1[0][0]                   \n",
      "__________________________________________________________________________________________________\n",
      "m3_lstm (LSTM)                  (None, 32)           8320        m3_spacialdropout1d[0][0]        \n",
      "__________________________________________________________________________________________________\n",
      "concatenate (Concatenate)       (None, 288)          0           m2_gru_2[0][0]                   \n",
      "                                                                 m3_lstm[0][0]                    \n",
      "__________________________________________________________________________________________________\n",
      "fusion_reshape (Reshape)        (None, 288, 1)       0           concatenate[0][0]                \n",
      "__________________________________________________________________________________________________\n",
      "fusion_conv1d_1 (Conv1D)        (None, 288, 32)      96          fusion_reshape[0][0]             \n",
      "__________________________________________________________________________________________________\n",
      "fusion_maxpool1d_1 (MaxPooling1 (None, 144, 32)      0           fusion_conv1d_1[0][0]            \n",
      "__________________________________________________________________________________________________\n",
      "fusion_conv1d_2 (Conv1D)        (None, 144, 32)      2080        fusion_maxpool1d_1[0][0]         \n",
      "__________________________________________________________________________________________________\n",
      "fusion_maxpool1d_2 (MaxPooling1 (None, 72, 32)       0           fusion_conv1d_2[0][0]            \n",
      "__________________________________________________________________________________________________\n",
      "fusion_conv1d_3 (Conv1D)        (None, 72, 32)       2080        fusion_maxpool1d_2[0][0]         \n",
      "__________________________________________________________________________________________________\n",
      "fusion_maxpool1d_3 (MaxPooling1 (None, 36, 32)       0           fusion_conv1d_3[0][0]            \n",
      "__________________________________________________________________________________________________\n",
      "fusion_conv1d_4 (Conv1D)        (None, 36, 32)       2080        fusion_maxpool1d_3[0][0]         \n",
      "__________________________________________________________________________________________________\n",
      "fusion_maxpool1d_4 (MaxPooling1 (None, 18, 32)       0           fusion_conv1d_4[0][0]            \n",
      "__________________________________________________________________________________________________\n",
      "fusion_flatten (Flatten)        (None, 576)          0           fusion_maxpool1d_4[0][0]         \n",
      "__________________________________________________________________________________________________\n",
      "fusion_dense_1 (Dense)          (None, 256)          147712      fusion_flatten[0][0]             \n",
      "__________________________________________________________________________________________________\n",
      "fusion_dense_2 (Dense)          (None, 64)           16448       fusion_dense_1[0][0]             \n",
      "__________________________________________________________________________________________________\n",
      "fusion_output (Dense)           (None, 2)            130         fusion_dense_2[0][0]             \n",
      "==================================================================================================\n",
      "Total params: 1,194,662\n",
      "Trainable params: 170,626\n",
      "Non-trainable params: 1,024,036\n",
      "__________________________________________________________________________________________________\n"
     ]
    }
   ],
   "source": [
    "model_input = concatenate(\n",
    "    [\n",
    "        m2.get_layer(\"m2_gru_2\").output,\n",
    "        m3.get_layer(\"m3_lstm\").output,\n",
    "    ]\n",
    ")\n",
    "\n",
    "H = Reshape((256+32, 1), name=\"fusion_reshape\")(model_input)\n",
    "\n",
    "H = Conv1D(\n",
    "    filters=32,\n",
    "    kernel_size=2,\n",
    "    padding=\"same\",\n",
    "    activation=\"tanh\",\n",
    "    name=\"fusion_conv1d_1\"\n",
    ")(H)\n",
    "H = MaxPool1D(2, name=\"fusion_maxpool1d_1\")(H)\n",
    "\n",
    "H = Conv1D(\n",
    "    filters=32,\n",
    "    kernel_size=2,\n",
    "    padding=\"same\",\n",
    "    activation=\"tanh\",\n",
    "    name=\"fusion_conv1d_2\"\n",
    ")(H)\n",
    "H = MaxPool1D(2, name=\"fusion_maxpool1d_2\")(H)\n",
    "\n",
    "H = Conv1D(\n",
    "    filters=32,\n",
    "    kernel_size=2,\n",
    "    padding=\"same\",\n",
    "    activation=\"tanh\",\n",
    "    name=\"fusion_conv1d_3\"\n",
    ")(H)\n",
    "H = MaxPool1D(2, name=\"fusion_maxpool1d_3\")(H)\n",
    "\n",
    "H = Conv1D(\n",
    "    filters=32,\n",
    "    kernel_size=2,\n",
    "    padding=\"same\",\n",
    "    activation=\"tanh\",\n",
    "    name=\"fusion_conv1d_4\"\n",
    ")(H)\n",
    "H = MaxPool1D(2, name=\"fusion_maxpool1d_4\")(H)\n",
    "\n",
    "H = Flatten(name=\"fusion_flatten\")(H)\n",
    "H = Dense(256, activation='tanh', name=\"fusion_dense_1\")(H)\n",
    "H = Dense(64, activation='tanh', name=\"fusion_dense_2\")(H)\n",
    "model_output = Dense(NCLASS, activation='softmax', name=\"fusion_output\")(H)\n",
    "\n",
    "model = Model(inputs=[m2.input, m3.input], outputs=model_output)\n",
    "model.summary()\n",
    "\n",
    "model.compile(\n",
    "    loss=\"categorical_crossentropy\",\n",
    "    optimizer=\"adam\",\n",
    "    metrics=[\"accuracy\"]\n",
    ")\n",
    "\n",
    "es = EarlyStopping(\n",
    "    monitor=\"val_loss\",\n",
    "    patience=5,\n",
    "    restore_best_weights=True\n",
    ")"
   ]
  },
  {
   "cell_type": "markdown",
   "metadata": {
    "heading_collapsed": true
   },
   "source": [
    "# Training"
   ]
  },
  {
   "cell_type": "code",
   "execution_count": 8,
   "metadata": {
    "hidden": true
   },
   "outputs": [
    {
     "name": "stdout",
     "output_type": "stream",
     "text": [
      "Train on 48000 samples, validate on 12000 samples\n",
      "Epoch 1/300\n",
      "48000/48000 - 88s - loss: 0.0505 - accuracy: 0.9817 - val_loss: 0.0634 - val_accuracy: 0.9790\n",
      "Epoch 2/300\n",
      "48000/48000 - 81s - loss: 0.0426 - accuracy: 0.9865 - val_loss: 0.0590 - val_accuracy: 0.9798\n",
      "Epoch 3/300\n",
      "48000/48000 - 81s - loss: 0.0433 - accuracy: 0.9858 - val_loss: 0.0583 - val_accuracy: 0.9800\n",
      "Epoch 4/300\n",
      "48000/48000 - 81s - loss: 0.0428 - accuracy: 0.9865 - val_loss: 0.0586 - val_accuracy: 0.9798\n",
      "Epoch 5/300\n",
      "48000/48000 - 81s - loss: 0.0411 - accuracy: 0.9869 - val_loss: 0.0609 - val_accuracy: 0.9802\n",
      "Epoch 6/300\n",
      "48000/48000 - 82s - loss: 0.0416 - accuracy: 0.9873 - val_loss: 0.0618 - val_accuracy: 0.9793\n",
      "Epoch 7/300\n",
      "48000/48000 - 81s - loss: 0.0420 - accuracy: 0.9868 - val_loss: 0.0587 - val_accuracy: 0.9793\n",
      "Epoch 8/300\n",
      "48000/48000 - 81s - loss: 0.0415 - accuracy: 0.9873 - val_loss: 0.0668 - val_accuracy: 0.9800\n"
     ]
    }
   ],
   "source": [
    "history = model.fit(\n",
    "    [xc_train, xw_train],\n",
    "    y_train,\n",
    "    batch_size=BATCH_SIZE,\n",
    "    epochs=EPOCHS,\n",
    "    verbose=2,\n",
    "    validation_data=([xc_test, xw_test], y_test),\n",
    "    callbacks=[es]\n",
    ")"
   ]
  },
  {
   "cell_type": "code",
   "execution_count": 9,
   "metadata": {
    "hidden": true
   },
   "outputs": [
    {
     "name": "stdout",
     "output_type": "stream",
     "text": [
      "Test loss: 0.05825250358382861\n",
      "Test accuracy: 0.98\n",
      "Test recall: 0.9452517742480567\n",
      "[[8963   78]\n",
      " [ 162 2797]]\n"
     ]
    }
   ],
   "source": [
    "# score = model.evaluate([xf_test, xc_test, xw_test], y_test, verbose=0)\n",
    "score = model.evaluate([xc_test, xw_test], y_test, verbose=0)\n",
    "print('Test loss:', score[0])\n",
    "print('Test accuracy:', score[1])\n",
    "\n",
    "# y_pred_model = model.predict([xf_test, xc_test, xw_test])\n",
    "y_pred_model = model.predict([xc_test, xw_test])\n",
    "y_pred = to_bin(y_pred_model)\n",
    "print(\"Test recall: {}\".format(recall(y_test, y_pred)))\n",
    "\n",
    "y_test0 = to_1D(y_test)\n",
    "y_pred0 = to_1D(y_pred)\n",
    "print(confusion_matrix(y_test0, y_pred0))"
   ]
  },
  {
   "cell_type": "code",
   "execution_count": 10,
   "metadata": {
    "hidden": true
   },
   "outputs": [
    {
     "data": {
      "image/png": "[encoded data removed]",
      "text/plain": [
       "<Figure size 864x432 with 1 Axes>"
      ]
     },
     "metadata": {
      "needs_background": "light"
     },
     "output_type": "display_data"
    }
   ],
   "source": [
    "plt.figure(figsize=(12, 6))\n",
    "plt.plot(history.history[\"accuracy\"], label=\"Train\")\n",
    "plt.plot(history.history[\"val_accuracy\"], label=\"Test\")\n",
    "plt.legend()\n",
    "plt.xlabel(\"Epochs\")\n",
    "plt.ylabel(\"Accuracy\")\n",
    "plt.show()"
   ]
  },
  {
   "cell_type": "code",
   "execution_count": 11,
   "metadata": {
    "hidden": true
   },
   "outputs": [],
   "source": [
    "model.save(\"models/dl/fusion_23.h5\")"
   ]
  },
  {
   "cell_type": "markdown",
   "metadata": {},
   "source": [
    "# K-fold CV"
   ]
  },
  {
   "cell_type": "code",
   "execution_count": 7,
   "metadata": {},
   "outputs": [],
   "source": [
    "model_params = {\n",
    "    \"batch_size\": BATCH_SIZE,\n",
    "    \"epochs\": EPOCHS,\n",
    "    \"es\": es,\n",
    "}"
   ]
  },
  {
   "cell_type": "code",
   "execution_count": 8,
   "metadata": {},
   "outputs": [
    {
     "name": "stdout",
     "output_type": "stream",
     "text": [
      "Starting 10-fold cross validation:\n",
      "    Validation 01 of 10 ... done [602.71s]\n",
      "    Validation 02 of 10 ... done [704.12s]\n",
      "    Validation 03 of 10 ... done [697.13s]\n",
      "    Validation 04 of 10 ... done [1047.81s]\n",
      "    Validation 05 of 10 ... done [1071.74s]\n",
      "    Validation 06 of 10 ... done [719.28s]\n",
      "    Validation 07 of 10 ... done [720.96s]\n",
      "    Validation 08 of 10 ... done [1417.98s]\n",
      "    Validation 09 of 10 ... done [1073.95s]\n",
      "    Validation 10 of 10 ... done [1527.49s]\n"
     ]
    }
   ],
   "source": [
    "scores = kfold_multi_input(model, model_params, [x_char, x_word], y, cv=10)"
   ]
  },
  {
   "cell_type": "code",
   "execution_count": 9,
   "metadata": {},
   "outputs": [
    {
     "data": {
      "text/plain": [
       "array([[0.981     , 0.98033333, 0.9895    , 0.98683333, 0.98933333,\n",
       "        0.9865    , 0.98966667, 0.98933333, 0.99116667, 0.98816667],\n",
       "       [0.97682584, 0.97304768, 0.9831309 , 0.98702186, 0.98771331,\n",
       "        0.97693351, 0.99395973, 0.98459478, 0.98900388, 0.98728814],\n",
       "       [0.94497283, 0.9468729 , 0.97458194, 0.96013289, 0.96918955,\n",
       "        0.96839274, 0.9654498 , 0.97286565, 0.97699681, 0.96347347],\n",
       "       [0.00728799, 0.0086417 , 0.00554939, 0.00422692, 0.00399379,\n",
       "        0.00753379, 0.00201523, 0.00512364, 0.00383315, 0.00395691]])"
      ]
     },
     "execution_count": 9,
     "metadata": {},
     "output_type": "execute_result"
    }
   ],
   "source": [
    "arr = scores_dict_to_array(scores)\n",
    "arr"
   ]
  },
  {
   "cell_type": "code",
   "execution_count": 10,
   "metadata": {},
   "outputs": [],
   "source": [
    "np.save(\"cv/fusion_23_cv.npy\", arr)"
   ]
  },
  {
   "cell_type": "code",
   "execution_count": null,
   "metadata": {},
   "outputs": [],
   "source": []
  }
 ],
 "metadata": {
  "kernelspec": {
   "display_name": "Python 3",
   "language": "python",
   "name": "python3"
  },
  "language_info": {
   "codemirror_mode": {
    "name": "ipython",
    "version": 3
   },
   "file_extension": ".py",
   "mimetype": "text/x-python",
   "name": "python",
   "nbconvert_exporter": "python",
   "pygments_lexer": "ipython3",
   "version": "3.7.4"
  },
  "varInspector": {
   "cols": {
    "lenName": 16,
    "lenType": 16,
    "lenVar": 40
   },
   "kernels_config": {
    "python": {
     "delete_cmd_postfix": "",
     "delete_cmd_prefix": "del ",
     "library": "var_list.py",
     "varRefreshCmd": "print(var_dic_list())"
    },
    "r": {
     "delete_cmd_postfix": ") ",
     "delete_cmd_prefix": "rm(",
     "library": "var_list.r",
     "varRefreshCmd": "cat(var_dic_list()) "
    }
   },
   "types_to_exclude": [
    "module",
    "function",
    "builtin_function_or_method",
    "instance",
    "_Feature"
   ],
   "window_display": false
  }
 },
 "nbformat": 4,
 "nbformat_minor": 2
}
