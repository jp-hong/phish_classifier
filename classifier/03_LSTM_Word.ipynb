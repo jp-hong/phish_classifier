{
 "cells": [
  {
   "cell_type": "code",
   "execution_count": 1,
   "metadata": {},
   "outputs": [],
   "source": [
    "from tensorflow.keras.models import Model\n",
    "from tensorflow.keras.layers import Input, Dense, Embedding, SpatialDropout1D, LSTM\n",
    "from tensorflow.keras.callbacks import EarlyStopping\n",
    "from sklearn.model_selection import train_test_split\n",
    "from sklearn.metrics import confusion_matrix\n",
    "import matplotlib.pyplot as plt\n",
    "import numpy as np\n",
    "\n",
    "from code.modelhelper import *"
   ]
  },
  {
   "cell_type": "code",
   "execution_count": 2,
   "metadata": {},
   "outputs": [],
   "source": [
    "N_VOCAB = 5000\n",
    "N_CLASS = 2\n",
    "BATCH_SIZE = 512\n",
    "EPOCHS = 200"
   ]
  },
  {
   "cell_type": "code",
   "execution_count": 3,
   "metadata": {},
   "outputs": [],
   "source": [
    "x = np.load(\"data/xy/x_word.npy\")\n",
    "y = np.load(\"data/xy/y_onehot.npy\")"
   ]
  },
  {
   "cell_type": "code",
   "execution_count": 4,
   "metadata": {},
   "outputs": [],
   "source": [
    "x_train, x_test, y_train, y_test = train_test_split(\n",
    "    x, y, test_size=0.3, random_state=42)"
   ]
  },
  {
   "cell_type": "code",
   "execution_count": 5,
   "metadata": {},
   "outputs": [
    {
     "name": "stdout",
     "output_type": "stream",
     "text": [
      "(127284, 24) (127284, 2)\n"
     ]
    }
   ],
   "source": [
    "print(x.shape, y.shape)"
   ]
  },
  {
   "cell_type": "code",
   "execution_count": 6,
   "metadata": {},
   "outputs": [
    {
     "name": "stdout",
     "output_type": "stream",
     "text": [
      "Model: \"model\"\n",
      "_________________________________________________________________\n",
      "Layer (type)                 Output Shape              Param #   \n",
      "=================================================================\n",
      "input_1 (InputLayer)         [(None, 24)]              0         \n",
      "_________________________________________________________________\n",
      "embedding (Embedding)        (None, 24, 32)            160000    \n",
      "_________________________________________________________________\n",
      "spatial_dropout1d (SpatialDr (None, 24, 32)            0         \n",
      "_________________________________________________________________\n",
      "lstm (LSTM)                  (None, 32)                8320      \n",
      "_________________________________________________________________\n",
      "dense (Dense)                (None, 2)                 66        \n",
      "=================================================================\n",
      "Total params: 168,386\n",
      "Trainable params: 168,386\n",
      "Non-trainable params: 0\n",
      "_________________________________________________________________\n"
     ]
    }
   ],
   "source": [
    "model_input = Input(shape=(x.shape[1], ), name=\"m3_input\")\n",
    "H = Embedding(N_VOCAB, 32, name=\"m3_embedding\")(model_input)\n",
    "H = SpatialDropout1D(0.25, name=\"m3_spacialdropout1d\")(H)\n",
    "H = LSTM(32, name=\"m3_lstm\")(H)\n",
    "model_output = Dense(N_CLASS, activation=\"softmax\", name=\"m3_output\")(H)\n",
    "\n",
    "model = Model(model_input, model_output)\n",
    "model.summary()\n",
    "\n",
    "model.compile(\n",
    "    loss=\"categorical_crossentropy\",\n",
    "    optimizer=\"adam\",\n",
    "    metrics=[\"accuracy\"]\n",
    ")"
   ]
  },
  {
   "cell_type": "code",
   "execution_count": 7,
   "metadata": {},
   "outputs": [
    {
     "name": "stderr",
     "output_type": "stream",
     "text": [
      "WARNING: Logging before flag parsing goes to stderr.\n",
      "W0823 13:42:56.518108 4712396224 deprecation.py:323] From /Library/Frameworks/Python.framework/Versions/3.7/lib/python3.7/site-packages/tensorflow/python/ops/math_grad.py:1250: add_dispatch_support.<locals>.wrapper (from tensorflow.python.ops.array_ops) is deprecated and will be removed in a future version.\n",
      "Instructions for updating:\n",
      "Use tf.where in 2.0, which has the same broadcast rule as np.where\n"
     ]
    },
    {
     "name": "stdout",
     "output_type": "stream",
     "text": [
      "Train on 89098 samples, validate on 38186 samples\n",
      "Epoch 1/200\n",
      "89098/89098 [==============================] - 9s 103us/sample - loss: 0.2647 - accuracy: 0.8977 - val_loss: 0.1069 - val_accuracy: 0.9678\n",
      "Epoch 2/200\n",
      "89098/89098 [==============================] - 9s 98us/sample - loss: 0.0861 - accuracy: 0.9721 - val_loss: 0.0804 - val_accuracy: 0.9742\n",
      "Epoch 3/200\n",
      "89098/89098 [==============================] - 7s 84us/sample - loss: 0.0703 - accuracy: 0.9775 - val_loss: 0.0762 - val_accuracy: 0.9754\n",
      "Epoch 4/200\n",
      "89098/89098 [==============================] - 9s 96us/sample - loss: 0.0645 - accuracy: 0.9793 - val_loss: 0.0758 - val_accuracy: 0.9758\n",
      "Epoch 5/200\n",
      "89098/89098 [==============================] - 8s 89us/sample - loss: 0.0603 - accuracy: 0.9812 - val_loss: 0.0713 - val_accuracy: 0.9774\n",
      "Epoch 6/200\n",
      "89098/89098 [==============================] - 8s 88us/sample - loss: 0.0579 - accuracy: 0.9818 - val_loss: 0.0719 - val_accuracy: 0.9778\n",
      "Epoch 7/200\n",
      "89098/89098 [==============================] - 8s 89us/sample - loss: 0.0564 - accuracy: 0.9826 - val_loss: 0.0730 - val_accuracy: 0.9769\n",
      "Epoch 8/200\n",
      "89098/89098 [==============================] - 9s 103us/sample - loss: 0.0542 - accuracy: 0.9834 - val_loss: 0.0727 - val_accuracy: 0.9771\n",
      "Epoch 9/200\n",
      "89098/89098 [==============================] - 8s 88us/sample - loss: 0.0536 - accuracy: 0.9833 - val_loss: 0.0735 - val_accuracy: 0.9772\n",
      "Epoch 10/200\n",
      "89098/89098 [==============================] - 8s 88us/sample - loss: 0.0530 - accuracy: 0.9841 - val_loss: 0.0736 - val_accuracy: 0.9771\n",
      "38186/38186 - 5s - loss: 0.0713 - accuracy: 0.9774\n"
     ]
    }
   ],
   "source": [
    "es = EarlyStopping(\n",
    "    monitor=\"val_loss\",\n",
    "    patience=5,\n",
    "    restore_best_weights=True\n",
    ")\n",
    "\n",
    "history = model.fit(\n",
    "    x_train, y_train,\n",
    "    batch_size=BATCH_SIZE,\n",
    "    epochs=EPOCHS,\n",
    "    verbose=1,\n",
    "    validation_data=(x_test, y_test),\n",
    "    callbacks=[es]\n",
    ")\n",
    "\n",
    "score = model.evaluate(x_test, y_test, verbose=2)"
   ]
  },
  {
   "cell_type": "code",
   "execution_count": 8,
   "metadata": {},
   "outputs": [
    {
     "name": "stdout",
     "output_type": "stream",
     "text": [
      "Test loss: 0.07127230922292371\n",
      "Test accuracy: 0.9774263\n",
      "Test recall: 0.9033816425120773\n",
      "[[31340   222]\n",
      " [  640  5984]]\n"
     ]
    }
   ],
   "source": [
    "print('Test loss:', score[0])\n",
    "print('Test accuracy:', score[1])\n",
    "\n",
    "y_pred = to_bin(model.predict(x_test))\n",
    "print(\"Test recall: {}\".format(recall(y_test, y_pred)))\n",
    "\n",
    "y_test0 = to_1D(y_test)\n",
    "y_pred0 = to_1D(y_pred)\n",
    "print(confusion_matrix(y_test0, y_pred0))"
   ]
  },
  {
   "cell_type": "code",
   "execution_count": 9,
   "metadata": {},
   "outputs": [
    {
     "data": {
      "image/png": "[encoded data removed]",
      "text/plain": [
       "<Figure size 864x432 with 1 Axes>"
      ]
     },
     "metadata": {
      "image/png": {
       "height": 375,
       "width": 730
      },
      "needs_background": "light"
     },
     "output_type": "display_data"
    }
   ],
   "source": [
    "plt.figure(figsize=(12, 6))\n",
    "plt.plot(history.history[\"accuracy\"], label=\"Train\")\n",
    "plt.plot(history.history[\"val_accuracy\"], label=\"Test\")\n",
    "plt.legend()\n",
    "plt.xlabel(\"Epochs\")\n",
    "plt.ylabel(\"Accuracy\")\n",
    "plt.show()"
   ]
  },
  {
   "cell_type": "code",
   "execution_count": 10,
   "metadata": {},
   "outputs": [],
   "source": [
    "model.save(\"models/dl/m3.h5\")"
   ]
  },
  {
   "cell_type": "code",
   "execution_count": null,
   "metadata": {},
   "outputs": [],
   "source": []
  }
 ],
 "metadata": {
  "kernelspec": {
   "display_name": "Python 3",
   "language": "python",
   "name": "python3"
  },
  "language_info": {
   "codemirror_mode": {
    "name": "ipython",
    "version": 3
   },
   "file_extension": ".py",
   "mimetype": "text/x-python",
   "name": "python",
   "nbconvert_exporter": "python",
   "pygments_lexer": "ipython3",
   "version": "3.7.4"
  },
  "varInspector": {
   "cols": {
    "lenName": 16,
    "lenType": 16,
    "lenVar": 40
   },
   "kernels_config": {
    "python": {
     "delete_cmd_postfix": "",
     "delete_cmd_prefix": "del ",
     "library": "var_list.py",
     "varRefreshCmd": "print(var_dic_list())"
    },
    "r": {
     "delete_cmd_postfix": ") ",
     "delete_cmd_prefix": "rm(",
     "library": "var_list.r",
     "varRefreshCmd": "cat(var_dic_list()) "
    }
   },
   "types_to_exclude": [
    "module",
    "function",
    "builtin_function_or_method",
    "instance",
    "_Feature"
   ],
   "window_display": false
  }
 },
 "nbformat": 4,
 "nbformat_minor": 2
}
