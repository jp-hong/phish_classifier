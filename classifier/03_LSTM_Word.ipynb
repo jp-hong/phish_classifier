{
 "cells": [
  {
   "cell_type": "code",
   "execution_count": 1,
   "metadata": {},
   "outputs": [],
   "source": [
    "from plaidml.keras import install_backend\n",
    "install_backend()\n",
    "\n",
    "from tensorflow.keras.models import Model\n",
    "from tensorflow.keras.layers import Input, Dense, Embedding, SpatialDropout1D, LSTM\n",
    "from tensorflow.keras.callbacks import EarlyStopping\n",
    "from sklearn.model_selection import train_test_split\n",
    "from sklearn.metrics import confusion_matrix\n",
    "import matplotlib.pyplot as plt\n",
    "import numpy as np\n",
    "\n",
    "from code.modelhelper import *"
   ]
  },
  {
   "cell_type": "code",
   "execution_count": 2,
   "metadata": {},
   "outputs": [],
   "source": [
    "N_VOCAB = 4000\n",
    "N_CLASS = 2\n",
    "BATCH_SIZE = 512\n",
    "EPOCHS = 100"
   ]
  },
  {
   "cell_type": "code",
   "execution_count": 3,
   "metadata": {},
   "outputs": [],
   "source": [
    "x = np.load(\"data/x_word.npy\")\n",
    "y = np.load(\"data/y_onehot.npy\")"
   ]
  },
  {
   "cell_type": "code",
   "execution_count": 4,
   "metadata": {},
   "outputs": [],
   "source": [
    "x_train, x_test, y_train, y_test = train_test_split(\n",
    "    x, y, test_size=0.3, random_state=42)"
   ]
  },
  {
   "cell_type": "code",
   "execution_count": 5,
   "metadata": {},
   "outputs": [
    {
     "name": "stdout",
     "output_type": "stream",
     "text": [
      "(127284, 24) (127284, 2)\n"
     ]
    }
   ],
   "source": [
    "print(x.shape, y.shape)"
   ]
  },
  {
   "cell_type": "code",
   "execution_count": 6,
   "metadata": {},
   "outputs": [
    {
     "name": "stdout",
     "output_type": "stream",
     "text": [
      "Model: \"model\"\n",
      "_________________________________________________________________\n",
      "Layer (type)                 Output Shape              Param #   \n",
      "=================================================================\n",
      "input_1 (InputLayer)         [(None, 24)]              0         \n",
      "_________________________________________________________________\n",
      "embedding (Embedding)        (None, 24, 32)            128000    \n",
      "_________________________________________________________________\n",
      "spatial_dropout1d (SpatialDr (None, 24, 32)            0         \n",
      "_________________________________________________________________\n",
      "lstm (LSTM)                  (None, 32)                8320      \n",
      "_________________________________________________________________\n",
      "dense (Dense)                (None, 2)                 66        \n",
      "=================================================================\n",
      "Total params: 136,386\n",
      "Trainable params: 136,386\n",
      "Non-trainable params: 0\n",
      "_________________________________________________________________\n"
     ]
    }
   ],
   "source": [
    "model_input = Input(shape=(x.shape[1], ))\n",
    "H = Embedding(N_VOCAB, 32)(model_input)\n",
    "H = SpatialDropout1D(0.5)(H)\n",
    "H = LSTM(32)(H)\n",
    "model_output = Dense(N_CLASS, activation=\"softmax\")(H)\n",
    "\n",
    "model = Model(model_input, model_output)\n",
    "model.summary()\n",
    "\n",
    "model.compile(\n",
    "    loss=\"categorical_crossentropy\",\n",
    "    optimizer=\"adam\",\n",
    "    metrics=[\"accuracy\"]\n",
    ")"
   ]
  },
  {
   "cell_type": "code",
   "execution_count": 7,
   "metadata": {},
   "outputs": [
    {
     "name": "stderr",
     "output_type": "stream",
     "text": [
      "WARNING: Logging before flag parsing goes to stderr.\n",
      "W0820 16:15:43.113014 4544632256 deprecation.py:323] From /Library/Frameworks/Python.framework/Versions/3.7/lib/python3.7/site-packages/tensorflow/python/ops/math_grad.py:1250: add_dispatch_support.<locals>.wrapper (from tensorflow.python.ops.array_ops) is deprecated and will be removed in a future version.\n",
      "Instructions for updating:\n",
      "Use tf.where in 2.0, which has the same broadcast rule as np.where\n"
     ]
    },
    {
     "name": "stdout",
     "output_type": "stream",
     "text": [
      "Train on 89098 samples, validate on 38186 samples\n",
      "Epoch 1/100\n",
      "89098/89098 [==============================] - 9s 98us/sample - loss: 0.2900 - accuracy: 0.8906 - val_loss: 0.1091 - val_accuracy: 0.9617\n",
      "Epoch 2/100\n",
      "89098/89098 [==============================] - 8s 94us/sample - loss: 0.0937 - accuracy: 0.9689 - val_loss: 0.0835 - val_accuracy: 0.9725\n",
      "Epoch 3/100\n",
      "89098/89098 [==============================] - 7s 75us/sample - loss: 0.0772 - accuracy: 0.9749 - val_loss: 0.0787 - val_accuracy: 0.9740\n",
      "Epoch 4/100\n",
      "89098/89098 [==============================] - 7s 76us/sample - loss: 0.0719 - accuracy: 0.9768 - val_loss: 0.0776 - val_accuracy: 0.9749\n",
      "Epoch 5/100\n",
      "89098/89098 [==============================] - 7s 84us/sample - loss: 0.0677 - accuracy: 0.9783 - val_loss: 0.0755 - val_accuracy: 0.9754\n",
      "Epoch 6/100\n",
      "89098/89098 [==============================] - 7s 80us/sample - loss: 0.0654 - accuracy: 0.9793 - val_loss: 0.0742 - val_accuracy: 0.9759\n",
      "Epoch 7/100\n",
      "89098/89098 [==============================] - 7s 75us/sample - loss: 0.0639 - accuracy: 0.9800 - val_loss: 0.0746 - val_accuracy: 0.9762\n",
      "Epoch 8/100\n",
      "89098/89098 [==============================] - 7s 77us/sample - loss: 0.0626 - accuracy: 0.9801 - val_loss: 0.0746 - val_accuracy: 0.9763\n",
      "Epoch 9/100\n",
      "89098/89098 [==============================] - 7s 79us/sample - loss: 0.0612 - accuracy: 0.9809 - val_loss: 0.0742 - val_accuracy: 0.9766\n",
      "Epoch 10/100\n",
      "89098/89098 [==============================] - 7s 79us/sample - loss: 0.0599 - accuracy: 0.9815 - val_loss: 0.0747 - val_accuracy: 0.9765\n",
      "Epoch 11/100\n",
      "89098/89098 [==============================] - 7s 79us/sample - loss: 0.0585 - accuracy: 0.9814 - val_loss: 0.0786 - val_accuracy: 0.9754\n",
      "Epoch 12/100\n",
      "89098/89098 [==============================] - 7s 78us/sample - loss: 0.0583 - accuracy: 0.9818 - val_loss: 0.0741 - val_accuracy: 0.9764\n",
      "Epoch 13/100\n",
      "89098/89098 [==============================] - 7s 78us/sample - loss: 0.0570 - accuracy: 0.9820 - val_loss: 0.0746 - val_accuracy: 0.9765\n",
      "Epoch 14/100\n",
      "89098/89098 [==============================] - 7s 78us/sample - loss: 0.0563 - accuracy: 0.9823 - val_loss: 0.0746 - val_accuracy: 0.9767\n",
      "Epoch 15/100\n",
      "89098/89098 [==============================] - 7s 78us/sample - loss: 0.0558 - accuracy: 0.9825 - val_loss: 0.0755 - val_accuracy: 0.9767\n",
      "Epoch 16/100\n",
      "89098/89098 [==============================] - 7s 79us/sample - loss: 0.0551 - accuracy: 0.9828 - val_loss: 0.0770 - val_accuracy: 0.9764\n",
      "Epoch 17/100\n",
      "89098/89098 [==============================] - 7s 79us/sample - loss: 0.0563 - accuracy: 0.9825 - val_loss: 0.0762 - val_accuracy: 0.9765\n"
     ]
    }
   ],
   "source": [
    "es = EarlyStopping(\n",
    "    monitor=\"val_loss\",\n",
    "    patience=5,\n",
    "    restore_best_weights=True\n",
    ")\n",
    "\n",
    "history = model.fit(\n",
    "    x_train, y_train,\n",
    "    batch_size=BATCH_SIZE,\n",
    "    epochs=EPOCHS,\n",
    "    verbose=1,\n",
    "    validation_data=(x_test, y_test),\n",
    "    callbacks=[es]\n",
    ")\n",
    "\n",
    "score = model.evaluate(x_test, y_test, verbose=0)"
   ]
  },
  {
   "cell_type": "code",
   "execution_count": 8,
   "metadata": {},
   "outputs": [
    {
     "name": "stdout",
     "output_type": "stream",
     "text": [
      "Test loss: 0.07410634220579483\n",
      "Test accuracy: 0.9763788\n",
      "Test recall: 0.8923611111111112\n",
      "[[31373   189]\n",
      " [  713  5911]]\n"
     ]
    }
   ],
   "source": [
    "print('Test loss:', score[0])\n",
    "print('Test accuracy:', score[1])\n",
    "\n",
    "y_pred_model = model.predict(x_test)\n",
    "y_pred = to_bin(y_pred_model)\n",
    "print(\"Test recall: {}\".format(recall(y_test, y_pred)))\n",
    "\n",
    "y_test0 = to_1D(y_test)\n",
    "y_pred0 = to_1D(y_pred)\n",
    "print(confusion_matrix(y_test0, y_pred0))"
   ]
  },
  {
   "cell_type": "code",
   "execution_count": 9,
   "metadata": {},
   "outputs": [
    {
     "data": {
      "image/png": "[encoded data removed]",
      "text/plain": [
       "<Figure size 864x432 with 1 Axes>"
      ]
     },
     "metadata": {
      "image/png": {
       "height": 375,
       "width": 730
      },
      "needs_background": "light"
     },
     "output_type": "display_data"
    }
   ],
   "source": [
    "plt.figure(figsize=(12, 6))\n",
    "plt.plot(history.history[\"accuracy\"], label=\"Train\")\n",
    "plt.plot(history.history[\"val_accuracy\"], label=\"Test\")\n",
    "plt.legend()\n",
    "plt.xlabel(\"Epochs\")\n",
    "plt.ylabel(\"Accuracy\")\n",
    "plt.show()"
   ]
  },
  {
   "cell_type": "code",
   "execution_count": 10,
   "metadata": {},
   "outputs": [],
   "source": [
    "model.save(\"models/lstm_word.h5\")"
   ]
  },
  {
   "cell_type": "code",
   "execution_count": null,
   "metadata": {},
   "outputs": [],
   "source": []
  }
 ],
 "metadata": {
  "kernelspec": {
   "display_name": "Python 3",
   "language": "python",
   "name": "python3"
  },
  "language_info": {
   "codemirror_mode": {
    "name": "ipython",
    "version": 3
   },
   "file_extension": ".py",
   "mimetype": "text/x-python",
   "name": "python",
   "nbconvert_exporter": "python",
   "pygments_lexer": "ipython3",
   "version": "3.7.4"
  },
  "varInspector": {
   "cols": {
    "lenName": 16,
    "lenType": 16,
    "lenVar": 40
   },
   "kernels_config": {
    "python": {
     "delete_cmd_postfix": "",
     "delete_cmd_prefix": "del ",
     "library": "var_list.py",
     "varRefreshCmd": "print(var_dic_list())"
    },
    "r": {
     "delete_cmd_postfix": ") ",
     "delete_cmd_prefix": "rm(",
     "library": "var_list.r",
     "varRefreshCmd": "cat(var_dic_list()) "
    }
   },
   "types_to_exclude": [
    "module",
    "function",
    "builtin_function_or_method",
    "instance",
    "_Feature"
   ],
   "window_display": false
  }
 },
 "nbformat": 4,
 "nbformat_minor": 2
}
