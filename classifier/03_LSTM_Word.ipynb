{
 "cells": [
  {
   "cell_type": "code",
   "execution_count": 1,
   "metadata": {},
   "outputs": [],
   "source": [
    "from tensorflow.keras.models import Model\n",
    "from tensorflow.keras.layers import Input, Dense, Embedding, SpatialDropout1D, LSTM\n",
    "from tensorflow.keras.callbacks import EarlyStopping\n",
    "from sklearn.model_selection import train_test_split\n",
    "from sklearn.metrics import confusion_matrix\n",
    "import matplotlib.pyplot as plt\n",
    "import numpy as np\n",
    "\n",
    "from code.modelhelper import *"
   ]
  },
  {
   "cell_type": "code",
   "execution_count": 2,
   "metadata": {},
   "outputs": [],
   "source": [
    "N_VOCAB = 4000\n",
    "N_CLASS = 2\n",
    "BATCH_SIZE = 512\n",
    "EPOCHS = 200"
   ]
  },
  {
   "cell_type": "code",
   "execution_count": 3,
   "metadata": {},
   "outputs": [],
   "source": [
    "x = np.load(\"data/x_word.npy\")\n",
    "y = np.load(\"data/y_onehot.npy\")"
   ]
  },
  {
   "cell_type": "code",
   "execution_count": 4,
   "metadata": {},
   "outputs": [],
   "source": [
    "x_train, x_test, y_train, y_test = train_test_split(\n",
    "    x, y, test_size=0.3, random_state=42)"
   ]
  },
  {
   "cell_type": "code",
   "execution_count": 5,
   "metadata": {},
   "outputs": [
    {
     "name": "stdout",
     "output_type": "stream",
     "text": [
      "(127284, 24) (127284, 2)\n"
     ]
    }
   ],
   "source": [
    "print(x.shape, y.shape)"
   ]
  },
  {
   "cell_type": "code",
   "execution_count": 6,
   "metadata": {},
   "outputs": [
    {
     "name": "stdout",
     "output_type": "stream",
     "text": [
      "Model: \"model\"\n",
      "_________________________________________________________________\n",
      "Layer (type)                 Output Shape              Param #   \n",
      "=================================================================\n",
      "input_1 (InputLayer)         [(None, 24)]              0         \n",
      "_________________________________________________________________\n",
      "embedding (Embedding)        (None, 24, 32)            128000    \n",
      "_________________________________________________________________\n",
      "spatial_dropout1d (SpatialDr (None, 24, 32)            0         \n",
      "_________________________________________________________________\n",
      "lstm (LSTM)                  (None, 32)                8320      \n",
      "_________________________________________________________________\n",
      "dense (Dense)                (None, 2)                 66        \n",
      "=================================================================\n",
      "Total params: 136,386\n",
      "Trainable params: 136,386\n",
      "Non-trainable params: 0\n",
      "_________________________________________________________________\n"
     ]
    }
   ],
   "source": [
    "model_input = Input(shape=(x.shape[1], ))\n",
    "H = Embedding(N_VOCAB, 32)(model_input)\n",
    "H = SpatialDropout1D(0.25)(H)\n",
    "H = LSTM(32)(H)\n",
    "model_output = Dense(N_CLASS, activation=\"softmax\")(H)\n",
    "\n",
    "model = Model(model_input, model_output)\n",
    "model.summary()\n",
    "\n",
    "model.compile(\n",
    "    loss=\"categorical_crossentropy\",\n",
    "    optimizer=\"adam\",\n",
    "    metrics=[\"accuracy\"]\n",
    ")"
   ]
  },
  {
   "cell_type": "code",
   "execution_count": 7,
   "metadata": {},
   "outputs": [
    {
     "name": "stderr",
     "output_type": "stream",
     "text": [
      "WARNING: Logging before flag parsing goes to stderr.\n",
      "W0820 20:58:00.034816 4626777536 deprecation.py:323] From /Library/Frameworks/Python.framework/Versions/3.7/lib/python3.7/site-packages/tensorflow/python/ops/math_grad.py:1250: add_dispatch_support.<locals>.wrapper (from tensorflow.python.ops.array_ops) is deprecated and will be removed in a future version.\n",
      "Instructions for updating:\n",
      "Use tf.where in 2.0, which has the same broadcast rule as np.where\n"
     ]
    },
    {
     "name": "stdout",
     "output_type": "stream",
     "text": [
      "Train on 89098 samples, validate on 38186 samples\n",
      "Epoch 1/200\n",
      "89098/89098 [==============================] - 8s 86us/sample - loss: 0.2502 - accuracy: 0.9058 - val_loss: 0.0969 - val_accuracy: 0.9667\n",
      "Epoch 2/200\n",
      "89098/89098 [==============================] - 6s 73us/sample - loss: 0.0842 - accuracy: 0.9724 - val_loss: 0.0806 - val_accuracy: 0.9730\n",
      "Epoch 3/200\n",
      "89098/89098 [==============================] - 6s 71us/sample - loss: 0.0719 - accuracy: 0.9771 - val_loss: 0.0768 - val_accuracy: 0.9749\n",
      "Epoch 4/200\n",
      "89098/89098 [==============================] - 6s 71us/sample - loss: 0.0669 - accuracy: 0.9788 - val_loss: 0.0748 - val_accuracy: 0.9759\n",
      "Epoch 5/200\n",
      "89098/89098 [==============================] - 6s 71us/sample - loss: 0.0635 - accuracy: 0.9799 - val_loss: 0.0827 - val_accuracy: 0.9739\n",
      "Epoch 6/200\n",
      "89098/89098 [==============================] - 6s 72us/sample - loss: 0.0626 - accuracy: 0.9803 - val_loss: 0.0764 - val_accuracy: 0.9755\n",
      "Epoch 7/200\n",
      "89098/89098 [==============================] - 6s 71us/sample - loss: 0.0600 - accuracy: 0.9809 - val_loss: 0.0749 - val_accuracy: 0.9764\n",
      "Epoch 8/200\n",
      "89098/89098 [==============================] - 6s 72us/sample - loss: 0.0577 - accuracy: 0.9817 - val_loss: 0.0785 - val_accuracy: 0.9764\n",
      "Epoch 9/200\n",
      "89098/89098 [==============================] - 6s 72us/sample - loss: 0.0570 - accuracy: 0.9823 - val_loss: 0.0754 - val_accuracy: 0.9765\n",
      "Epoch 10/200\n",
      "89098/89098 [==============================] - 6s 71us/sample - loss: 0.0559 - accuracy: 0.9823 - val_loss: 0.0748 - val_accuracy: 0.9766\n",
      "Epoch 11/200\n",
      "89098/89098 [==============================] - 6s 73us/sample - loss: 0.0554 - accuracy: 0.9827 - val_loss: 0.0753 - val_accuracy: 0.9766\n",
      "Epoch 12/200\n",
      "89098/89098 [==============================] - 6s 72us/sample - loss: 0.0547 - accuracy: 0.9828 - val_loss: 0.0762 - val_accuracy: 0.9765\n",
      "Epoch 13/200\n",
      "89098/89098 [==============================] - 6s 70us/sample - loss: 0.0535 - accuracy: 0.9835 - val_loss: 0.0803 - val_accuracy: 0.9753\n",
      "Epoch 14/200\n",
      "89098/89098 [==============================] - 6s 69us/sample - loss: 0.0541 - accuracy: 0.9830 - val_loss: 0.0806 - val_accuracy: 0.9748\n",
      "Epoch 15/200\n",
      "89098/89098 [==============================] - 6s 72us/sample - loss: 0.0533 - accuracy: 0.9834 - val_loss: 0.0789 - val_accuracy: 0.9767\n",
      "Epoch 16/200\n",
      "89098/89098 [==============================] - 6s 70us/sample - loss: 0.0529 - accuracy: 0.9836 - val_loss: 0.0784 - val_accuracy: 0.9764\n",
      "Epoch 17/200\n",
      "89098/89098 [==============================] - 6s 71us/sample - loss: 0.0520 - accuracy: 0.9838 - val_loss: 0.0791 - val_accuracy: 0.9759\n",
      "Epoch 18/200\n",
      "89098/89098 [==============================] - 6s 69us/sample - loss: 0.0517 - accuracy: 0.9838 - val_loss: 0.0799 - val_accuracy: 0.9758\n",
      "Epoch 19/200\n",
      "89098/89098 [==============================] - 6s 68us/sample - loss: 0.0517 - accuracy: 0.9840 - val_loss: 0.0806 - val_accuracy: 0.9759\n",
      "Epoch 20/200\n",
      "89098/89098 [==============================] - 6s 70us/sample - loss: 0.0510 - accuracy: 0.9841 - val_loss: 0.0808 - val_accuracy: 0.9757\n",
      "Epoch 21/200\n",
      "89098/89098 [==============================] - 6s 72us/sample - loss: 0.0509 - accuracy: 0.9841 - val_loss: 0.0816 - val_accuracy: 0.9758\n",
      "Epoch 22/200\n",
      "89098/89098 [==============================] - 6s 72us/sample - loss: 0.0508 - accuracy: 0.9839 - val_loss: 0.0817 - val_accuracy: 0.9757\n",
      "Epoch 23/200\n",
      "89098/89098 [==============================] - 6s 72us/sample - loss: 0.0506 - accuracy: 0.9843 - val_loss: 0.0823 - val_accuracy: 0.9756\n",
      "Epoch 24/200\n",
      "89098/89098 [==============================] - 6s 71us/sample - loss: 0.0503 - accuracy: 0.9842 - val_loss: 0.0853 - val_accuracy: 0.9748\n",
      "Epoch 25/200\n",
      "89098/89098 [==============================] - 6s 71us/sample - loss: 0.0502 - accuracy: 0.9844 - val_loss: 0.0843 - val_accuracy: 0.9758\n",
      "Epoch 26/200\n",
      "89098/89098 [==============================] - 7s 74us/sample - loss: 0.0500 - accuracy: 0.9844 - val_loss: 0.0826 - val_accuracy: 0.9753\n",
      "Epoch 27/200\n",
      "89098/89098 [==============================] - 7s 74us/sample - loss: 0.0493 - accuracy: 0.9846 - val_loss: 0.0855 - val_accuracy: 0.9756\n",
      "Epoch 28/200\n",
      "89098/89098 [==============================] - 7s 74us/sample - loss: 0.0498 - accuracy: 0.9846 - val_loss: 0.0841 - val_accuracy: 0.9752\n",
      "Epoch 29/200\n",
      "89098/89098 [==============================] - 7s 74us/sample - loss: 0.0493 - accuracy: 0.9844 - val_loss: 0.0860 - val_accuracy: 0.9756\n",
      "Epoch 30/200\n",
      "89098/89098 [==============================] - 7s 74us/sample - loss: 0.0492 - accuracy: 0.9845 - val_loss: 0.0857 - val_accuracy: 0.9745\n",
      "Epoch 31/200\n",
      "89098/89098 [==============================] - 7s 75us/sample - loss: 0.0487 - accuracy: 0.9847 - val_loss: 0.0868 - val_accuracy: 0.9751\n",
      "Epoch 32/200\n",
      "89098/89098 [==============================] - 6s 70us/sample - loss: 0.0484 - accuracy: 0.9848 - val_loss: 0.0869 - val_accuracy: 0.9753\n",
      "Epoch 33/200\n",
      "89098/89098 [==============================] - 6s 69us/sample - loss: 0.0478 - accuracy: 0.9849 - val_loss: 0.0863 - val_accuracy: 0.9754\n",
      "Epoch 34/200\n",
      "89098/89098 [==============================] - 6s 69us/sample - loss: 0.0481 - accuracy: 0.9849 - val_loss: 0.0871 - val_accuracy: 0.9751\n",
      "Epoch 35/200\n",
      "89098/89098 [==============================] - 6s 70us/sample - loss: 0.0473 - accuracy: 0.9852 - val_loss: 0.0896 - val_accuracy: 0.9751\n",
      "Epoch 36/200\n",
      "89098/89098 [==============================] - 6s 69us/sample - loss: 0.0488 - accuracy: 0.9847 - val_loss: 0.0878 - val_accuracy: 0.9753\n",
      "Epoch 37/200\n",
      "89098/89098 [==============================] - 6s 68us/sample - loss: 0.0474 - accuracy: 0.9852 - val_loss: 0.0878 - val_accuracy: 0.9752\n",
      "Epoch 38/200\n",
      "89098/89098 [==============================] - 6s 68us/sample - loss: 0.0469 - accuracy: 0.9853 - val_loss: 0.0895 - val_accuracy: 0.9750\n",
      "Epoch 39/200\n",
      "89098/89098 [==============================] - 6s 67us/sample - loss: 0.0469 - accuracy: 0.9852 - val_loss: 0.0902 - val_accuracy: 0.9753\n",
      "Epoch 40/200\n",
      "89098/89098 [==============================] - 6s 70us/sample - loss: 0.0463 - accuracy: 0.9856 - val_loss: 0.0901 - val_accuracy: 0.9749\n",
      "Epoch 41/200\n",
      "89098/89098 [==============================] - 6s 70us/sample - loss: 0.0464 - accuracy: 0.9855 - val_loss: 0.0909 - val_accuracy: 0.9748\n",
      "Epoch 42/200\n",
      "89098/89098 [==============================] - 6s 73us/sample - loss: 0.0462 - accuracy: 0.9855 - val_loss: 0.0929 - val_accuracy: 0.9751\n",
      "Epoch 43/200\n",
      "89098/89098 [==============================] - 6s 69us/sample - loss: 0.0459 - accuracy: 0.9856 - val_loss: 0.0920 - val_accuracy: 0.9742\n",
      "Epoch 44/200\n",
      "89098/89098 [==============================] - 6s 68us/sample - loss: 0.0459 - accuracy: 0.9855 - val_loss: 0.0926 - val_accuracy: 0.9752\n",
      "Epoch 45/200\n",
      "89098/89098 [==============================] - 6s 69us/sample - loss: 0.0460 - accuracy: 0.9857 - val_loss: 0.0916 - val_accuracy: 0.9752\n",
      "Epoch 46/200\n",
      "89098/89098 [==============================] - 7s 79us/sample - loss: 0.0450 - accuracy: 0.9859 - val_loss: 0.0949 - val_accuracy: 0.9749\n",
      "Epoch 47/200\n",
      "89098/89098 [==============================] - 7s 77us/sample - loss: 0.0453 - accuracy: 0.9860 - val_loss: 0.0960 - val_accuracy: 0.9754\n",
      "Epoch 48/200\n",
      "89098/89098 [==============================] - 6s 69us/sample - loss: 0.0453 - accuracy: 0.9857 - val_loss: 0.0957 - val_accuracy: 0.9745\n",
      "Epoch 49/200\n",
      "89098/89098 [==============================] - 6s 69us/sample - loss: 0.0454 - accuracy: 0.9858 - val_loss: 0.0982 - val_accuracy: 0.9747\n",
      "Epoch 50/200\n",
      "89098/89098 [==============================] - 7s 73us/sample - loss: 0.0456 - accuracy: 0.9857 - val_loss: 0.0958 - val_accuracy: 0.9749\n",
      "Epoch 51/200\n",
      "89098/89098 [==============================] - 6s 72us/sample - loss: 0.0450 - accuracy: 0.9860 - val_loss: 0.0955 - val_accuracy: 0.9750\n",
      "Epoch 52/200\n",
      "89098/89098 [==============================] - 6s 72us/sample - loss: 0.0450 - accuracy: 0.9858 - val_loss: 0.0976 - val_accuracy: 0.9756\n",
      "Epoch 53/200\n",
      "89098/89098 [==============================] - 7s 74us/sample - loss: 0.0452 - accuracy: 0.9859 - val_loss: 0.0967 - val_accuracy: 0.9755\n",
      "Epoch 54/200\n",
      "89098/89098 [==============================] - 6s 72us/sample - loss: 0.0449 - accuracy: 0.9861 - val_loss: 0.0969 - val_accuracy: 0.9753\n"
     ]
    },
    {
     "name": "stdout",
     "output_type": "stream",
     "text": [
      "Epoch 55/200\n",
      "89098/89098 [==============================] - 6s 70us/sample - loss: 0.0444 - accuracy: 0.9862 - val_loss: 0.0980 - val_accuracy: 0.9749\n",
      "Epoch 56/200\n",
      "89098/89098 [==============================] - 6s 70us/sample - loss: 0.0443 - accuracy: 0.9862 - val_loss: 0.0982 - val_accuracy: 0.9755\n",
      "Epoch 57/200\n",
      "89098/89098 [==============================] - 6s 70us/sample - loss: 0.0444 - accuracy: 0.9861 - val_loss: 0.0985 - val_accuracy: 0.9748\n",
      "Epoch 58/200\n",
      "89098/89098 [==============================] - 6s 70us/sample - loss: 0.0437 - accuracy: 0.9862 - val_loss: 0.0985 - val_accuracy: 0.9750\n",
      "Epoch 59/200\n",
      "89098/89098 [==============================] - 6s 70us/sample - loss: 0.0440 - accuracy: 0.9862 - val_loss: 0.1010 - val_accuracy: 0.9751\n",
      "Epoch 60/200\n",
      "89098/89098 [==============================] - 6s 71us/sample - loss: 0.0440 - accuracy: 0.9863 - val_loss: 0.1014 - val_accuracy: 0.9755\n",
      "Epoch 61/200\n",
      "89098/89098 [==============================] - 6s 70us/sample - loss: 0.0442 - accuracy: 0.9861 - val_loss: 0.0993 - val_accuracy: 0.9748\n",
      "Epoch 62/200\n",
      "89098/89098 [==============================] - 6s 71us/sample - loss: 0.0439 - accuracy: 0.9864 - val_loss: 0.0993 - val_accuracy: 0.9753\n",
      "Epoch 63/200\n",
      "89098/89098 [==============================] - 6s 71us/sample - loss: 0.0436 - accuracy: 0.9864 - val_loss: 0.0993 - val_accuracy: 0.9754\n",
      "Epoch 64/200\n",
      "89098/89098 [==============================] - 6s 71us/sample - loss: 0.0435 - accuracy: 0.9863 - val_loss: 0.1008 - val_accuracy: 0.9754\n",
      "Epoch 65/200\n",
      "89098/89098 [==============================] - 6s 71us/sample - loss: 0.0433 - accuracy: 0.9864 - val_loss: 0.1010 - val_accuracy: 0.9753\n",
      "Epoch 66/200\n",
      "89098/89098 [==============================] - 6s 72us/sample - loss: 0.0432 - accuracy: 0.9867 - val_loss: 0.1026 - val_accuracy: 0.9753\n",
      "Epoch 67/200\n",
      "89098/89098 [==============================] - 6s 71us/sample - loss: 0.0429 - accuracy: 0.9867 - val_loss: 0.1042 - val_accuracy: 0.9753\n",
      "Epoch 68/200\n",
      "89098/89098 [==============================] - 6s 71us/sample - loss: 0.0426 - accuracy: 0.9869 - val_loss: 0.1039 - val_accuracy: 0.9748\n",
      "Epoch 69/200\n",
      "89098/89098 [==============================] - 6s 71us/sample - loss: 0.0430 - accuracy: 0.9868 - val_loss: 0.1039 - val_accuracy: 0.9749\n",
      "Epoch 70/200\n",
      "89098/89098 [==============================] - 6s 71us/sample - loss: 0.0428 - accuracy: 0.9866 - val_loss: 0.1031 - val_accuracy: 0.9750\n",
      "Epoch 71/200\n",
      "89098/89098 [==============================] - 6s 71us/sample - loss: 0.0433 - accuracy: 0.9862 - val_loss: 0.1036 - val_accuracy: 0.9751\n",
      "Epoch 72/200\n",
      "89098/89098 [==============================] - 6s 70us/sample - loss: 0.0426 - accuracy: 0.9867 - val_loss: 0.1041 - val_accuracy: 0.9748\n",
      "Epoch 73/200\n",
      "89098/89098 [==============================] - 6s 70us/sample - loss: 0.0425 - accuracy: 0.9868 - val_loss: 0.1070 - val_accuracy: 0.9752\n",
      "Epoch 74/200\n",
      "89098/89098 [==============================] - 6s 71us/sample - loss: 0.0426 - accuracy: 0.9867 - val_loss: 0.1040 - val_accuracy: 0.9752\n",
      "Epoch 75/200\n",
      "89098/89098 [==============================] - 6s 70us/sample - loss: 0.0428 - accuracy: 0.9869 - val_loss: 0.1056 - val_accuracy: 0.9747\n",
      "Epoch 76/200\n",
      "89098/89098 [==============================] - 6s 69us/sample - loss: 0.0424 - accuracy: 0.9870 - val_loss: 0.1049 - val_accuracy: 0.9750\n",
      "Epoch 77/200\n",
      "89098/89098 [==============================] - 6s 70us/sample - loss: 0.0424 - accuracy: 0.9870 - val_loss: 0.1046 - val_accuracy: 0.9743\n",
      "Epoch 78/200\n",
      "89098/89098 [==============================] - 6s 70us/sample - loss: 0.0423 - accuracy: 0.9869 - val_loss: 0.1064 - val_accuracy: 0.9743\n",
      "Epoch 79/200\n",
      "89098/89098 [==============================] - 6s 70us/sample - loss: 0.0423 - accuracy: 0.9867 - val_loss: 0.1050 - val_accuracy: 0.9744\n",
      "Epoch 80/200\n",
      "89098/89098 [==============================] - 6s 70us/sample - loss: 0.0418 - accuracy: 0.9871 - val_loss: 0.1082 - val_accuracy: 0.9753\n",
      "Epoch 81/200\n",
      "89098/89098 [==============================] - 6s 70us/sample - loss: 0.0417 - accuracy: 0.9870 - val_loss: 0.1073 - val_accuracy: 0.9752\n",
      "Epoch 82/200\n",
      "89098/89098 [==============================] - 6s 72us/sample - loss: 0.0417 - accuracy: 0.9872 - val_loss: 0.1094 - val_accuracy: 0.9751\n",
      "Epoch 83/200\n",
      "89098/89098 [==============================] - 6s 71us/sample - loss: 0.0419 - accuracy: 0.9871 - val_loss: 0.1107 - val_accuracy: 0.9755\n",
      "Epoch 84/200\n",
      "89098/89098 [==============================] - 6s 71us/sample - loss: 0.0419 - accuracy: 0.9869 - val_loss: 0.1094 - val_accuracy: 0.9752\n",
      "Epoch 85/200\n",
      "89098/89098 [==============================] - 6s 71us/sample - loss: 0.0414 - accuracy: 0.9870 - val_loss: 0.1098 - val_accuracy: 0.9747\n",
      "Epoch 86/200\n",
      "89098/89098 [==============================] - 6s 70us/sample - loss: 0.0416 - accuracy: 0.9871 - val_loss: 0.1112 - val_accuracy: 0.9750\n",
      "Epoch 87/200\n",
      "89098/89098 [==============================] - 6s 70us/sample - loss: 0.0413 - accuracy: 0.9870 - val_loss: 0.1114 - val_accuracy: 0.9749\n",
      "Epoch 88/200\n",
      "89098/89098 [==============================] - 6s 70us/sample - loss: 0.0412 - accuracy: 0.9871 - val_loss: 0.1112 - val_accuracy: 0.9749\n",
      "Epoch 89/200\n",
      "89098/89098 [==============================] - 6s 72us/sample - loss: 0.0416 - accuracy: 0.9870 - val_loss: 0.1112 - val_accuracy: 0.9751\n",
      "Epoch 90/200\n",
      "89098/89098 [==============================] - 7s 80us/sample - loss: 0.0411 - accuracy: 0.9871 - val_loss: 0.1081 - val_accuracy: 0.9745\n",
      "Epoch 91/200\n",
      "89098/89098 [==============================] - 6s 73us/sample - loss: 0.0411 - accuracy: 0.9872 - val_loss: 0.1098 - val_accuracy: 0.9744\n",
      "Epoch 92/200\n",
      "89098/89098 [==============================] - 6s 73us/sample - loss: 0.0412 - accuracy: 0.9872 - val_loss: 0.1095 - val_accuracy: 0.9748\n",
      "Epoch 93/200\n",
      "89098/89098 [==============================] - 6s 72us/sample - loss: 0.0417 - accuracy: 0.9869 - val_loss: 0.1093 - val_accuracy: 0.9747\n",
      "Epoch 94/200\n",
      "89098/89098 [==============================] - 6s 71us/sample - loss: 0.0416 - accuracy: 0.9870 - val_loss: 0.1114 - val_accuracy: 0.9750\n",
      "Epoch 95/200\n",
      "89098/89098 [==============================] - 6s 73us/sample - loss: 0.0411 - accuracy: 0.9872 - val_loss: 0.1133 - val_accuracy: 0.9750\n",
      "Epoch 96/200\n",
      "89098/89098 [==============================] - 7s 73us/sample - loss: 0.0406 - accuracy: 0.9871 - val_loss: 0.1120 - val_accuracy: 0.9752\n",
      "Epoch 97/200\n",
      "89098/89098 [==============================] - 6s 72us/sample - loss: 0.0407 - accuracy: 0.9873 - val_loss: 0.1135 - val_accuracy: 0.9748\n",
      "Epoch 98/200\n",
      "89098/89098 [==============================] - 6s 72us/sample - loss: 0.0412 - accuracy: 0.9872 - val_loss: 0.1143 - val_accuracy: 0.9748\n",
      "Epoch 99/200\n",
      "89098/89098 [==============================] - 6s 72us/sample - loss: 0.0409 - accuracy: 0.9875 - val_loss: 0.1135 - val_accuracy: 0.9745\n",
      "Epoch 100/200\n",
      "89098/89098 [==============================] - 6s 72us/sample - loss: 0.0406 - accuracy: 0.9874 - val_loss: 0.1133 - val_accuracy: 0.9750\n",
      "Epoch 101/200\n",
      "89098/89098 [==============================] - 6s 72us/sample - loss: 0.0404 - accuracy: 0.9875 - val_loss: 0.1136 - val_accuracy: 0.9748\n",
      "Epoch 102/200\n",
      "89098/89098 [==============================] - 6s 72us/sample - loss: 0.0405 - accuracy: 0.9874 - val_loss: 0.1160 - val_accuracy: 0.9753\n",
      "Epoch 103/200\n",
      "89098/89098 [==============================] - 6s 72us/sample - loss: 0.0402 - accuracy: 0.9876 - val_loss: 0.1153 - val_accuracy: 0.9750\n",
      "Epoch 104/200\n",
      "89098/89098 [==============================] - 6s 72us/sample - loss: 0.0399 - accuracy: 0.9877 - val_loss: 0.1163 - val_accuracy: 0.9751\n",
      "Epoch 105/200\n",
      "89098/89098 [==============================] - 6s 72us/sample - loss: 0.0400 - accuracy: 0.9876 - val_loss: 0.1181 - val_accuracy: 0.9741\n",
      "Epoch 106/200\n",
      "89098/89098 [==============================] - 6s 73us/sample - loss: 0.0403 - accuracy: 0.9875 - val_loss: 0.1162 - val_accuracy: 0.9749\n",
      "Epoch 107/200\n",
      "89098/89098 [==============================] - 7s 75us/sample - loss: 0.0403 - accuracy: 0.9876 - val_loss: 0.1164 - val_accuracy: 0.9749\n",
      "Epoch 108/200\n",
      "89098/89098 [==============================] - 6s 72us/sample - loss: 0.0399 - accuracy: 0.9878 - val_loss: 0.1168 - val_accuracy: 0.9745\n",
      "Epoch 109/200\n"
     ]
    },
    {
     "name": "stdout",
     "output_type": "stream",
     "text": [
      "89098/89098 [==============================] - 6s 69us/sample - loss: 0.0399 - accuracy: 0.9876 - val_loss: 0.1192 - val_accuracy: 0.9752\n",
      "Epoch 110/200\n",
      "89098/89098 [==============================] - 6s 69us/sample - loss: 0.0399 - accuracy: 0.9877 - val_loss: 0.1176 - val_accuracy: 0.9750\n"
     ]
    }
   ],
   "source": [
    "es = EarlyStopping(\n",
    "    monitor=\"val_loss\",\n",
    "    patience=10,\n",
    "    restore_best_weights=True\n",
    ")\n",
    "\n",
    "history = model.fit(\n",
    "    x_train, y_train,\n",
    "    batch_size=BATCH_SIZE,\n",
    "    epochs=EPOCHS,\n",
    "    verbose=1,\n",
    "    validation_data=(x_test, y_test),\n",
    "    callbacks=[es]\n",
    ")\n",
    "\n",
    "score = model.evaluate(x_test, y_test, verbose=0)"
   ]
  },
  {
   "cell_type": "code",
   "execution_count": 8,
   "metadata": {},
   "outputs": [
    {
     "name": "stdout",
     "output_type": "stream",
     "text": [
      "Test loss: 0.07477342652028467\n",
      "Test accuracy: 0.97658825\n",
      "Test recall: 0.9065519323671497\n",
      "[[31287   275]\n",
      " [  619  6005]]\n"
     ]
    }
   ],
   "source": [
    "print('Test loss:', score[0])\n",
    "print('Test accuracy:', score[1])\n",
    "\n",
    "y_pred = to_bin(model.predict(x_test))\n",
    "print(\"Test recall: {}\".format(recall(y_test, y_pred)))\n",
    "\n",
    "y_test0 = to_1D(y_test)\n",
    "y_pred0 = to_1D(y_pred)\n",
    "print(confusion_matrix(y_test0, y_pred0))"
   ]
  },
  {
   "cell_type": "code",
   "execution_count": 9,
   "metadata": {},
   "outputs": [
    {
     "data": {
      "image/png": "[encoded data removed]",
      "text/plain": [
       "<Figure size 864x432 with 1 Axes>"
      ]
     },
     "metadata": {
      "image/png": {
       "height": 375,
       "width": 730
      },
      "needs_background": "light"
     },
     "output_type": "display_data"
    }
   ],
   "source": [
    "plt.figure(figsize=(12, 6))\n",
    "plt.plot(history.history[\"accuracy\"], label=\"Train\")\n",
    "plt.plot(history.history[\"val_accuracy\"], label=\"Test\")\n",
    "plt.legend()\n",
    "plt.xlabel(\"Epochs\")\n",
    "plt.ylabel(\"Accuracy\")\n",
    "plt.show()"
   ]
  },
  {
   "cell_type": "code",
   "execution_count": 10,
   "metadata": {},
   "outputs": [],
   "source": [
    "# model.save(\"models/lstm_word.h5\")"
   ]
  },
  {
   "cell_type": "code",
   "execution_count": null,
   "metadata": {},
   "outputs": [],
   "source": []
  }
 ],
 "metadata": {
  "kernelspec": {
   "display_name": "Python 3",
   "language": "python",
   "name": "python3"
  },
  "language_info": {
   "codemirror_mode": {
    "name": "ipython",
    "version": 3
   },
   "file_extension": ".py",
   "mimetype": "text/x-python",
   "name": "python",
   "nbconvert_exporter": "python",
   "pygments_lexer": "ipython3",
   "version": "3.7.4"
  },
  "varInspector": {
   "cols": {
    "lenName": 16,
    "lenType": 16,
    "lenVar": 40
   },
   "kernels_config": {
    "python": {
     "delete_cmd_postfix": "",
     "delete_cmd_prefix": "del ",
     "library": "var_list.py",
     "varRefreshCmd": "print(var_dic_list())"
    },
    "r": {
     "delete_cmd_postfix": ") ",
     "delete_cmd_prefix": "rm(",
     "library": "var_list.r",
     "varRefreshCmd": "cat(var_dic_list()) "
    }
   },
   "types_to_exclude": [
    "module",
    "function",
    "builtin_function_or_method",
    "instance",
    "_Feature"
   ],
   "window_display": false
  }
 },
 "nbformat": 4,
 "nbformat_minor": 2
}
