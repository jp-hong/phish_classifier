{
 "cells": [
  {
   "cell_type": "code",
   "execution_count": 1,
   "metadata": {},
   "outputs": [],
   "source": [
    "from plaidml.keras import install_backend\n",
    "install_backend()\n",
    "\n",
    "from tensorflow.keras.models import Model\n",
    "from tensorflow.keras.layers import Input, Dense, Embedding, SpatialDropout1D, LSTM\n",
    "from tensorflow.keras.callbacks import EarlyStopping\n",
    "from sklearn.model_selection import train_test_split\n",
    "import matplotlib.pyplot as plt\n",
    "\n",
    "from code.util import *"
   ]
  },
  {
   "cell_type": "code",
   "execution_count": 2,
   "metadata": {},
   "outputs": [],
   "source": [
    "N_VOCAB = 4000\n",
    "N_CLASS = 2\n",
    "BATCH_SIZE = 512\n",
    "EPOCHS = 100"
   ]
  },
  {
   "cell_type": "code",
   "execution_count": 3,
   "metadata": {},
   "outputs": [],
   "source": [
    "x = load(\"data/x_word.pkl\")\n",
    "y = load(\"data/y_onehot.pkl\")"
   ]
  },
  {
   "cell_type": "code",
   "execution_count": 4,
   "metadata": {},
   "outputs": [],
   "source": [
    "x_train, x_test, y_train, y_test = train_test_split(\n",
    "    x, y, test_size=0.3, random_state=42)"
   ]
  },
  {
   "cell_type": "code",
   "execution_count": 5,
   "metadata": {},
   "outputs": [
    {
     "name": "stdout",
     "output_type": "stream",
     "text": [
      "(127284, 24) (127284, 2)\n"
     ]
    }
   ],
   "source": [
    "print(x.shape, y.shape)"
   ]
  },
  {
   "cell_type": "code",
   "execution_count": 11,
   "metadata": {},
   "outputs": [
    {
     "name": "stdout",
     "output_type": "stream",
     "text": [
      "Model: \"model_1\"\n",
      "_________________________________________________________________\n",
      "Layer (type)                 Output Shape              Param #   \n",
      "=================================================================\n",
      "input_2 (InputLayer)         [(None, 24)]              0         \n",
      "_________________________________________________________________\n",
      "embedding_1 (Embedding)      (None, 24, 32)            128000    \n",
      "_________________________________________________________________\n",
      "spatial_dropout1d_1 (Spatial (None, 24, 32)            0         \n",
      "_________________________________________________________________\n",
      "lstm_1 (LSTM)                (None, 32)                8320      \n",
      "_________________________________________________________________\n",
      "dense_1 (Dense)              (None, 2)                 66        \n",
      "=================================================================\n",
      "Total params: 136,386\n",
      "Trainable params: 136,386\n",
      "Non-trainable params: 0\n",
      "_________________________________________________________________\n"
     ]
    }
   ],
   "source": [
    "model_input = Input(shape=(x.shape[1], ))\n",
    "H = Embedding(N_VOCAB, 32)(model_input)\n",
    "H = SpatialDropout1D(0.25)(H)\n",
    "H = LSTM(32)(H)\n",
    "model_output = Dense(N_CLASS, activation=\"softmax\")(H)\n",
    "\n",
    "model = Model(model_input, model_output)\n",
    "model.summary()\n",
    "\n",
    "model.compile(\n",
    "    loss=\"categorical_crossentropy\",\n",
    "    optimizer=\"adam\",\n",
    "    metrics=[\"accuracy\"]\n",
    ")"
   ]
  },
  {
   "cell_type": "code",
   "execution_count": 12,
   "metadata": {},
   "outputs": [
    {
     "name": "stdout",
     "output_type": "stream",
     "text": [
      "Train on 89098 samples, validate on 38186 samples\n",
      "Epoch 1/100\n",
      "89098/89098 [==============================] - 8s 86us/sample - loss: 0.2794 - accuracy: 0.8932 - val_loss: 0.1024 - val_accuracy: 0.9644\n",
      "Epoch 2/100\n",
      "89098/89098 [==============================] - 6s 71us/sample - loss: 0.0875 - accuracy: 0.9711 - val_loss: 0.0861 - val_accuracy: 0.9721\n",
      "Epoch 3/100\n",
      "89098/89098 [==============================] - 6s 71us/sample - loss: 0.0733 - accuracy: 0.9765 - val_loss: 0.0772 - val_accuracy: 0.9751\n",
      "Epoch 4/100\n",
      "89098/89098 [==============================] - 6s 72us/sample - loss: 0.0672 - accuracy: 0.9790 - val_loss: 0.0788 - val_accuracy: 0.9749\n",
      "Epoch 5/100\n",
      "89098/89098 [==============================] - 6s 71us/sample - loss: 0.0645 - accuracy: 0.9799 - val_loss: 0.0751 - val_accuracy: 0.9759\n",
      "Epoch 6/100\n",
      "89098/89098 [==============================] - 6s 72us/sample - loss: 0.0613 - accuracy: 0.9808 - val_loss: 0.0736 - val_accuracy: 0.9767\n",
      "Epoch 7/100\n",
      "89098/89098 [==============================] - 6s 71us/sample - loss: 0.0594 - accuracy: 0.9813 - val_loss: 0.0768 - val_accuracy: 0.9753\n",
      "Epoch 8/100\n",
      "89098/89098 [==============================] - 6s 70us/sample - loss: 0.0577 - accuracy: 0.9820 - val_loss: 0.0740 - val_accuracy: 0.9763\n",
      "Epoch 9/100\n",
      "89098/89098 [==============================] - 6s 70us/sample - loss: 0.0572 - accuracy: 0.9823 - val_loss: 0.0735 - val_accuracy: 0.9766\n",
      "Epoch 10/100\n",
      "89098/89098 [==============================] - 6s 71us/sample - loss: 0.0556 - accuracy: 0.9827 - val_loss: 0.0745 - val_accuracy: 0.9766\n",
      "Epoch 11/100\n",
      "89098/89098 [==============================] - 6s 72us/sample - loss: 0.0566 - accuracy: 0.9823 - val_loss: 0.0757 - val_accuracy: 0.9767\n",
      "Epoch 12/100\n",
      "89098/89098 [==============================] - 6s 72us/sample - loss: 0.0542 - accuracy: 0.9832 - val_loss: 0.0758 - val_accuracy: 0.9765\n",
      "Epoch 13/100\n",
      "89098/89098 [==============================] - 6s 72us/sample - loss: 0.0537 - accuracy: 0.9832 - val_loss: 0.0771 - val_accuracy: 0.9765\n",
      "Epoch 14/100\n",
      "89098/89098 [==============================] - 6s 72us/sample - loss: 0.0530 - accuracy: 0.9836 - val_loss: 0.0780 - val_accuracy: 0.9757\n"
     ]
    }
   ],
   "source": [
    "es = EarlyStopping(\n",
    "    monitor=\"val_loss\",\n",
    "    patience=5,\n",
    "    restore_best_weights=True\n",
    ")\n",
    "\n",
    "history = model.fit(\n",
    "    x_train, y_train,\n",
    "    batch_size=BATCH_SIZE,\n",
    "    epochs=EPOCHS,\n",
    "    verbose=1,\n",
    "    validation_data=(x_test, y_test),\n",
    "    callbacks=[es]\n",
    ")\n",
    "\n",
    "score = model.evaluate(x_test, y_test, verbose=0)"
   ]
  },
  {
   "cell_type": "code",
   "execution_count": 13,
   "metadata": {},
   "outputs": [
    {
     "name": "stdout",
     "output_type": "stream",
     "text": [
      "Test loss: 0.07347727091321041\n",
      "Test accuracy: 0.97664064\n"
     ]
    }
   ],
   "source": [
    "print('Test loss:', score[0])\n",
    "print('Test accuracy:', score[1])"
   ]
  },
  {
   "cell_type": "code",
   "execution_count": 14,
   "metadata": {},
   "outputs": [
    {
     "data": {
      "image/png": "[encoded data removed]",
      "text/plain": [
       "<Figure size 864x432 with 1 Axes>"
      ]
     },
     "metadata": {
      "image/png": {
       "height": 375,
       "width": 730
      },
      "needs_background": "light"
     },
     "output_type": "display_data"
    }
   ],
   "source": [
    "plt.figure(figsize=(12, 6))\n",
    "plt.plot(history.history[\"accuracy\"], label=\"Train\")\n",
    "plt.plot(history.history[\"val_accuracy\"], label=\"Test\")\n",
    "plt.legend()\n",
    "plt.xlabel(\"Epochs\")\n",
    "plt.ylabel(\"Accuracy\")\n",
    "plt.show()"
   ]
  },
  {
   "cell_type": "code",
   "execution_count": 10,
   "metadata": {},
   "outputs": [],
   "source": [
    "model.save(\"models/lstm_word.h5\")"
   ]
  },
  {
   "cell_type": "code",
   "execution_count": null,
   "metadata": {},
   "outputs": [],
   "source": []
  }
 ],
 "metadata": {
  "kernelspec": {
   "display_name": "Python 3",
   "language": "python",
   "name": "python3"
  },
  "language_info": {
   "codemirror_mode": {
    "name": "ipython",
    "version": 3
   },
   "file_extension": ".py",
   "mimetype": "text/x-python",
   "name": "python",
   "nbconvert_exporter": "python",
   "pygments_lexer": "ipython3",
   "version": "3.7.4"
  },
  "varInspector": {
   "cols": {
    "lenName": 16,
    "lenType": 16,
    "lenVar": 40
   },
   "kernels_config": {
    "python": {
     "delete_cmd_postfix": "",
     "delete_cmd_prefix": "del ",
     "library": "var_list.py",
     "varRefreshCmd": "print(var_dic_list())"
    },
    "r": {
     "delete_cmd_postfix": ") ",
     "delete_cmd_prefix": "rm(",
     "library": "var_list.r",
     "varRefreshCmd": "cat(var_dic_list()) "
    }
   },
   "types_to_exclude": [
    "module",
    "function",
    "builtin_function_or_method",
    "instance",
    "_Feature"
   ],
   "window_display": false
  }
 },
 "nbformat": 4,
 "nbformat_minor": 2
}
