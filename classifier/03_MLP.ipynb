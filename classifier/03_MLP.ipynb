{
 "cells": [
  {
   "cell_type": "code",
   "execution_count": 1,
   "metadata": {},
   "outputs": [],
   "source": [
    "from tensorflow.keras.models import Model\n",
    "from tensorflow.keras.layers import Input, Dense, Dropout\n",
    "from tensorflow.keras.callbacks import EarlyStopping\n",
    "from sklearn.model_selection import train_test_split\n",
    "from sklearn.metrics import confusion_matrix\n",
    "import matplotlib.pyplot as plt\n",
    "import numpy as np\n",
    "\n",
    "from code.util import *\n",
    "from code.modelhelper import *"
   ]
  },
  {
   "cell_type": "markdown",
   "metadata": {},
   "source": [
    "# MLP w/ Engineered Features"
   ]
  },
  {
   "cell_type": "code",
   "execution_count": 2,
   "metadata": {},
   "outputs": [],
   "source": [
    "BATCH_SIZE = 512\n",
    "N_CLASS = 2\n",
    "EPOCHS = 100"
   ]
  },
  {
   "cell_type": "code",
   "execution_count": 3,
   "metadata": {},
   "outputs": [],
   "source": [
    "x = np.load(\"data/x_feat.npy\")\n",
    "y = np.load(\"data/y_onehot.npy\")"
   ]
  },
  {
   "cell_type": "code",
   "execution_count": 4,
   "metadata": {},
   "outputs": [
    {
     "data": {
      "text/plain": [
       "(127284, 51)"
      ]
     },
     "execution_count": 4,
     "metadata": {},
     "output_type": "execute_result"
    }
   ],
   "source": [
    "x.shape"
   ]
  },
  {
   "cell_type": "code",
   "execution_count": 5,
   "metadata": {},
   "outputs": [],
   "source": [
    "x_train, x_test, y_train, y_test = train_test_split(\n",
    "    x, y, test_size=0.3, random_state=42)"
   ]
  },
  {
   "cell_type": "code",
   "execution_count": 6,
   "metadata": {},
   "outputs": [
    {
     "name": "stdout",
     "output_type": "stream",
     "text": [
      "(127284, 51) (127284, 2)\n"
     ]
    }
   ],
   "source": [
    "print(x.shape, y.shape)"
   ]
  },
  {
   "cell_type": "code",
   "execution_count": 7,
   "metadata": {},
   "outputs": [
    {
     "name": "stdout",
     "output_type": "stream",
     "text": [
      "Model: \"model\"\n",
      "_________________________________________________________________\n",
      "Layer (type)                 Output Shape              Param #   \n",
      "=================================================================\n",
      "input_1 (InputLayer)         [(None, 51)]              0         \n",
      "_________________________________________________________________\n",
      "dense_1 (Dense)              (None, 51)                2652      \n",
      "_________________________________________________________________\n",
      "dropout_1 (Dropout)          (None, 51)                0         \n",
      "_________________________________________________________________\n",
      "dense_2 (Dense)              (None, 25)                1300      \n",
      "_________________________________________________________________\n",
      "dropout_2 (Dropout)          (None, 25)                0         \n",
      "_________________________________________________________________\n",
      "dense_3 (Dense)              (None, 2)                 52        \n",
      "=================================================================\n",
      "Total params: 4,004\n",
      "Trainable params: 4,004\n",
      "Non-trainable params: 0\n",
      "_________________________________________________________________\n"
     ]
    }
   ],
   "source": [
    "model_input = Input(shape=(x.shape[1], ))\n",
    "H = Dense(51, activation=\"relu\")(model_input)\n",
    "H = Dropout(0.2)(H)\n",
    "H = Dense(51, activation=\"relu\")(model_input)\n",
    "H = Dropout(0.2)(H)\n",
    "H = Dense(25, activation=\"relu\")(H)\n",
    "H = Dropout(0.2)(H)\n",
    "model_output = Dense(N_CLASS, activation=\"softmax\")(H)\n",
    "\n",
    "model = Model(inputs=model_input, outputs=model_output)\n",
    "model.summary()\n",
    "\n",
    "model.compile(\n",
    "    loss='categorical_crossentropy',\n",
    "    optimizer='adam',\n",
    "    metrics=['accuracy']\n",
    ")"
   ]
  },
  {
   "cell_type": "code",
   "execution_count": 8,
   "metadata": {
    "scrolled": true
   },
   "outputs": [
    {
     "name": "stderr",
     "output_type": "stream",
     "text": [
      "WARNING: Logging before flag parsing goes to stderr.\n",
      "W0820 16:12:32.084177 4619589056 deprecation.py:323] From /Library/Frameworks/Python.framework/Versions/3.7/lib/python3.7/site-packages/tensorflow/python/ops/math_grad.py:1250: add_dispatch_support.<locals>.wrapper (from tensorflow.python.ops.array_ops) is deprecated and will be removed in a future version.\n",
      "Instructions for updating:\n",
      "Use tf.where in 2.0, which has the same broadcast rule as np.where\n"
     ]
    },
    {
     "name": "stdout",
     "output_type": "stream",
     "text": [
      "Train on 89098 samples, validate on 38186 samples\n",
      "Epoch 1/100\n",
      "89098/89098 [==============================] - 1s 15us/sample - loss: 1.2785 - accuracy: 0.6970 - val_loss: 0.4604 - val_accuracy: 0.8381\n",
      "Epoch 2/100\n",
      "89098/89098 [==============================] - 1s 8us/sample - loss: 0.4241 - accuracy: 0.8507 - val_loss: 0.2584 - val_accuracy: 0.9139\n",
      "Epoch 3/100\n",
      "89098/89098 [==============================] - 1s 8us/sample - loss: 0.3026 - accuracy: 0.8961 - val_loss: 0.2159 - val_accuracy: 0.9286\n",
      "Epoch 4/100\n",
      "89098/89098 [==============================] - 1s 8us/sample - loss: 0.2521 - accuracy: 0.9155 - val_loss: 0.1888 - val_accuracy: 0.9345\n",
      "Epoch 5/100\n",
      "89098/89098 [==============================] - 1s 9us/sample - loss: 0.2185 - accuracy: 0.9266 - val_loss: 0.1693 - val_accuracy: 0.9422\n",
      "Epoch 6/100\n",
      "89098/89098 [==============================] - 1s 9us/sample - loss: 0.1956 - accuracy: 0.9338 - val_loss: 0.1581 - val_accuracy: 0.9461\n",
      "Epoch 7/100\n",
      "89098/89098 [==============================] - 1s 8us/sample - loss: 0.1806 - accuracy: 0.9388 - val_loss: 0.1538 - val_accuracy: 0.9471\n",
      "Epoch 8/100\n",
      "89098/89098 [==============================] - 1s 8us/sample - loss: 0.1745 - accuracy: 0.9416 - val_loss: 0.1593 - val_accuracy: 0.9461\n",
      "Epoch 9/100\n",
      "89098/89098 [==============================] - 1s 6us/sample - loss: 0.1703 - accuracy: 0.9423 - val_loss: 0.1502 - val_accuracy: 0.9482\n",
      "Epoch 10/100\n",
      "89098/89098 [==============================] - 0s 5us/sample - loss: 0.1645 - accuracy: 0.9436 - val_loss: 0.1487 - val_accuracy: 0.9485\n",
      "Epoch 11/100\n",
      "89098/89098 [==============================] - 1s 6us/sample - loss: 0.1616 - accuracy: 0.9451 - val_loss: 0.1473 - val_accuracy: 0.9488\n",
      "Epoch 12/100\n",
      "89098/89098 [==============================] - 1s 8us/sample - loss: 0.1582 - accuracy: 0.9459 - val_loss: 0.1470 - val_accuracy: 0.9486\n",
      "Epoch 13/100\n",
      "89098/89098 [==============================] - 1s 8us/sample - loss: 0.1570 - accuracy: 0.9461 - val_loss: 0.1470 - val_accuracy: 0.9484\n",
      "Epoch 14/100\n",
      "89098/89098 [==============================] - 1s 8us/sample - loss: 0.1553 - accuracy: 0.9470 - val_loss: 0.1444 - val_accuracy: 0.9489\n",
      "Epoch 15/100\n",
      "89098/89098 [==============================] - 1s 8us/sample - loss: 0.1538 - accuracy: 0.9472 - val_loss: 0.1448 - val_accuracy: 0.9491\n",
      "Epoch 16/100\n",
      "89098/89098 [==============================] - 1s 8us/sample - loss: 0.1528 - accuracy: 0.9479 - val_loss: 0.1484 - val_accuracy: 0.9473\n",
      "Epoch 17/100\n",
      "89098/89098 [==============================] - 1s 8us/sample - loss: 0.1543 - accuracy: 0.9469 - val_loss: 0.1434 - val_accuracy: 0.9502\n",
      "Epoch 18/100\n",
      "89098/89098 [==============================] - 1s 8us/sample - loss: 0.1503 - accuracy: 0.9481 - val_loss: 0.1426 - val_accuracy: 0.9496\n",
      "Epoch 19/100\n",
      "89098/89098 [==============================] - 1s 8us/sample - loss: 0.1503 - accuracy: 0.9475 - val_loss: 0.1422 - val_accuracy: 0.9503\n",
      "Epoch 20/100\n",
      "89098/89098 [==============================] - 1s 8us/sample - loss: 0.1485 - accuracy: 0.9488 - val_loss: 0.1462 - val_accuracy: 0.9486\n",
      "Epoch 21/100\n",
      "89098/89098 [==============================] - 1s 8us/sample - loss: 0.1517 - accuracy: 0.9473 - val_loss: 0.1441 - val_accuracy: 0.9494\n",
      "Epoch 22/100\n",
      "89098/89098 [==============================] - 1s 8us/sample - loss: 0.1479 - accuracy: 0.9490 - val_loss: 0.1411 - val_accuracy: 0.9503\n",
      "Epoch 23/100\n",
      "89098/89098 [==============================] - 1s 8us/sample - loss: 0.1465 - accuracy: 0.9496 - val_loss: 0.1453 - val_accuracy: 0.9488\n",
      "Epoch 24/100\n",
      "89098/89098 [==============================] - 1s 8us/sample - loss: 0.1474 - accuracy: 0.9490 - val_loss: 0.1398 - val_accuracy: 0.9512\n",
      "Epoch 25/100\n",
      "89098/89098 [==============================] - 1s 6us/sample - loss: 0.1444 - accuracy: 0.9497 - val_loss: 0.1398 - val_accuracy: 0.9506\n",
      "Epoch 26/100\n",
      "89098/89098 [==============================] - 1s 6us/sample - loss: 0.1445 - accuracy: 0.9501 - val_loss: 0.1395 - val_accuracy: 0.9503\n",
      "Epoch 27/100\n",
      "89098/89098 [==============================] - 1s 7us/sample - loss: 0.1441 - accuracy: 0.9502 - val_loss: 0.1384 - val_accuracy: 0.9511\n",
      "Epoch 28/100\n",
      "89098/89098 [==============================] - 1s 8us/sample - loss: 0.1429 - accuracy: 0.9505 - val_loss: 0.1391 - val_accuracy: 0.9507\n",
      "Epoch 29/100\n",
      "89098/89098 [==============================] - 1s 9us/sample - loss: 0.1428 - accuracy: 0.9503 - val_loss: 0.1407 - val_accuracy: 0.9495\n",
      "Epoch 30/100\n",
      "89098/89098 [==============================] - 1s 8us/sample - loss: 0.1431 - accuracy: 0.9506 - val_loss: 0.1387 - val_accuracy: 0.9508\n",
      "Epoch 31/100\n",
      "89098/89098 [==============================] - 1s 8us/sample - loss: 0.1424 - accuracy: 0.9505 - val_loss: 0.1393 - val_accuracy: 0.9508\n",
      "Epoch 32/100\n",
      "89098/89098 [==============================] - 1s 8us/sample - loss: 0.1429 - accuracy: 0.9506 - val_loss: 0.1403 - val_accuracy: 0.9495\n",
      "38186/38186 - 1s - loss: 0.1384 - accuracy: 0.9511\n"
     ]
    }
   ],
   "source": [
    "es = EarlyStopping(\n",
    "    monitor=\"val_loss\",\n",
    "    patience=5,\n",
    "    restore_best_weights=True\n",
    ")\n",
    "\n",
    "history = model.fit(\n",
    "    x_train, y_train,\n",
    "    batch_size=BATCH_SIZE,\n",
    "    epochs=EPOCHS,\n",
    "    verbose=1,\n",
    "    validation_data=(x_test, y_test),\n",
    "    callbacks=[es]\n",
    ")\n",
    "\n",
    "score = model.evaluate(x_test, y_test, verbose=2)"
   ]
  },
  {
   "cell_type": "code",
   "execution_count": 9,
   "metadata": {},
   "outputs": [
    {
     "name": "stdout",
     "output_type": "stream",
     "text": [
      "Test loss: 0.13835998223957444\n",
      "Test accuracy: 0.95110774\n",
      "Test recall: 0.7641908212560387\n",
      "[[31257   305]\n",
      " [ 1562  5062]]\n"
     ]
    }
   ],
   "source": [
    "print('Test loss:', score[0])\n",
    "print('Test accuracy:', score[1])\n",
    "\n",
    "y_pred_model = model.predict(x_test)\n",
    "y_pred = to_bin(y_pred_model)\n",
    "print(\"Test recall: {}\".format(recall(y_test, y_pred)))\n",
    "\n",
    "y_test0 = to_1D(y_test)\n",
    "y_pred0 = to_1D(y_pred)\n",
    "print(confusion_matrix(y_test0, y_pred0))"
   ]
  },
  {
   "cell_type": "code",
   "execution_count": 10,
   "metadata": {},
   "outputs": [
    {
     "data": {
      "image/png": "[encoded data removed]",
      "text/plain": [
       "<Figure size 864x432 with 1 Axes>"
      ]
     },
     "metadata": {
      "image/png": {
       "height": 375,
       "width": 730
      },
      "needs_background": "light"
     },
     "output_type": "display_data"
    }
   ],
   "source": [
    "plt.figure(figsize=(12, 6))\n",
    "plt.plot(history.history[\"accuracy\"], label=\"Train\")\n",
    "plt.plot(history.history[\"val_accuracy\"], label=\"Test\")\n",
    "plt.legend()\n",
    "plt.xlabel(\"Epochs\")\n",
    "plt.ylabel(\"Accuracy\")\n",
    "plt.show()"
   ]
  },
  {
   "cell_type": "code",
   "execution_count": 11,
   "metadata": {},
   "outputs": [],
   "source": [
    "model.save(\"models/mlp.h5\")"
   ]
  },
  {
   "cell_type": "code",
   "execution_count": null,
   "metadata": {},
   "outputs": [],
   "source": []
  }
 ],
 "metadata": {
  "kernelspec": {
   "display_name": "Python 3",
   "language": "python",
   "name": "python3"
  },
  "language_info": {
   "codemirror_mode": {
    "name": "ipython",
    "version": 3
   },
   "file_extension": ".py",
   "mimetype": "text/x-python",
   "name": "python",
   "nbconvert_exporter": "python",
   "pygments_lexer": "ipython3",
   "version": "3.7.4"
  },
  "varInspector": {
   "cols": {
    "lenName": 16,
    "lenType": 16,
    "lenVar": 40
   },
   "kernels_config": {
    "python": {
     "delete_cmd_postfix": "",
     "delete_cmd_prefix": "del ",
     "library": "var_list.py",
     "varRefreshCmd": "print(var_dic_list())"
    },
    "r": {
     "delete_cmd_postfix": ") ",
     "delete_cmd_prefix": "rm(",
     "library": "var_list.r",
     "varRefreshCmd": "cat(var_dic_list()) "
    }
   },
   "types_to_exclude": [
    "module",
    "function",
    "builtin_function_or_method",
    "instance",
    "_Feature"
   ],
   "window_display": false
  }
 },
 "nbformat": 4,
 "nbformat_minor": 2
}
