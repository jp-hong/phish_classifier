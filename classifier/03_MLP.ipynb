{
 "cells": [
  {
   "cell_type": "code",
   "execution_count": 1,
   "metadata": {},
   "outputs": [],
   "source": [
    "from tensorflow.keras.models import Model\n",
    "from tensorflow.keras.layers import Input, Dense, Dropout\n",
    "from tensorflow.keras.callbacks import EarlyStopping\n",
    "from sklearn.model_selection import train_test_split\n",
    "from sklearn.metrics import confusion_matrix\n",
    "import matplotlib.pyplot as plt\n",
    "\n",
    "from code.util import *\n",
    "from code.modelhelper import *"
   ]
  },
  {
   "cell_type": "markdown",
   "metadata": {},
   "source": [
    "# MLP w/ Engineered Features"
   ]
  },
  {
   "cell_type": "code",
   "execution_count": 2,
   "metadata": {},
   "outputs": [],
   "source": [
    "BATCH_SIZE = 512\n",
    "N_CLASS = 2\n",
    "EPOCHS = 100"
   ]
  },
  {
   "cell_type": "code",
   "execution_count": 3,
   "metadata": {},
   "outputs": [],
   "source": [
    "x = np.load(\"data/x_feat.npy\")\n",
    "y = np.load(\"data/y_onehot.npy\")"
   ]
  },
  {
   "cell_type": "code",
   "execution_count": 4,
   "metadata": {},
   "outputs": [
    {
     "data": {
      "text/plain": [
       "(127284, 51)"
      ]
     },
     "execution_count": 4,
     "metadata": {},
     "output_type": "execute_result"
    }
   ],
   "source": [
    "x.shape"
   ]
  },
  {
   "cell_type": "code",
   "execution_count": 5,
   "metadata": {},
   "outputs": [],
   "source": [
    "x_train, x_test, y_train, y_test = train_test_split(\n",
    "    x, y, test_size=0.3, random_state=42)"
   ]
  },
  {
   "cell_type": "code",
   "execution_count": 6,
   "metadata": {},
   "outputs": [
    {
     "name": "stdout",
     "output_type": "stream",
     "text": [
      "(127284, 51) (127284, 2)\n"
     ]
    }
   ],
   "source": [
    "print(x.shape, y.shape)"
   ]
  },
  {
   "cell_type": "code",
   "execution_count": 7,
   "metadata": {},
   "outputs": [
    {
     "name": "stdout",
     "output_type": "stream",
     "text": [
      "Model: \"model\"\n",
      "_________________________________________________________________\n",
      "Layer (type)                 Output Shape              Param #   \n",
      "=================================================================\n",
      "input_1 (InputLayer)         [(None, 51)]              0         \n",
      "_________________________________________________________________\n",
      "dense_1 (Dense)              (None, 51)                2652      \n",
      "_________________________________________________________________\n",
      "dropout_1 (Dropout)          (None, 51)                0         \n",
      "_________________________________________________________________\n",
      "dense_2 (Dense)              (None, 25)                1300      \n",
      "_________________________________________________________________\n",
      "dropout_2 (Dropout)          (None, 25)                0         \n",
      "_________________________________________________________________\n",
      "dense_3 (Dense)              (None, 2)                 52        \n",
      "=================================================================\n",
      "Total params: 4,004\n",
      "Trainable params: 4,004\n",
      "Non-trainable params: 0\n",
      "_________________________________________________________________\n"
     ]
    }
   ],
   "source": [
    "model_input = Input(shape=(x.shape[1], ))\n",
    "H = Dense(51, activation=\"relu\")(model_input)\n",
    "H = Dropout(0.2)(H)\n",
    "H = Dense(51, activation=\"relu\")(model_input)\n",
    "H = Dropout(0.2)(H)\n",
    "H = Dense(25, activation=\"relu\")(H)\n",
    "H = Dropout(0.2)(H)\n",
    "model_output = Dense(N_CLASS, activation=\"softmax\")(H)\n",
    "\n",
    "model = Model(inputs=model_input, outputs=model_output)\n",
    "model.summary()\n",
    "\n",
    "model.compile(\n",
    "    loss='categorical_crossentropy',\n",
    "    optimizer='adam',\n",
    "    metrics=['accuracy']\n",
    ")"
   ]
  },
  {
   "cell_type": "code",
   "execution_count": 8,
   "metadata": {
    "scrolled": true
   },
   "outputs": [
    {
     "name": "stderr",
     "output_type": "stream",
     "text": [
      "WARNING: Logging before flag parsing goes to stderr.\n",
      "W0820 16:01:38.583230 4566058432 deprecation.py:323] From /Library/Frameworks/Python.framework/Versions/3.7/lib/python3.7/site-packages/tensorflow/python/ops/math_grad.py:1250: add_dispatch_support.<locals>.wrapper (from tensorflow.python.ops.array_ops) is deprecated and will be removed in a future version.\n",
      "Instructions for updating:\n",
      "Use tf.where in 2.0, which has the same broadcast rule as np.where\n"
     ]
    },
    {
     "name": "stdout",
     "output_type": "stream",
     "text": [
      "Train on 89098 samples, validate on 38186 samples\n",
      "Epoch 1/100\n",
      "89098/89098 [==============================] - 1s 7us/sample - loss: 0.7404 - accuracy: 0.7818 - val_loss: 0.2807 - val_accuracy: 0.9010\n",
      "Epoch 2/100\n",
      "89098/89098 [==============================] - 0s 5us/sample - loss: 0.2791 - accuracy: 0.8987 - val_loss: 0.1889 - val_accuracy: 0.9306\n",
      "Epoch 3/100\n",
      "89098/89098 [==============================] - 0s 4us/sample - loss: 0.2076 - accuracy: 0.9271 - val_loss: 0.1661 - val_accuracy: 0.9413\n",
      "Epoch 4/100\n",
      "89098/89098 [==============================] - 0s 4us/sample - loss: 0.1807 - accuracy: 0.9384 - val_loss: 0.1578 - val_accuracy: 0.9467\n",
      "Epoch 5/100\n",
      "89098/89098 [==============================] - 0s 4us/sample - loss: 0.1684 - accuracy: 0.9424 - val_loss: 0.1543 - val_accuracy: 0.9474\n",
      "Epoch 6/100\n",
      "89098/89098 [==============================] - 0s 4us/sample - loss: 0.1629 - accuracy: 0.9446 - val_loss: 0.1529 - val_accuracy: 0.9480\n",
      "Epoch 7/100\n",
      "89098/89098 [==============================] - 0s 4us/sample - loss: 0.1582 - accuracy: 0.9461 - val_loss: 0.1480 - val_accuracy: 0.9483\n",
      "Epoch 8/100\n",
      "89098/89098 [==============================] - 0s 4us/sample - loss: 0.1539 - accuracy: 0.9474 - val_loss: 0.1468 - val_accuracy: 0.9499\n",
      "Epoch 9/100\n",
      "89098/89098 [==============================] - 0s 4us/sample - loss: 0.1505 - accuracy: 0.9481 - val_loss: 0.1447 - val_accuracy: 0.9489\n",
      "Epoch 10/100\n",
      "89098/89098 [==============================] - 0s 4us/sample - loss: 0.1493 - accuracy: 0.9487 - val_loss: 0.1425 - val_accuracy: 0.9494\n",
      "Epoch 11/100\n",
      "89098/89098 [==============================] - 0s 4us/sample - loss: 0.1479 - accuracy: 0.9492 - val_loss: 0.1430 - val_accuracy: 0.9504\n",
      "Epoch 12/100\n",
      "89098/89098 [==============================] - 0s 4us/sample - loss: 0.1462 - accuracy: 0.9494 - val_loss: 0.1412 - val_accuracy: 0.9501\n",
      "Epoch 13/100\n",
      "89098/89098 [==============================] - 0s 4us/sample - loss: 0.1454 - accuracy: 0.9494 - val_loss: 0.1406 - val_accuracy: 0.9508\n",
      "Epoch 14/100\n",
      "89098/89098 [==============================] - 0s 5us/sample - loss: 0.1435 - accuracy: 0.9495 - val_loss: 0.1398 - val_accuracy: 0.9502\n",
      "Epoch 15/100\n",
      "89098/89098 [==============================] - 0s 6us/sample - loss: 0.1431 - accuracy: 0.9500 - val_loss: 0.1449 - val_accuracy: 0.9502\n",
      "Epoch 16/100\n",
      "89098/89098 [==============================] - 1s 8us/sample - loss: 0.1433 - accuracy: 0.9498 - val_loss: 0.1393 - val_accuracy: 0.9506\n",
      "Epoch 17/100\n",
      "89098/89098 [==============================] - 1s 6us/sample - loss: 0.1422 - accuracy: 0.9504 - val_loss: 0.1387 - val_accuracy: 0.9508\n",
      "Epoch 18/100\n",
      "89098/89098 [==============================] - 1s 8us/sample - loss: 0.1410 - accuracy: 0.9506 - val_loss: 0.1393 - val_accuracy: 0.9516\n",
      "Epoch 19/100\n",
      "89098/89098 [==============================] - 1s 6us/sample - loss: 0.1410 - accuracy: 0.9506 - val_loss: 0.1388 - val_accuracy: 0.9510\n",
      "Epoch 20/100\n",
      "89098/89098 [==============================] - 1s 6us/sample - loss: 0.1401 - accuracy: 0.9508 - val_loss: 0.1385 - val_accuracy: 0.9511\n",
      "Epoch 21/100\n",
      "89098/89098 [==============================] - 0s 4us/sample - loss: 0.1400 - accuracy: 0.9509 - val_loss: 0.1381 - val_accuracy: 0.9510\n",
      "Epoch 22/100\n",
      "89098/89098 [==============================] - 0s 5us/sample - loss: 0.1399 - accuracy: 0.9510 - val_loss: 0.1377 - val_accuracy: 0.9509\n",
      "Epoch 23/100\n",
      "89098/89098 [==============================] - 0s 5us/sample - loss: 0.1388 - accuracy: 0.9513 - val_loss: 0.1367 - val_accuracy: 0.9518\n",
      "Epoch 24/100\n",
      "89098/89098 [==============================] - 0s 4us/sample - loss: 0.1384 - accuracy: 0.9514 - val_loss: 0.1359 - val_accuracy: 0.9516\n",
      "Epoch 25/100\n",
      "89098/89098 [==============================] - 0s 6us/sample - loss: 0.1381 - accuracy: 0.9515 - val_loss: 0.1377 - val_accuracy: 0.9505\n",
      "Epoch 26/100\n",
      "89098/89098 [==============================] - 0s 6us/sample - loss: 0.1384 - accuracy: 0.9519 - val_loss: 0.1354 - val_accuracy: 0.9515\n",
      "Epoch 27/100\n",
      "89098/89098 [==============================] - 0s 5us/sample - loss: 0.1372 - accuracy: 0.9519 - val_loss: 0.1364 - val_accuracy: 0.9523\n",
      "Epoch 28/100\n",
      "89098/89098 [==============================] - 0s 6us/sample - loss: 0.1380 - accuracy: 0.9522 - val_loss: 0.1375 - val_accuracy: 0.9517\n",
      "Epoch 29/100\n",
      "89098/89098 [==============================] - 1s 6us/sample - loss: 0.1371 - accuracy: 0.9521 - val_loss: 0.1360 - val_accuracy: 0.9518\n",
      "Epoch 30/100\n",
      "89098/89098 [==============================] - 0s 4us/sample - loss: 0.1377 - accuracy: 0.9514 - val_loss: 0.1358 - val_accuracy: 0.9525\n",
      "Epoch 31/100\n",
      "89098/89098 [==============================] - 0s 5us/sample - loss: 0.1368 - accuracy: 0.9519 - val_loss: 0.1358 - val_accuracy: 0.9524\n",
      "38186/38186 - 0s - loss: 0.1354 - accuracy: 0.9515\n"
     ]
    }
   ],
   "source": [
    "es = EarlyStopping(\n",
    "    monitor=\"val_loss\",\n",
    "    patience=5,\n",
    "    restore_best_weights=True\n",
    ")\n",
    "\n",
    "history = model.fit(\n",
    "    x_train, y_train,\n",
    "    batch_size=BATCH_SIZE,\n",
    "    epochs=EPOCHS,\n",
    "    verbose=1,\n",
    "    validation_data=(x_test, y_test),\n",
    "    callbacks=[es]\n",
    ")\n",
    "\n",
    "score = model.evaluate(x_test, y_test, verbose=2)"
   ]
  },
  {
   "cell_type": "code",
   "execution_count": 9,
   "metadata": {},
   "outputs": [
    {
     "name": "stdout",
     "output_type": "stream",
     "text": [
      "Test loss: 0.1354109292613519\n",
      "Test accuracy: 0.95150054\n",
      "Test recall: 0.7810990338164251\n",
      "[[31160   402]\n",
      " [ 1450  5174]]\n"
     ]
    }
   ],
   "source": [
    "print('Test loss:', score[0])\n",
    "print('Test accuracy:', score[1])\n",
    "\n",
    "y_pred_model = model.predict(x_test)\n",
    "y_pred = to_bin(y_pred_model)\n",
    "print(\"Test recall: {}\".format(recall(y_test, y_pred)))\n",
    "\n",
    "y_test0 = to_1D(y_test)\n",
    "y_pred0 = to_1D(y_pred)\n",
    "print(confusion_matrix(y_test0, y_pred0))"
   ]
  },
  {
   "cell_type": "code",
   "execution_count": 10,
   "metadata": {},
   "outputs": [
    {
     "data": {
      "image/png": "[encoded data removed]",
      "text/plain": [
       "<Figure size 864x432 with 1 Axes>"
      ]
     },
     "metadata": {
      "image/png": {
       "height": 375,
       "width": 736
      },
      "needs_background": "light"
     },
     "output_type": "display_data"
    }
   ],
   "source": [
    "plt.figure(figsize=(12, 6))\n",
    "plt.plot(history.history[\"accuracy\"], label=\"Train\")\n",
    "plt.plot(history.history[\"val_accuracy\"], label=\"Test\")\n",
    "plt.legend()\n",
    "plt.xlabel(\"Epochs\")\n",
    "plt.ylabel(\"Accuracy\")\n",
    "plt.show()"
   ]
  },
  {
   "cell_type": "code",
   "execution_count": 11,
   "metadata": {},
   "outputs": [],
   "source": [
    "model.save(\"models/mlp.h5\")"
   ]
  },
  {
   "cell_type": "code",
   "execution_count": null,
   "metadata": {},
   "outputs": [],
   "source": []
  },
  {
   "cell_type": "code",
   "execution_count": null,
   "metadata": {},
   "outputs": [],
   "source": []
  }
 ],
 "metadata": {
  "kernelspec": {
   "display_name": "Python 3",
   "language": "python",
   "name": "python3"
  },
  "language_info": {
   "codemirror_mode": {
    "name": "ipython",
    "version": 3
   },
   "file_extension": ".py",
   "mimetype": "text/x-python",
   "name": "python",
   "nbconvert_exporter": "python",
   "pygments_lexer": "ipython3",
   "version": "3.7.4"
  },
  "varInspector": {
   "cols": {
    "lenName": 16,
    "lenType": 16,
    "lenVar": 40
   },
   "kernels_config": {
    "python": {
     "delete_cmd_postfix": "",
     "delete_cmd_prefix": "del ",
     "library": "var_list.py",
     "varRefreshCmd": "print(var_dic_list())"
    },
    "r": {
     "delete_cmd_postfix": ") ",
     "delete_cmd_prefix": "rm(",
     "library": "var_list.r",
     "varRefreshCmd": "cat(var_dic_list()) "
    }
   },
   "types_to_exclude": [
    "module",
    "function",
    "builtin_function_or_method",
    "instance",
    "_Feature"
   ],
   "window_display": false
  }
 },
 "nbformat": 4,
 "nbformat_minor": 2
}
