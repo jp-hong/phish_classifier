{
 "cells": [
  {
   "cell_type": "markdown",
   "metadata": {},
   "source": [
    "# 0. Imports"
   ]
  },
  {
   "cell_type": "code",
   "execution_count": 1,
   "metadata": {},
   "outputs": [],
   "source": [
    "from sklearn.feature_extraction.text import TfidfVectorizer, CountVectorizer\n",
    "from sklearn.naive_bayes import MultinomialNB\n",
    "from sklearn.tree import DecisionTreeClassifier\n",
    "from sklearn.ensemble import RandomForestClassifier, VotingClassifier\n",
    "from sklearn.linear_model import LogisticRegression\n",
    "from sklearn.svm import SVC\n",
    "from sklearn.metrics import confusion_matrix, classification_report, roc_curve, roc_auc_score\n",
    "from sklearn.model_selection import train_test_split, cross_val_score, GridSearchCV\n",
    "import lightgbm\n",
    "\n",
    "from os import cpu_count\n",
    "\n",
    "# custom modules\n",
    "from code.util import *\n",
    "from code.preprocessor import *\n",
    "from code.modelhelper import *\n",
    "\n",
    "# set number of processes\n",
    "N_JOBS = cpu_count() // 2\n",
    "# N_JOBS = 1"
   ]
  },
  {
   "cell_type": "markdown",
   "metadata": {},
   "source": [
    "---"
   ]
  },
  {
   "cell_type": "code",
   "execution_count": 2,
   "metadata": {},
   "outputs": [],
   "source": [
    "data = load(\"data/urls_sampled.pkl\")"
   ]
  },
  {
   "cell_type": "markdown",
   "metadata": {},
   "source": [
    "# 1. Train/Test Split"
   ]
  },
  {
   "cell_type": "code",
   "execution_count": 3,
   "metadata": {},
   "outputs": [],
   "source": [
    "x, y = data.url, data.target\n",
    "x_train0, x_test0, y_train, y_test = train_test_split(x, y, \n",
    "                                                test_size=0.33, random_state=42)"
   ]
  },
  {
   "cell_type": "markdown",
   "metadata": {},
   "source": [
    "# 2. Vectorization"
   ]
  },
  {
   "cell_type": "code",
   "execution_count": 4,
   "metadata": {},
   "outputs": [],
   "source": [
    "stop_words = [\n",
    "    \"http\",\n",
    "    \"https\",\n",
    "    \"www\",\n",
    "    \"com\",\n",
    "    \"co\",\n",
    "]\n",
    "\n",
    "vect = CountVectorizer(\n",
    "    tokenizer=tokenize,\n",
    "    stop_words=stop_words,\n",
    "    max_features=6000\n",
    ")"
   ]
  },
  {
   "cell_type": "code",
   "execution_count": 5,
   "metadata": {},
   "outputs": [],
   "source": [
    "# vect = TfidfVectorizer(\n",
    "#     tokenizer=tokenize,\n",
    "#     max_df=0.9999,\n",
    "#     min_df=0.0001,\n",
    "#     max_features=3000\n",
    "# )"
   ]
  },
  {
   "cell_type": "code",
   "execution_count": 6,
   "metadata": {},
   "outputs": [
    {
     "data": {
      "text/plain": [
       "CountVectorizer(analyzer='word', binary=False, decode_error='strict',\n",
       "                dtype=<class 'numpy.int64'>, encoding='utf-8', input='content',\n",
       "                lowercase=True, max_df=1.0, max_features=6000, min_df=1,\n",
       "                ngram_range=(1, 1), preprocessor=None,\n",
       "                stop_words=['http', 'https', 'www', 'com', 'co'],\n",
       "                strip_accents=None, token_pattern='(?u)\\\\b\\\\w\\\\w+\\\\b',\n",
       "                tokenizer=<function tokenize at 0x131b1b9e0>, vocabulary=None)"
      ]
     },
     "execution_count": 6,
     "metadata": {},
     "output_type": "execute_result"
    }
   ],
   "source": [
    "vect.fit(x_train0)"
   ]
  },
  {
   "cell_type": "code",
   "execution_count": 7,
   "metadata": {},
   "outputs": [],
   "source": [
    "x_train = vect.transform(x_train0).toarray()\n",
    "x_test = vect.transform(x_test0).toarray()"
   ]
  },
  {
   "cell_type": "markdown",
   "metadata": {},
   "source": [
    "# 3. Models"
   ]
  },
  {
   "cell_type": "code",
   "execution_count": 8,
   "metadata": {},
   "outputs": [],
   "source": [
    "scores_dict = {}"
   ]
  },
  {
   "cell_type": "markdown",
   "metadata": {},
   "source": [
    "## 3.1 Multinomial Naive Bayes"
   ]
  },
  {
   "cell_type": "code",
   "execution_count": 9,
   "metadata": {},
   "outputs": [],
   "source": [
    "multnb = MultinomialNB()"
   ]
  },
  {
   "cell_type": "code",
   "execution_count": 10,
   "metadata": {},
   "outputs": [
    {
     "name": "stdout",
     "output_type": "stream",
     "text": [
      "MultinomialNB(alpha=0.1, class_prior=None, fit_prior=True)\n",
      "\n",
      "MODEL: MultinomialNB\n",
      "              precision    recall  f1-score   support\n",
      "\n",
      "           0       0.96      0.99      0.97     34753\n",
      "           1       0.94      0.81      0.87      7251\n",
      "\n",
      "    accuracy                           0.96     42004\n",
      "   macro avg       0.95      0.90      0.92     42004\n",
      "weighted avg       0.96      0.96      0.96     42004\n",
      "\n",
      "Cross validation score: 0.8154 (+/- 0.0071) [recall / MultinomialNB]\n",
      "\n",
      "Elapsed time: 150.03s [fit 7.45s, predict 2.15s, cv: 140.43s]\n"
     ]
    }
   ],
   "source": [
    "cv_scores = workflow(multnb, \"MultinomialNB\", \"recall\",\n",
    "                     x_train, x_test, y_train, y_test, N_JOBS)"
   ]
  },
  {
   "cell_type": "code",
   "execution_count": 10,
   "metadata": {},
   "outputs": [],
   "source": [
    "scores_dict[\"MultinomialNB\"] = cv_scores"
   ]
  },
  {
   "cell_type": "code",
   "execution_count": 11,
   "metadata": {},
   "outputs": [],
   "source": [
    "save(multnb, \"models/multnp.pkl\")"
   ]
  },
  {
   "cell_type": "markdown",
   "metadata": {
    "heading_collapsed": true
   },
   "source": [
    "## 3.2 Decision Tree"
   ]
  },
  {
   "cell_type": "code",
   "execution_count": 12,
   "metadata": {
    "hidden": true
   },
   "outputs": [],
   "source": [
    "tree = DecisionTreeClassifier(\n",
    "    criterion=\"gini\",\n",
    "    max_depth=5,\n",
    "    random_state=42\n",
    ")"
   ]
  },
  {
   "cell_type": "code",
   "execution_count": 13,
   "metadata": {
    "hidden": true
   },
   "outputs": [
    {
     "name": "stdout",
     "output_type": "stream",
     "text": [
      "DecisionTreeClassifier(class_weight=None, criterion='gini', max_depth=5,\n",
      "                       max_features=None, max_leaf_nodes=None,\n",
      "                       min_impurity_decrease=0.0, min_impurity_split=None,\n",
      "                       min_samples_leaf=1, min_samples_split=2,\n",
      "                       min_weight_fraction_leaf=0.0, presort=False,\n",
      "                       random_state=42, splitter='best')\n",
      "\n",
      "MODEL: DecisionTreeClassifier\n",
      "              precision    recall  f1-score   support\n",
      "\n",
      "           0       0.89      0.99      0.94     17271\n",
      "           1       0.97      0.59      0.73      5067\n",
      "\n",
      "    accuracy                           0.90     22338\n",
      "   macro avg       0.93      0.79      0.84     22338\n",
      "weighted avg       0.91      0.90      0.89     22338\n",
      "\n",
      "Cross validation score: 0.90 (+/- 0.0041) [DecisionTreeClassifier]\n"
     ]
    }
   ],
   "source": [
    "cv_scores = workflow(tree, \"DecisionTreeClassifier\", \"recall\",\n",
    "                     x_train, x_test, y_train, y_test, N_JOBS)"
   ]
  },
  {
   "cell_type": "code",
   "execution_count": 14,
   "metadata": {
    "hidden": true
   },
   "outputs": [],
   "source": [
    "scores_dict[\"DecisionTreeClassifier\"] = cv_scores"
   ]
  },
  {
   "cell_type": "code",
   "execution_count": 15,
   "metadata": {
    "hidden": true
   },
   "outputs": [],
   "source": [
    "save(tree, \"models/tree.pkl\")"
   ]
  },
  {
   "cell_type": "markdown",
   "metadata": {
    "heading_collapsed": true
   },
   "source": [
    "## 3.3 Random Forest"
   ]
  },
  {
   "cell_type": "code",
   "execution_count": 16,
   "metadata": {
    "hidden": true
   },
   "outputs": [],
   "source": [
    "forest = RandomForestClassifier(\n",
    "    n_estimators=100,\n",
    "    max_depth=10,\n",
    "    random_state=42,\n",
    "    n_jobs=N_JOBS\n",
    ")"
   ]
  },
  {
   "cell_type": "code",
   "execution_count": 18,
   "metadata": {
    "hidden": true
   },
   "outputs": [
    {
     "name": "stdout",
     "output_type": "stream",
     "text": [
      "RandomForestClassifier(bootstrap=True, class_weight=None, criterion='gini',\n",
      "                       max_depth=10, max_features='auto', max_leaf_nodes=None,\n",
      "                       min_impurity_decrease=0.0, min_impurity_split=None,\n",
      "                       min_samples_leaf=1, min_samples_split=2,\n",
      "                       min_weight_fraction_leaf=0.0, n_estimators=100, n_jobs=6,\n",
      "                       oob_score=False, random_state=42, verbose=0,\n",
      "                       warm_start=False)\n",
      "\n",
      "MODEL: RandomForestClassifier\n",
      "              precision    recall  f1-score   support\n",
      "\n",
      "           0       0.83      1.00      0.91     17271\n",
      "           1       1.00      0.29      0.45      5067\n",
      "\n",
      "    accuracy                           0.84     22338\n",
      "   macro avg       0.91      0.65      0.68     22338\n",
      "weighted avg       0.87      0.84      0.80     22338\n",
      "\n",
      "Cross validation score: 0.84 (+/- 0.0039) [RandomForestClassifier]\n"
     ]
    }
   ],
   "source": [
    "cv_scores = workflow(forest, \"RandomForestClassifier\", \"recall\",\n",
    "                     x_train, x_test, y_train, y_test, N_JOBS)"
   ]
  },
  {
   "cell_type": "code",
   "execution_count": 19,
   "metadata": {
    "hidden": true
   },
   "outputs": [],
   "source": [
    "scores_dict[\"RandomForestClassifier\"] = cv_scores"
   ]
  },
  {
   "cell_type": "code",
   "execution_count": 20,
   "metadata": {
    "hidden": true
   },
   "outputs": [],
   "source": [
    "save(forest, \"models/forest.pkl\")"
   ]
  },
  {
   "cell_type": "markdown",
   "metadata": {},
   "source": [
    "## 3.4 Gradient Boosting (w/ LightGBM)"
   ]
  },
  {
   "cell_type": "code",
   "execution_count": 11,
   "metadata": {},
   "outputs": [],
   "source": [
    "lgbm = lightgbm.LGBMClassifier(\n",
    "    n_estimators=1000,\n",
    "    max_depth=-1,\n",
    "    objective=\"binary\",\n",
    "    n_jobs=N_JOBS,\n",
    "    random_state=42\n",
    ")"
   ]
  },
  {
   "cell_type": "code",
   "execution_count": 12,
   "metadata": {},
   "outputs": [
    {
     "name": "stdout",
     "output_type": "stream",
     "text": [
      "LGBMClassifier(boosting_type='gbdt', class_weight=None, colsample_bytree=1.0,\n",
      "               importance_type='split', learning_rate=0.1, max_depth=-1,\n",
      "               min_child_samples=20, min_child_weight=0.001, min_split_gain=0.0,\n",
      "               n_estimators=1000, n_jobs=6, num_leaves=31, objective='binary',\n",
      "               random_state=42, reg_alpha=0.0, reg_lambda=0.0, silent=True,\n",
      "               subsample=1.0, subsample_for_bin=200000, subsample_freq=0)\n",
      "\n",
      "MODEL: LGBMClassifier\n",
      "              precision    recall  f1-score   support\n",
      "\n",
      "           0       0.97      0.99      0.98     17271\n",
      "           1       0.95      0.88      0.92      5067\n",
      "\n",
      "    accuracy                           0.96     22338\n",
      "   macro avg       0.96      0.94      0.95     22338\n",
      "weighted avg       0.96      0.96      0.96     22338\n",
      "\n",
      "Cross validation score: 0.8861 (+/- 0.0100) [recall / LGBMClassifier]\n",
      "\n",
      "Elapsed time: 71.92s [fit 5.08s, predict 0.95s, cv: 65.89s]\n"
     ]
    }
   ],
   "source": [
    "cv_scores = workflow(lgbm, \"LGBMClassifier\", \"recall\",\n",
    "                     x_train, x_test, y_train, y_test, N_JOBS)"
   ]
  },
  {
   "cell_type": "code",
   "execution_count": 23,
   "metadata": {},
   "outputs": [],
   "source": [
    "scores_dict[\"LGBMClassifier\"] = cv_scores"
   ]
  },
  {
   "cell_type": "code",
   "execution_count": 24,
   "metadata": {},
   "outputs": [],
   "source": [
    "save(lgbm, \"models/lgbm.pkl\")"
   ]
  },
  {
   "cell_type": "markdown",
   "metadata": {},
   "source": [
    "## 3.5 Logistic Regression"
   ]
  },
  {
   "cell_type": "code",
   "execution_count": 25,
   "metadata": {},
   "outputs": [],
   "source": [
    "logireg = LogisticRegression(n_jobs=N_JOBS)"
   ]
  },
  {
   "cell_type": "code",
   "execution_count": 26,
   "metadata": {},
   "outputs": [
    {
     "name": "stdout",
     "output_type": "stream",
     "text": [
      "LogisticRegression(C=1.0, class_weight=None, dual=False, fit_intercept=True,\n",
      "                   intercept_scaling=1, l1_ratio=None, max_iter=100,\n",
      "                   multi_class='warn', n_jobs=6, penalty='l2',\n",
      "                   random_state=None, solver='warn', tol=0.0001, verbose=0,\n",
      "                   warm_start=False)\n",
      "\n",
      "MODEL: LogisticRegression\n",
      "              precision    recall  f1-score   support\n",
      "\n",
      "           0       0.96      0.99      0.98     17271\n",
      "           1       0.98      0.86      0.92      5067\n",
      "\n",
      "    accuracy                           0.96     22338\n",
      "   macro avg       0.97      0.93      0.95     22338\n",
      "weighted avg       0.97      0.96      0.96     22338\n",
      "\n",
      "Cross validation score: 0.96 (+/- 0.0025) [LogisticRegression]\n"
     ]
    }
   ],
   "source": [
    "cv_scores = workflow(logireg, \"LogisticRegression\", \"recall\",\n",
    "                     x_train, x_test, y_train, y_test, N_JOBS)"
   ]
  },
  {
   "cell_type": "code",
   "execution_count": 27,
   "metadata": {},
   "outputs": [],
   "source": [
    "scores_dict[\"LogisticRegression\"] = cv_scores"
   ]
  },
  {
   "cell_type": "code",
   "execution_count": 28,
   "metadata": {},
   "outputs": [],
   "source": [
    "save(logireg, \"models/logireg.pkl\")"
   ]
  },
  {
   "cell_type": "markdown",
   "metadata": {},
   "source": [
    "## 3.6 Voting Classifier\n",
    "Ensemble of the three best performing models"
   ]
  },
  {
   "cell_type": "code",
   "execution_count": 11,
   "metadata": {},
   "outputs": [],
   "source": [
    "model1 = MultinomialNB(\n",
    "    alpha=0.1\n",
    ")\n",
    "\n",
    "model2 = lightgbm.LGBMClassifier(\n",
    "    n_estimators=1000,\n",
    "    max_depth=-1,\n",
    "    n_jobs=N_JOBS,\n",
    "    random_state=42\n",
    ")\n",
    "\n",
    "model3 = LogisticRegression(n_jobs=N_JOBS)\n",
    "\n",
    "voting = VotingClassifier(\n",
    "    estimators=[\n",
    "        (\"mnb\", model1),\n",
    "        (\"lgbm\", model2),\n",
    "        (\"logi\", model3)\n",
    "    ],\n",
    "    voting=\"soft\",\n",
    "    n_jobs=N_JOBS\n",
    ")"
   ]
  },
  {
   "cell_type": "code",
   "execution_count": 12,
   "metadata": {},
   "outputs": [
    {
     "name": "stdout",
     "output_type": "stream",
     "text": [
      "VotingClassifier(estimators=[('mnb',\n",
      "                              MultinomialNB(alpha=0.1, class_prior=None,\n",
      "                                            fit_prior=True)),\n",
      "                             ('lgbm',\n",
      "                              LGBMClassifier(boosting_type='gbdt',\n",
      "                                             class_weight=None,\n",
      "                                             colsample_bytree=1.0,\n",
      "                                             importance_type='split',\n",
      "                                             learning_rate=0.1, max_depth=-1,\n",
      "                                             min_child_samples=20,\n",
      "                                             min_child_weight=0.001,\n",
      "                                             min_split_gain=0.0,\n",
      "                                             n_estimators=1500, n_jobs=6,\n",
      "                                             num_leaves=31, objective=None...\n",
      "                                             subsample=1.0,\n",
      "                                             subsample_for_bin=200000,\n",
      "                                             subsample_freq=0)),\n",
      "                             ('logi',\n",
      "                              LogisticRegression(C=1.0, class_weight=None,\n",
      "                                                 dual=False, fit_intercept=True,\n",
      "                                                 intercept_scaling=1,\n",
      "                                                 l1_ratio=None, max_iter=100,\n",
      "                                                 multi_class='warn', n_jobs=6,\n",
      "                                                 penalty='l2',\n",
      "                                                 random_state=None,\n",
      "                                                 solver='warn', tol=0.0001,\n",
      "                                                 verbose=0,\n",
      "                                                 warm_start=False))],\n",
      "                 flatten_transform=True, n_jobs=6, voting='hard', weights=None)\n",
      "\n",
      "MODEL: VotingClassifier\n",
      "              precision    recall  f1-score   support\n",
      "\n",
      "           0       0.97      1.00      0.98     34753\n",
      "           1       0.97      0.87      0.92      7251\n",
      "\n",
      "    accuracy                           0.97     42004\n",
      "   macro avg       0.97      0.93      0.95     42004\n",
      "weighted avg       0.97      0.97      0.97     42004\n",
      "\n",
      "Cross validation score: 0.9739 (+/- 0.0014) [accuracy / VotingClassifier]\n",
      "\n",
      "Elapsed time: 214.31s [fit 17.68s, predict 2.61s, cv: 194.03s]\n"
     ]
    }
   ],
   "source": [
    "cv_scores = workflow(voting, \"VotingClassifier\", \"accuracy\",\n",
    "                     x_train, x_test, y_train, y_test, N_JOBS)"
   ]
  },
  {
   "cell_type": "code",
   "execution_count": 13,
   "metadata": {},
   "outputs": [],
   "source": [
    "scores_dict[\"VotingClassifier\"] = cv_scores"
   ]
  },
  {
   "cell_type": "code",
   "execution_count": 34,
   "metadata": {},
   "outputs": [],
   "source": [
    "save(voting, \"models/voting.pkl\")"
   ]
  },
  {
   "cell_type": "code",
   "execution_count": 40,
   "metadata": {},
   "outputs": [],
   "source": [
    "save(scores_dict, \"data/cv_scores.pkl\")"
   ]
  },
  {
   "cell_type": "markdown",
   "metadata": {},
   "source": [
    "# 4. Performance Evaluation"
   ]
  },
  {
   "cell_type": "code",
   "execution_count": 41,
   "metadata": {},
   "outputs": [],
   "source": [
    "scores_dict = load(\"data/cv_scores.pkl\")"
   ]
  },
  {
   "cell_type": "code",
   "execution_count": 35,
   "metadata": {},
   "outputs": [],
   "source": [
    "models = {\n",
    "    \"MultinomialNB\": multnb,\n",
    "    \"DecisionTreeClassifier\": tree,\n",
    "    \"RandomForestClassifier\": forest,\n",
    "    \"LGBMClassifier\": lgbm,\n",
    "    \"LogisticRegression\": logireg,\n",
    "    \"VotingClassifier\": voting\n",
    "}"
   ]
  },
  {
   "cell_type": "markdown",
   "metadata": {},
   "source": [
    "## 4.1 Average Cross Validation Accuracy"
   ]
  },
  {
   "cell_type": "code",
   "execution_count": 44,
   "metadata": {},
   "outputs": [
    {
     "name": "stdout",
     "output_type": "stream",
     "text": [
      "--- Mean Accuracy ---\n",
      "MultinomialNB: 0.9591\n",
      "DecisionTreeClassifier: 0.9043\n",
      "RandomForestClassifier: 0.8437\n",
      "LGBMClassifier: 0.9553\n",
      "LogisticRegression: 0.9640\n",
      "VotingClassifier: 0.9647\n"
     ]
    }
   ],
   "source": [
    "print(\"--- Mean Accuracy ---\")\n",
    "for name, score in scores_dict.items():\n",
    "    print(\"{}: \".format(name) + \"%0.4f\"%(score.mean()))"
   ]
  },
  {
   "cell_type": "code",
   "execution_count": 46,
   "metadata": {},
   "outputs": [],
   "source": [
    "data = [\n",
    "    scores_dict[\"RandomForestClassifier\"],\n",
    "    scores_dict[\"DecisionTreeClassifier\"],\n",
    "    scores_dict[\"LGBMClassifier\"],\n",
    "    scores_dict[\"MultinomialNB\"],\n",
    "    scores_dict[\"LogisticRegression\"],\n",
    "    scores_dict[\"VotingClassifier\"],\n",
    "]\n",
    "\n",
    "labels = [\n",
    "    \"RandomForestClassifier\",\n",
    "    \"DecisionTreeClassifier\",\n",
    "    \"LGBMClassifier\",\n",
    "    \"MultinomialNB\",\n",
    "    \"LogisticRegression\",\n",
    "    \"VotingClassifier\",\n",
    "]"
   ]
  },
  {
   "cell_type": "code",
   "execution_count": 48,
   "metadata": {
    "scrolled": false
   },
   "outputs": [
    {
     "data": {
      "image/png": "[encoded data removed]",
      "text/plain": [
       "<Figure size 864x432 with 1 Axes>"
      ]
     },
     "metadata": {
      "image/png": {
       "height": 483,
       "width": 730
      },
      "needs_background": "light"
     },
     "output_type": "display_data"
    }
   ],
   "source": [
    "plt.figure(figsize=(12, 6))\n",
    "plt.boxplot(data)\n",
    "plt.xticks(ticks=range(1, 7), labels=labels, rotation=90)\n",
    "plt.title(\"CV Accuracy by Model\")\n",
    "plt.ylabel(\"Accuracy\")\n",
    "plt.show()"
   ]
  },
  {
   "cell_type": "markdown",
   "metadata": {},
   "source": [
    "## 4.2 ROC Curves & AUCs"
   ]
  },
  {
   "cell_type": "code",
   "execution_count": 14,
   "metadata": {},
   "outputs": [
    {
     "ename": "NameError",
     "evalue": "name 'models' is not defined",
     "output_type": "error",
     "traceback": [
      "\u001b[0;31m---------------------------------------------------------------------------\u001b[0m",
      "\u001b[0;31mNameError\u001b[0m                                 Traceback (most recent call last)",
      "\u001b[0;32m<ipython-input-14-a58116c3fac8>\u001b[0m in \u001b[0;36m<module>\u001b[0;34m\u001b[0m\n\u001b[1;32m      1\u001b[0m \u001b[0mplt\u001b[0m\u001b[0;34m.\u001b[0m\u001b[0mfigure\u001b[0m\u001b[0;34m(\u001b[0m\u001b[0mfigsize\u001b[0m\u001b[0;34m=\u001b[0m\u001b[0;34m(\u001b[0m\u001b[0;36m10\u001b[0m\u001b[0;34m,\u001b[0m \u001b[0;36m10\u001b[0m\u001b[0;34m)\u001b[0m\u001b[0;34m)\u001b[0m\u001b[0;34m\u001b[0m\u001b[0;34m\u001b[0m\u001b[0m\n\u001b[1;32m      2\u001b[0m \u001b[0;34m\u001b[0m\u001b[0m\n\u001b[0;32m----> 3\u001b[0;31m \u001b[0;32mfor\u001b[0m \u001b[0mname\u001b[0m\u001b[0;34m,\u001b[0m \u001b[0mmodel\u001b[0m \u001b[0;32min\u001b[0m \u001b[0mmodels\u001b[0m\u001b[0;34m.\u001b[0m\u001b[0mitems\u001b[0m\u001b[0;34m(\u001b[0m\u001b[0;34m)\u001b[0m\u001b[0;34m:\u001b[0m\u001b[0;34m\u001b[0m\u001b[0;34m\u001b[0m\u001b[0m\n\u001b[0m\u001b[1;32m      4\u001b[0m     \u001b[0mfpr\u001b[0m\u001b[0;34m,\u001b[0m \u001b[0mtpr\u001b[0m\u001b[0;34m,\u001b[0m \u001b[0mthresholds\u001b[0m \u001b[0;34m=\u001b[0m \u001b[0mroc_curve\u001b[0m\u001b[0;34m(\u001b[0m\u001b[0my_test\u001b[0m\u001b[0;34m,\u001b[0m \u001b[0mmodel\u001b[0m\u001b[0;34m.\u001b[0m\u001b[0mpredict_proba\u001b[0m\u001b[0;34m(\u001b[0m\u001b[0mx_test\u001b[0m\u001b[0;34m)\u001b[0m\u001b[0;34m[\u001b[0m\u001b[0;34m:\u001b[0m\u001b[0;34m,\u001b[0m \u001b[0;36m1\u001b[0m\u001b[0;34m]\u001b[0m\u001b[0;34m)\u001b[0m\u001b[0;34m\u001b[0m\u001b[0;34m\u001b[0m\u001b[0m\n\u001b[1;32m      5\u001b[0m     \u001b[0mplt\u001b[0m\u001b[0;34m.\u001b[0m\u001b[0mplot\u001b[0m\u001b[0;34m(\u001b[0m\u001b[0mfpr\u001b[0m\u001b[0;34m,\u001b[0m \u001b[0mtpr\u001b[0m\u001b[0;34m,\u001b[0m \u001b[0mlabel\u001b[0m\u001b[0;34m=\u001b[0m\u001b[0mname\u001b[0m\u001b[0;34m)\u001b[0m\u001b[0;34m\u001b[0m\u001b[0;34m\u001b[0m\u001b[0m\n",
      "\u001b[0;31mNameError\u001b[0m: name 'models' is not defined"
     ]
    },
    {
     "data": {
      "text/plain": [
       "<Figure size 720x720 with 0 Axes>"
      ]
     },
     "metadata": {},
     "output_type": "display_data"
    }
   ],
   "source": [
    "plt.figure(figsize=(10, 10))\n",
    "\n",
    "for name, model in models.items():\n",
    "    fpr, tpr, thresholds = roc_curve(y_test, model.predict_proba(x_test)[:, 1])\n",
    "    plt.plot(fpr, tpr, label=name)\n",
    "\n",
    "\n",
    "plt.title(\"ROC Curves\")\n",
    "plt.xlabel('Fallout')\n",
    "plt.ylabel('Recall')\n",
    "plt.legend()\n",
    "plt.show()"
   ]
  },
  {
   "cell_type": "code",
   "execution_count": 39,
   "metadata": {},
   "outputs": [
    {
     "name": "stdout",
     "output_type": "stream",
     "text": [
      "--- AUC ---\n",
      "MultinomialNB: 0.9789\n",
      "DecisionTreeClassifier: 0.9246\n",
      "RandomForestClassifier: 0.9646\n",
      "LGBMClassifier: 0.9823\n",
      "LogisticRegression: 0.9842\n",
      "VotingClassifier: 0.9849\n"
     ]
    }
   ],
   "source": [
    "print(\"--- AUC ---\")\n",
    "for name, model in models.items():\n",
    "    print(\"{}: \".format(name) + \"%0.4f\"%(roc_auc_score(y_test, \n",
    "                                                model.predict_proba(x_test)[:,1])))"
   ]
  },
  {
   "cell_type": "markdown",
   "metadata": {},
   "source": [
    "---"
   ]
  },
  {
   "cell_type": "code",
   "execution_count": 49,
   "metadata": {},
   "outputs": [],
   "source": [
    "# TODO? hyperparameter optimization"
   ]
  },
  {
   "cell_type": "code",
   "execution_count": 13,
   "metadata": {},
   "outputs": [],
   "source": [
    "param_grid = {\n",
    "    \"alpha\": np.linspace(0, 1, 11)\n",
    "}\n",
    "\n",
    "gs = GridSearchCV(\n",
    "    estimator=MultinomialNB(),\n",
    "    param_grid=param_grid,\n",
    "    cv=5,\n",
    "    scoring=\"recall\",\n",
    "    n_jobs=N_JOBS\n",
    ")"
   ]
  },
  {
   "cell_type": "code",
   "execution_count": 14,
   "metadata": {},
   "outputs": [
    {
     "data": {
      "text/plain": [
       "GridSearchCV(cv=5, error_score='raise-deprecating',\n",
       "             estimator=MultinomialNB(alpha=1.0, class_prior=None,\n",
       "                                     fit_prior=True),\n",
       "             iid='warn', n_jobs=6,\n",
       "             param_grid={'alpha': array([0. , 0.1, 0.2, 0.3, 0.4, 0.5, 0.6, 0.7, 0.8, 0.9, 1. ])},\n",
       "             pre_dispatch='2*n_jobs', refit=True, return_train_score=False,\n",
       "             scoring='recall', verbose=0)"
      ]
     },
     "execution_count": 14,
     "metadata": {},
     "output_type": "execute_result"
    }
   ],
   "source": [
    "gs.fit(x_train, y_train)"
   ]
  },
  {
   "cell_type": "code",
   "execution_count": 15,
   "metadata": {},
   "outputs": [
    {
     "data": {
      "text/plain": [
       "{'alpha': 0.1}"
      ]
     },
     "execution_count": 15,
     "metadata": {},
     "output_type": "execute_result"
    }
   ],
   "source": [
    "gs.best_params_"
   ]
  },
  {
   "cell_type": "code",
   "execution_count": null,
   "metadata": {},
   "outputs": [],
   "source": [
    "param_grid = {\n",
    "    \"alpha\": np.linspace(0, 1, 11)\n",
    "}\n",
    "\n",
    "gs = GridSearchCV(\n",
    "    estimator=MultinomialNB(),\n",
    "    param_grid=param_grid,\n",
    "    cv=5,\n",
    "    scoring=\"recall\",\n",
    "    n_jobs=N_JOBS\n",
    ")"
   ]
  }
 ],
 "metadata": {
  "kernelspec": {
   "display_name": "Python 3",
   "language": "python",
   "name": "python3"
  },
  "language_info": {
   "codemirror_mode": {
    "name": "ipython",
    "version": 3
   },
   "file_extension": ".py",
   "mimetype": "text/x-python",
   "name": "python",
   "nbconvert_exporter": "python",
   "pygments_lexer": "ipython3",
   "version": "3.7.4"
  },
  "varInspector": {
   "cols": {
    "lenName": 16,
    "lenType": 16,
    "lenVar": 40
   },
   "kernels_config": {
    "python": {
     "delete_cmd_postfix": "",
     "delete_cmd_prefix": "del ",
     "library": "var_list.py",
     "varRefreshCmd": "print(var_dic_list())"
    },
    "r": {
     "delete_cmd_postfix": ") ",
     "delete_cmd_prefix": "rm(",
     "library": "var_list.r",
     "varRefreshCmd": "cat(var_dic_list()) "
    }
   },
   "types_to_exclude": [
    "module",
    "function",
    "builtin_function_or_method",
    "instance",
    "_Feature"
   ],
   "window_display": false
  }
 },
 "nbformat": 4,
 "nbformat_minor": 2
}
