{
 "cells": [
  {
   "cell_type": "markdown",
   "metadata": {},
   "source": [
    "# 0. Imports"
   ]
  },
  {
   "cell_type": "code",
   "execution_count": 1,
   "metadata": {},
   "outputs": [],
   "source": [
    "from sklearn.feature_extraction.text import TfidfVectorizer\n",
    "from sklearn.naive_bayes import MultinomialNB\n",
    "from sklearn.tree import DecisionTreeClassifier\n",
    "from sklearn.ensemble import RandomForestClassifier, VotingClassifier\n",
    "from sklearn.linear_model import LogisticRegression\n",
    "from sklearn.metrics import confusion_matrix, classification_report, roc_curve, roc_auc_score\n",
    "from sklearn.model_selection import train_test_split, cross_val_score, GridSearchCV\n",
    "import lightgbm\n",
    "\n",
    "from os import cpu_count\n",
    "\n",
    "# custom modules\n",
    "from code.util import *\n",
    "from code.preprocessor import *\n",
    "from code.modelhelper import *"
   ]
  },
  {
   "cell_type": "markdown",
   "metadata": {},
   "source": [
    "---"
   ]
  },
  {
   "cell_type": "code",
   "execution_count": 2,
   "metadata": {},
   "outputs": [],
   "source": [
    "data = load(\"data/urls_preprocessed.pkl\")"
   ]
  },
  {
   "cell_type": "markdown",
   "metadata": {},
   "source": [
    "# 1. Train/Test Split"
   ]
  },
  {
   "cell_type": "code",
   "execution_count": 3,
   "metadata": {},
   "outputs": [],
   "source": [
    "x, y = data.url, data.target\n",
    "x_train0, x_test0, y_train, y_test = train_test_split(x, y, test_size=0.33, random_state=42)"
   ]
  },
  {
   "cell_type": "markdown",
   "metadata": {},
   "source": [
    "# 2. Vectorization"
   ]
  },
  {
   "cell_type": "code",
   "execution_count": 4,
   "metadata": {},
   "outputs": [],
   "source": [
    "vect = TfidfVectorizer(\n",
    "    tokenizer=tokenize,\n",
    "    max_df=0.9999,\n",
    "    min_df=0.0001,\n",
    "    max_features=3000\n",
    ")"
   ]
  },
  {
   "cell_type": "code",
   "execution_count": 5,
   "metadata": {},
   "outputs": [
    {
     "data": {
      "text/plain": [
       "TfidfVectorizer(analyzer='word', binary=False, decode_error='strict',\n",
       "                dtype=<class 'numpy.float64'>, encoding='utf-8',\n",
       "                input='content', lowercase=True, max_df=0.9999,\n",
       "                max_features=3000, min_df=0.0001, ngram_range=(1, 1), norm='l2',\n",
       "                preprocessor=None, smooth_idf=True, stop_words=None,\n",
       "                strip_accents=None, sublinear_tf=False,\n",
       "                token_pattern='(?u)\\\\b\\\\w\\\\w+\\\\b',\n",
       "                tokenizer=<function tokenize at 0x1288dddd0>, use_idf=True,\n",
       "                vocabulary=None)"
      ]
     },
     "execution_count": 5,
     "metadata": {},
     "output_type": "execute_result"
    }
   ],
   "source": [
    "vect.fit(x_train0)"
   ]
  },
  {
   "cell_type": "code",
   "execution_count": 6,
   "metadata": {},
   "outputs": [],
   "source": [
    "x_train = vect.transform(x_train0).toarray()\n",
    "x_test = vect.transform(x_test0).toarray()"
   ]
  },
  {
   "cell_type": "markdown",
   "metadata": {},
   "source": [
    "# 3. Models"
   ]
  },
  {
   "cell_type": "code",
   "execution_count": 7,
   "metadata": {},
   "outputs": [],
   "source": [
    "scores_dict = {}"
   ]
  },
  {
   "cell_type": "markdown",
   "metadata": {},
   "source": [
    "## 3.1 Multinomial Naive Bayes"
   ]
  },
  {
   "cell_type": "code",
   "execution_count": 8,
   "metadata": {},
   "outputs": [],
   "source": [
    "multnb = MultinomialNB()"
   ]
  },
  {
   "cell_type": "code",
   "execution_count": 9,
   "metadata": {},
   "outputs": [
    {
     "name": "stdout",
     "output_type": "stream",
     "text": [
      "MultinomialNB(alpha=1.0, class_prior=None, fit_prior=True)\n",
      "\n",
      "MODEL: MultinomialNB\n",
      "              precision    recall  f1-score   support\n",
      "\n",
      "           0       0.96      0.99      0.97     17271\n",
      "           1       0.96      0.85      0.90      5067\n",
      "\n",
      "    accuracy                           0.96     22338\n",
      "   macro avg       0.96      0.92      0.94     22338\n",
      "weighted avg       0.96      0.96      0.96     22338\n",
      "\n",
      "Cross validation score: 0.96 (+/- 0.0026) [MultinomialNB]\n"
     ]
    }
   ],
   "source": [
    "cv_scores = workflow(multnb, \"MultinomialNB\", x_train, x_test, y_train, y_test)"
   ]
  },
  {
   "cell_type": "code",
   "execution_count": 10,
   "metadata": {},
   "outputs": [],
   "source": [
    "scores_dict[\"MultinomialNB\"] = cv_scores.mean()"
   ]
  },
  {
   "cell_type": "code",
   "execution_count": 11,
   "metadata": {},
   "outputs": [],
   "source": [
    "save(multnb, \"models/multnp.pkl\")"
   ]
  },
  {
   "cell_type": "markdown",
   "metadata": {},
   "source": [
    "## 3.2 Decision Tree"
   ]
  },
  {
   "cell_type": "code",
   "execution_count": 12,
   "metadata": {},
   "outputs": [],
   "source": [
    "tree = DecisionTreeClassifier(\n",
    "    criterion=\"gini\",\n",
    "    max_depth=5,\n",
    "    random_state=42\n",
    ")"
   ]
  },
  {
   "cell_type": "code",
   "execution_count": 13,
   "metadata": {},
   "outputs": [
    {
     "name": "stdout",
     "output_type": "stream",
     "text": [
      "DecisionTreeClassifier(class_weight=None, criterion='gini', max_depth=5,\n",
      "                       max_features=None, max_leaf_nodes=None,\n",
      "                       min_impurity_decrease=0.0, min_impurity_split=None,\n",
      "                       min_samples_leaf=1, min_samples_split=2,\n",
      "                       min_weight_fraction_leaf=0.0, presort=False,\n",
      "                       random_state=42, splitter='best')\n",
      "\n",
      "MODEL: DecisionTreeClassifier\n",
      "              precision    recall  f1-score   support\n",
      "\n",
      "           0       0.89      0.99      0.94     17271\n",
      "           1       0.97      0.59      0.73      5067\n",
      "\n",
      "    accuracy                           0.90     22338\n",
      "   macro avg       0.93      0.79      0.84     22338\n",
      "weighted avg       0.91      0.90      0.89     22338\n",
      "\n",
      "Cross validation score: 0.90 (+/- 0.0041) [DecisionTreeClassifier]\n"
     ]
    }
   ],
   "source": [
    "cv_scores = workflow(tree, \"DecisionTreeClassifier\", x_train, x_test, y_train, y_test)"
   ]
  },
  {
   "cell_type": "code",
   "execution_count": 14,
   "metadata": {},
   "outputs": [],
   "source": [
    "scores_dict[\"DecisionTreeClassifier\"] = cv_scores.mean()"
   ]
  },
  {
   "cell_type": "code",
   "execution_count": 15,
   "metadata": {},
   "outputs": [],
   "source": [
    "save(tree, \"models/tree.pkl\")"
   ]
  },
  {
   "cell_type": "code",
   "execution_count": 16,
   "metadata": {},
   "outputs": [],
   "source": [
    "# param_grid = {\n",
    "#     \"criterion\": [\"gini\", \"entropy\"],\n",
    "#     \"max_depth\": range(1, 11)\n",
    "# }\n",
    "\n",
    "# gs = GridSearchCV(\n",
    "#     estimator=DecisionTreeClassifier(),\n",
    "#     param_grid=params_grid,\n",
    "#     cv=5,\n",
    "#     n_jobs=cpu_count()-1\n",
    "# )"
   ]
  },
  {
   "cell_type": "code",
   "execution_count": 17,
   "metadata": {},
   "outputs": [],
   "source": [
    "# gs.fit(x_train, y_train)"
   ]
  },
  {
   "cell_type": "code",
   "execution_count": 18,
   "metadata": {},
   "outputs": [],
   "source": [
    "# gs.best_params_"
   ]
  },
  {
   "cell_type": "markdown",
   "metadata": {},
   "source": [
    "## 3.3 Random Forest"
   ]
  },
  {
   "cell_type": "code",
   "execution_count": 19,
   "metadata": {},
   "outputs": [],
   "source": [
    "forest = RandomForestClassifier(\n",
    "    n_estimators=100,\n",
    "    max_depth=5,\n",
    "    random_state=42\n",
    ")"
   ]
  },
  {
   "cell_type": "code",
   "execution_count": 20,
   "metadata": {},
   "outputs": [
    {
     "name": "stdout",
     "output_type": "stream",
     "text": [
      "RandomForestClassifier(bootstrap=True, class_weight=None, criterion='gini',\n",
      "                       max_depth=5, max_features='auto', max_leaf_nodes=None,\n",
      "                       min_impurity_decrease=0.0, min_impurity_split=None,\n",
      "                       min_samples_leaf=1, min_samples_split=2,\n",
      "                       min_weight_fraction_leaf=0.0, n_estimators=100,\n",
      "                       n_jobs=None, oob_score=False, random_state=42, verbose=0,\n",
      "                       warm_start=False)\n",
      "\n",
      "MODEL: RandomForestClassifier\n",
      "              precision    recall  f1-score   support\n",
      "\n",
      "           0       0.79      1.00      0.88     17271\n",
      "           1       1.00      0.07      0.13      5067\n",
      "\n",
      "    accuracy                           0.79     22338\n",
      "   macro avg       0.89      0.53      0.50     22338\n",
      "weighted avg       0.83      0.79      0.71     22338\n",
      "\n",
      "Cross validation score: 0.79 (+/- 0.0032) [RandomForestClassifier]\n"
     ]
    }
   ],
   "source": [
    "cv_scores = workflow(forest, \"RandomForestClassifier\", x_train, x_test, y_train, y_test)"
   ]
  },
  {
   "cell_type": "code",
   "execution_count": 21,
   "metadata": {},
   "outputs": [],
   "source": [
    "scores_dict[\"RandomForestClassifier\"] = cv_scores.mean()"
   ]
  },
  {
   "cell_type": "code",
   "execution_count": 22,
   "metadata": {},
   "outputs": [],
   "source": [
    "save(forest, \"models/forest.pkl\")"
   ]
  },
  {
   "cell_type": "markdown",
   "metadata": {},
   "source": [
    "## 3.4 Gradient Boosting (w/ LightGBM)"
   ]
  },
  {
   "cell_type": "code",
   "execution_count": 23,
   "metadata": {},
   "outputs": [],
   "source": [
    "lgbm = lightgbm.LGBMClassifier(\n",
    "    n_estimators=100,\n",
    "    max_depth=-1,\n",
    "    n_jobs=cpu_count()-1,\n",
    "    random_state=42\n",
    ")"
   ]
  },
  {
   "cell_type": "code",
   "execution_count": 24,
   "metadata": {},
   "outputs": [
    {
     "name": "stdout",
     "output_type": "stream",
     "text": [
      "LGBMClassifier(boosting_type='gbdt', class_weight=None, colsample_bytree=1.0,\n",
      "               importance_type='split', learning_rate=0.1, max_depth=-1,\n",
      "               min_child_samples=20, min_child_weight=0.001, min_split_gain=0.0,\n",
      "               n_estimators=100, n_jobs=11, num_leaves=31, objective=None,\n",
      "               random_state=42, reg_alpha=0.0, reg_lambda=0.0, silent=True,\n",
      "               subsample=1.0, subsample_for_bin=200000, subsample_freq=0)\n",
      "\n",
      "MODEL: LGBMClassifier\n",
      "              precision    recall  f1-score   support\n",
      "\n",
      "           0       0.96      0.99      0.97     17271\n",
      "           1       0.96      0.84      0.90      5067\n",
      "\n",
      "    accuracy                           0.96     22338\n",
      "   macro avg       0.96      0.92      0.94     22338\n",
      "weighted avg       0.96      0.96      0.96     22338\n",
      "\n",
      "Cross validation score: 0.96 (+/- 0.0026) [LGBMClassifier]\n"
     ]
    }
   ],
   "source": [
    "cv_scores = workflow(lgbm, \"LGBMClassifier\", x_train, x_test, y_train, y_test)"
   ]
  },
  {
   "cell_type": "code",
   "execution_count": 25,
   "metadata": {},
   "outputs": [],
   "source": [
    "scores_dict[\"LGBMClassifier\"] = cv_scores.mean()"
   ]
  },
  {
   "cell_type": "code",
   "execution_count": 26,
   "metadata": {},
   "outputs": [],
   "source": [
    "save(lgbm, \"models/lgbm.pkl\")"
   ]
  },
  {
   "cell_type": "markdown",
   "metadata": {},
   "source": [
    "## 3.5 Logistic Regression"
   ]
  },
  {
   "cell_type": "code",
   "execution_count": 27,
   "metadata": {},
   "outputs": [],
   "source": [
    "logireg = LogisticRegression()"
   ]
  },
  {
   "cell_type": "code",
   "execution_count": 28,
   "metadata": {},
   "outputs": [
    {
     "name": "stdout",
     "output_type": "stream",
     "text": [
      "LogisticRegression(C=1.0, class_weight=None, dual=False, fit_intercept=True,\n",
      "                   intercept_scaling=1, l1_ratio=None, max_iter=100,\n",
      "                   multi_class='warn', n_jobs=None, penalty='l2',\n",
      "                   random_state=None, solver='warn', tol=0.0001, verbose=0,\n",
      "                   warm_start=False)\n",
      "\n",
      "MODEL: LogisticRegression\n",
      "              precision    recall  f1-score   support\n",
      "\n",
      "           0       0.96      0.99      0.98     17271\n",
      "           1       0.98      0.86      0.92      5067\n",
      "\n",
      "    accuracy                           0.96     22338\n",
      "   macro avg       0.97      0.93      0.95     22338\n",
      "weighted avg       0.97      0.96      0.96     22338\n",
      "\n",
      "Cross validation score: 0.96 (+/- 0.0025) [LogisticRegression]\n"
     ]
    }
   ],
   "source": [
    "cv_scores = workflow(logireg, \"LogisticRegression\", x_train, x_test, y_train, y_test)"
   ]
  },
  {
   "cell_type": "code",
   "execution_count": 29,
   "metadata": {},
   "outputs": [],
   "source": [
    "scores_dict[\"LogisticRegression\"] = cv_scores.mean()"
   ]
  },
  {
   "cell_type": "code",
   "execution_count": 30,
   "metadata": {},
   "outputs": [],
   "source": [
    "save(logireg, \"models/logireg.pkl\")"
   ]
  },
  {
   "cell_type": "markdown",
   "metadata": {},
   "source": [
    "## 3.6 Voting Classifier\n",
    "Ensemble of the three best performing models"
   ]
  },
  {
   "cell_type": "code",
   "execution_count": 31,
   "metadata": {},
   "outputs": [],
   "source": [
    "model1 = MultinomialNB()\n",
    "\n",
    "model2 = lightgbm.LGBMClassifier(\n",
    "    n_estimators=100,\n",
    "    max_depth=-1,\n",
    "    n_jobs=cpu_count()-1,\n",
    "    random_state=42\n",
    ")\n",
    "\n",
    "model3 = LogisticRegression()\n",
    "\n",
    "voting = VotingClassifier(\n",
    "    estimators=[\n",
    "        (\"mnb\", model1),\n",
    "        (\"lgbm\", model2),\n",
    "        (\"logi\", model3)\n",
    "    ],\n",
    "    voting=\"soft\",\n",
    "    n_jobs=cpu_count()-1\n",
    ")"
   ]
  },
  {
   "cell_type": "code",
   "execution_count": 32,
   "metadata": {},
   "outputs": [
    {
     "name": "stdout",
     "output_type": "stream",
     "text": [
      "VotingClassifier(estimators=[('mnb',\n",
      "                              MultinomialNB(alpha=1.0, class_prior=None,\n",
      "                                            fit_prior=True)),\n",
      "                             ('lgbm',\n",
      "                              LGBMClassifier(boosting_type='gbdt',\n",
      "                                             class_weight=None,\n",
      "                                             colsample_bytree=1.0,\n",
      "                                             importance_type='split',\n",
      "                                             learning_rate=0.1, max_depth=-1,\n",
      "                                             min_child_samples=20,\n",
      "                                             min_child_weight=0.001,\n",
      "                                             min_split_gain=0.0,\n",
      "                                             n_estimators=100, n_jobs=11,\n",
      "                                             num_leaves=31, objective=None...\n",
      "                                             subsample=1.0,\n",
      "                                             subsample_for_bin=200000,\n",
      "                                             subsample_freq=0)),\n",
      "                             ('logi',\n",
      "                              LogisticRegression(C=1.0, class_weight=None,\n",
      "                                                 dual=False, fit_intercept=True,\n",
      "                                                 intercept_scaling=1,\n",
      "                                                 l1_ratio=None, max_iter=100,\n",
      "                                                 multi_class='warn',\n",
      "                                                 n_jobs=None, penalty='l2',\n",
      "                                                 random_state=None,\n",
      "                                                 solver='warn', tol=0.0001,\n",
      "                                                 verbose=0,\n",
      "                                                 warm_start=False))],\n",
      "                 flatten_transform=True, n_jobs=11, voting='soft',\n",
      "                 weights=None)\n",
      "\n",
      "MODEL: VotingClassifier\n",
      "              precision    recall  f1-score   support\n",
      "\n",
      "           0       0.96      0.99      0.98     17271\n",
      "           1       0.98      0.86      0.92      5067\n",
      "\n",
      "    accuracy                           0.96     22338\n",
      "   macro avg       0.97      0.93      0.95     22338\n",
      "weighted avg       0.96      0.96      0.96     22338\n",
      "\n",
      "Cross validation score: 0.96 (+/- 0.0025) [VotingClassifier]\n"
     ]
    }
   ],
   "source": [
    "cv_scores = workflow(voting, \"VotingClassifier\", x_train, x_test, y_train, y_test)"
   ]
  },
  {
   "cell_type": "code",
   "execution_count": 33,
   "metadata": {},
   "outputs": [],
   "source": [
    "scores_dict[\"VotingClassifier\"] = cv_scores.mean()"
   ]
  },
  {
   "cell_type": "code",
   "execution_count": 34,
   "metadata": {},
   "outputs": [],
   "source": [
    "save(voting, \"models/voting.pkl\")"
   ]
  },
  {
   "cell_type": "markdown",
   "metadata": {},
   "source": [
    "---"
   ]
  },
  {
   "cell_type": "code",
   "execution_count": 35,
   "metadata": {},
   "outputs": [
    {
     "name": "stdout",
     "output_type": "stream",
     "text": [
      "--- Accuracy ---\n",
      "MultinomialNB: 0.9591\n",
      "DecisionTreeClassifier: 0.9043\n",
      "RandomForestClassifier: 0.7933\n",
      "LGBMClassifier: 0.9553\n",
      "LogisticRegression: 0.9640\n",
      "VotingClassifier: 0.9647\n"
     ]
    }
   ],
   "source": [
    "print(\"--- Accuracy ---\")\n",
    "for name, score in scores_dict.items():\n",
    "    print(\"{}: \".format(name) + \"%0.4f\"%(score))"
   ]
  },
  {
   "cell_type": "markdown",
   "metadata": {},
   "source": [
    "# 4. ROC Curves"
   ]
  },
  {
   "cell_type": "code",
   "execution_count": 36,
   "metadata": {},
   "outputs": [],
   "source": [
    "models = {\n",
    "    \"MultinomialNB\": multnb,\n",
    "    \"DecisionTreeClassifier\": tree,\n",
    "    \"RandomForestClassifier\": forest,\n",
    "    \"LGBMClassifier\": lgbm,\n",
    "    \"LogisticRegression\": logireg,\n",
    "    \"VotingClassifier\": voting\n",
    "}"
   ]
  },
  {
   "cell_type": "code",
   "execution_count": 37,
   "metadata": {},
   "outputs": [
    {
     "data": {
      "image/png": "[encoded data removed]",
      "text/plain": [
       "<Figure size 864x864 with 1 Axes>"
      ]
     },
     "metadata": {
      "image/png": {
       "height": 716,
       "width": 724
      },
      "needs_background": "light"
     },
     "output_type": "display_data"
    }
   ],
   "source": [
    "plt.figure(figsize=(12, 12))\n",
    "\n",
    "for name, model in models.items():\n",
    "    fpr, tpr, thresholds = roc_curve(y_test, model.predict_proba(x_test)[:, 1])\n",
    "    plt.plot(fpr, tpr, label=name)\n",
    "\n",
    "\n",
    "plt.title(\"ROC Curves\")\n",
    "plt.xlabel('Fallout')\n",
    "plt.ylabel('Recall')\n",
    "plt.legend()\n",
    "plt.show()"
   ]
  },
  {
   "cell_type": "code",
   "execution_count": 38,
   "metadata": {},
   "outputs": [
    {
     "name": "stdout",
     "output_type": "stream",
     "text": [
      "--- AUC ---\n",
      "MultinomialNB: 0.9789\n",
      "DecisionTreeClassifier: 0.9246\n",
      "RandomForestClassifier: 0.9579\n",
      "LGBMClassifier: 0.9823\n",
      "LogisticRegression: 0.9842\n",
      "VotingClassifier: 0.9849\n"
     ]
    }
   ],
   "source": [
    "print(\"--- AUC ---\")\n",
    "for name, model in models.items():\n",
    "    print(\"{}: \".format(name) + \"%0.4f\"%(roc_auc_score(y_test, \n",
    "                                                model.predict_proba(x_test)[:,1])))"
   ]
  },
  {
   "cell_type": "code",
   "execution_count": null,
   "metadata": {},
   "outputs": [],
   "source": []
  }
 ],
 "metadata": {
  "kernelspec": {
   "display_name": "Python 3",
   "language": "python",
   "name": "python3"
  },
  "language_info": {
   "codemirror_mode": {
    "name": "ipython",
    "version": 3
   },
   "file_extension": ".py",
   "mimetype": "text/x-python",
   "name": "python",
   "nbconvert_exporter": "python",
   "pygments_lexer": "ipython3",
   "version": "3.7.4"
  },
  "varInspector": {
   "cols": {
    "lenName": 16,
    "lenType": 16,
    "lenVar": 40
   },
   "kernels_config": {
    "python": {
     "delete_cmd_postfix": "",
     "delete_cmd_prefix": "del ",
     "library": "var_list.py",
     "varRefreshCmd": "print(var_dic_list())"
    },
    "r": {
     "delete_cmd_postfix": ") ",
     "delete_cmd_prefix": "rm(",
     "library": "var_list.r",
     "varRefreshCmd": "cat(var_dic_list()) "
    }
   },
   "types_to_exclude": [
    "module",
    "function",
    "builtin_function_or_method",
    "instance",
    "_Feature"
   ],
   "window_display": false
  }
 },
 "nbformat": 4,
 "nbformat_minor": 2
}
