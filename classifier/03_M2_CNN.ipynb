{
 "cells": [
  {
   "cell_type": "code",
   "execution_count": 1,
   "metadata": {},
   "outputs": [
    {
     "name": "stderr",
     "output_type": "stream",
     "text": [
      "c:\\program files\\python37\\lib\\site-packages\\tensorboard\\compat\\tensorflow_stub\\dtypes.py:541: FutureWarning: Passing (type, 1) or '1type' as a synonym of type is deprecated; in a future version of numpy, it will be understood as (type, (1,)) / '(1,)type'.\n",
      "  _np_qint8 = np.dtype([(\"qint8\", np.int8, 1)])\n",
      "c:\\program files\\python37\\lib\\site-packages\\tensorboard\\compat\\tensorflow_stub\\dtypes.py:542: FutureWarning: Passing (type, 1) or '1type' as a synonym of type is deprecated; in a future version of numpy, it will be understood as (type, (1,)) / '(1,)type'.\n",
      "  _np_quint8 = np.dtype([(\"quint8\", np.uint8, 1)])\n",
      "c:\\program files\\python37\\lib\\site-packages\\tensorboard\\compat\\tensorflow_stub\\dtypes.py:543: FutureWarning: Passing (type, 1) or '1type' as a synonym of type is deprecated; in a future version of numpy, it will be understood as (type, (1,)) / '(1,)type'.\n",
      "  _np_qint16 = np.dtype([(\"qint16\", np.int16, 1)])\n",
      "c:\\program files\\python37\\lib\\site-packages\\tensorboard\\compat\\tensorflow_stub\\dtypes.py:544: FutureWarning: Passing (type, 1) or '1type' as a synonym of type is deprecated; in a future version of numpy, it will be understood as (type, (1,)) / '(1,)type'.\n",
      "  _np_quint16 = np.dtype([(\"quint16\", np.uint16, 1)])\n",
      "c:\\program files\\python37\\lib\\site-packages\\tensorboard\\compat\\tensorflow_stub\\dtypes.py:545: FutureWarning: Passing (type, 1) or '1type' as a synonym of type is deprecated; in a future version of numpy, it will be understood as (type, (1,)) / '(1,)type'.\n",
      "  _np_qint32 = np.dtype([(\"qint32\", np.int32, 1)])\n",
      "c:\\program files\\python37\\lib\\site-packages\\tensorboard\\compat\\tensorflow_stub\\dtypes.py:550: FutureWarning: Passing (type, 1) or '1type' as a synonym of type is deprecated; in a future version of numpy, it will be understood as (type, (1,)) / '(1,)type'.\n",
      "  np_resource = np.dtype([(\"resource\", np.ubyte, 1)])\n"
     ]
    }
   ],
   "source": [
    "from tensorflow.keras.models import Model\n",
    "from tensorflow.keras.optimizers import Adam\n",
    "from tensorflow.keras.callbacks import EarlyStopping\n",
    "from tensorflow.keras.layers import Input, Dropout, Dense, Flatten, Reshape, Conv1D, MaxPool1D, TimeDistributed, GRU\n",
    "from sklearn.model_selection import train_test_split\n",
    "from sklearn.metrics import confusion_matrix\n",
    "import matplotlib.pyplot as plt\n",
    "import numpy as np\n",
    "\n",
    "from code.modelhelper import *"
   ]
  },
  {
   "cell_type": "code",
   "execution_count": 2,
   "metadata": {},
   "outputs": [],
   "source": [
    "CVECT = 100\n",
    "UCHARS = 139\n",
    "NCLASS = 2\n",
    "BATCH_SIZE = 192\n",
    "EPOCHS = 300"
   ]
  },
  {
   "cell_type": "code",
   "execution_count": 3,
   "metadata": {},
   "outputs": [
    {
     "data": {
      "text/plain": [
       "((60000, 13900), (60000, 2))"
      ]
     },
     "execution_count": 3,
     "metadata": {},
     "output_type": "execute_result"
    }
   ],
   "source": [
    "x = np.load(\"data/xy/x_char_onehot_45_15.npz\")[\"arr_0\"]\n",
    "y = np.load(\"data/xy/y_onehot_45_15.npy\")\n",
    "x.shape, y.shape"
   ]
  },
  {
   "cell_type": "code",
   "execution_count": 4,
   "metadata": {},
   "outputs": [],
   "source": [
    "x_train, x_test, y_train, y_test = train_test_split(\n",
    "    x, y, test_size=0.2, random_state=11\n",
    ")"
   ]
  },
  {
   "cell_type": "markdown",
   "metadata": {},
   "source": [
    "# Char-level CNN"
   ]
  },
  {
   "cell_type": "code",
   "execution_count": 5,
   "metadata": {},
   "outputs": [
    {
     "name": "stdout",
     "output_type": "stream",
     "text": [
      "Model: \"model\"\n",
      "_________________________________________________________________\n",
      "Layer (type)                 Output Shape              Param #   \n",
      "=================================================================\n",
      "m2_input (InputLayer)        [(None, 13900)]           0         \n",
      "_________________________________________________________________\n",
      "m2_reshape (Reshape)         (None, 100, 139, 1)       0         \n",
      "_________________________________________________________________\n",
      "m2_timedistributed_1 (TimeDi (None, 100, 139, 20)      60        \n",
      "_________________________________________________________________\n",
      "m2_timedistributed_2 (TimeDi (None, 100, 69, 20)       0         \n",
      "_________________________________________________________________\n",
      "m2_timedistributed_3 (TimeDi (None, 100, 69, 20)       820       \n",
      "_________________________________________________________________\n",
      "m2_timedistributed_4 (TimeDi (None, 100, 34, 20)       0         \n",
      "_________________________________________________________________\n",
      "m2_timedistributed_5 (TimeDi (None, 100, 34, 20)       820       \n",
      "_________________________________________________________________\n",
      "m2_timedistributed_6 (TimeDi (None, 100, 17, 20)       0         \n",
      "_________________________________________________________________\n",
      "m2_timedistributed_7 (TimeDi (None, 100, 340)          0         \n",
      "_________________________________________________________________\n",
      "m2_dropout_1 (Dropout)       (None, 100, 340)          0         \n",
      "_________________________________________________________________\n",
      "m2_gru_1 (GRU)               (None, 100, 256)          459264    \n",
      "_________________________________________________________________\n",
      "m2_gru_2 (GRU)               (None, 256)               394752    \n",
      "_________________________________________________________________\n",
      "m2_dropout_2 (Dropout)       (None, 256)               0         \n",
      "_________________________________________________________________\n",
      "m2_dense_1 (Dense)           (None, 64)                16448     \n",
      "_________________________________________________________________\n",
      "m2_output (Dense)            (None, 2)                 130       \n",
      "=================================================================\n",
      "Total params: 872,294\n",
      "Trainable params: 872,294\n",
      "Non-trainable params: 0\n",
      "_________________________________________________________________\n"
     ]
    }
   ],
   "source": [
    "model_input = Input(shape=(CVECT*UCHARS,), name=\"m2_input\")\n",
    "H = Reshape((CVECT, UCHARS, 1), name=\"m2_reshape\")(model_input)\n",
    "\n",
    "H = TimeDistributed(\n",
    "    Conv1D(\n",
    "        filters=20, \n",
    "        kernel_size=(2), \n",
    "        padding='same', \n",
    "        activation='tanh',\n",
    "        name=\"m2_conv1d_1\"\n",
    "    ),\n",
    "    name=\"m2_timedistributed_1\"\n",
    ")(H)\n",
    "H = TimeDistributed(MaxPool1D(2, name=\"m2_maxpool1d_1\"), name=\"m2_timedistributed_2\")(H)\n",
    "\n",
    "H = TimeDistributed(\n",
    "    Conv1D(\n",
    "        filters=20, \n",
    "        kernel_size=(2), \n",
    "        padding='same', \n",
    "        activation='tanh',\n",
    "        name=\"m2_conv1d_2\"\n",
    "    ),\n",
    "    name=\"m2_timedistributed_3\"\n",
    ")(H)\n",
    "H = TimeDistributed(MaxPool1D(2, name=\"m2_maxpool1d_2\"), name=\"m2_timedistributed_4\")(H)\n",
    "\n",
    "H = TimeDistributed(\n",
    "    Conv1D(\n",
    "        filters=20, \n",
    "        kernel_size=(2), \n",
    "        padding='same', \n",
    "        activation='tanh',\n",
    "        name=\"m2_conv1d_3\"\n",
    "    ),\n",
    "    name=\"m2_timedistributed_5\"\n",
    ")(H)\n",
    "H = TimeDistributed(MaxPool1D(2, name=\"m2_maxpool1d_3\"), name=\"m2_timedistributed_6\")(H)\n",
    "\n",
    "H = TimeDistributed(Flatten(name=\"m2_flatten\"), name=\"m2_timedistributed_7\")(H)\n",
    "H = Dropout(0.5, name=\"m2_dropout_1\")(H)\n",
    "H = GRU(256, return_sequences=True, name=\"m2_gru_1\")(H)\n",
    "H = GRU(256, return_sequences=False, go_backwards=True, name=\"m2_gru_2\")(H)\n",
    "H = Dropout(rate=0.5, name=\"m2_dropout_2\")(H)\n",
    "H = Dense(64, activation='tanh', name=\"m2_dense_1\")(H)\n",
    "model_output = Dense(2, activation='softmax', name=\"m2_output\")(H)\n",
    "\n",
    "model = Model(model_input, model_output)\n",
    "model.summary()\n",
    "\n",
    "model.compile(\n",
    "    loss=\"categorical_crossentropy\",\n",
    "    optimizer=\"adam\",\n",
    "    metrics=[\"accuracy\"]\n",
    ")\n",
    "\n",
    "es = EarlyStopping(\n",
    "    monitor=\"val_loss\",\n",
    "    patience=5,\n",
    "    restore_best_weights=True\n",
    ")"
   ]
  },
  {
   "cell_type": "markdown",
   "metadata": {},
   "source": [
    "# Training"
   ]
  },
  {
   "cell_type": "code",
   "execution_count": null,
   "metadata": {},
   "outputs": [],
   "source": [
    "history = model.fit(\n",
    "    x_train, y_train,\n",
    "    batch_size=BATCH_SIZE,\n",
    "    epochs=EPOCHS,\n",
    "    verbose=2,\n",
    "    validation_data=(x_test, y_test),\n",
    "    callbacks=[es]\n",
    ")"
   ]
  },
  {
   "cell_type": "code",
   "execution_count": null,
   "metadata": {},
   "outputs": [],
   "source": [
    "score = model.evaluate(x_test, y_test, verbose=0)\n",
    "print('Test loss:', score[0])\n",
    "print('Test accuracy:', score[1])\n",
    "\n",
    "y_pred_model = model.predict(x_test)\n",
    "y_pred = to_bin(y_pred_model)\n",
    "print(\"Test recall: {}\".format(recall(y_test, y_pred)))\n",
    "\n",
    "y_test0 = to_1D(y_test)\n",
    "y_pred0 = to_1D(y_pred)\n",
    "print(confusion_matrix(y_test0, y_pred0))"
   ]
  },
  {
   "cell_type": "code",
   "execution_count": null,
   "metadata": {},
   "outputs": [],
   "source": [
    "plt.figure(figsize=(12, 6))\n",
    "plt.plot(history.history[\"accuracy\"], label=\"Train\")\n",
    "plt.plot(history.history[\"val_accuracy\"], label=\"Test\")\n",
    "plt.legend()\n",
    "plt.xlabel(\"Epochs\")\n",
    "plt.ylabel(\"Accuracy\")\n",
    "plt.show()"
   ]
  },
  {
   "cell_type": "code",
   "execution_count": null,
   "metadata": {},
   "outputs": [],
   "source": [
    "model.save(\"models/dl/m2.h5\")"
   ]
  },
  {
   "cell_type": "markdown",
   "metadata": {},
   "source": [
    "# K-fold CV"
   ]
  },
  {
   "cell_type": "code",
   "execution_count": 6,
   "metadata": {},
   "outputs": [],
   "source": [
    "model_params = {\n",
    "    \"batch_size\": BATCH_SIZE,\n",
    "    \"epochs\": EPOCHS,\n",
    "    \"es\": es,\n",
    "}"
   ]
  },
  {
   "cell_type": "code",
   "execution_count": 7,
   "metadata": {},
   "outputs": [
    {
     "name": "stdout",
     "output_type": "stream",
     "text": [
      "Starting 10-fold cross validation:\n",
      "    Validation 01 of 10 ... done [810.17s]\n",
      "    Validation 02 of 10 ... done [338.37s]\n",
      "    Validation 03 of 10 ... done [360.55s]\n",
      "    Validation 04 of 10 ... done [394.14s]\n",
      "    Validation 05 of 10 ... done [377.98s]\n",
      "    Validation 06 of 10 ... done [399.10s]\n",
      "    Validation 07 of 10 ... done [464.22s]\n",
      "    Validation 08 of 10 ... done [494.42s]\n",
      "    Validation 09 of 10 ... done [393.64s]\n",
      "    Validation 10 of 10 ... done [596.76s]\n"
     ]
    }
   ],
   "source": [
    "scores = kfold(model, model_params, x, y, cv=10)"
   ]
  },
  {
   "cell_type": "code",
   "execution_count": 8,
   "metadata": {},
   "outputs": [
    {
     "data": {
      "text/plain": [
       "array([[0.97133333, 0.98333333, 0.98233333, 0.98183333, 0.986     ,\n",
       "        0.98616667, 0.9905    , 0.99166667, 0.99333333, 0.99483333],\n",
       "       [0.95391061, 0.98872445, 0.97666438, 0.98811189, 0.98754325,\n",
       "        0.97560976, 0.99663753, 0.99191919, 0.98846893, 0.99511855],\n",
       "       [0.92798913, 0.94351042, 0.95183946, 0.93887043, 0.9557937 ,\n",
       "        0.96839274, 0.96610169, 0.97485109, 0.98594249, 0.98345968],\n",
       "       [0.01457597, 0.00354531, 0.00754717, 0.00378198, 0.00399379,\n",
       "        0.00797696, 0.00111957, 0.0026732 , 0.00405862, 0.0015388 ]])"
      ]
     },
     "execution_count": 8,
     "metadata": {},
     "output_type": "execute_result"
    }
   ],
   "source": [
    "arr = scores_dict_to_array(scores)\n",
    "arr"
   ]
  },
  {
   "cell_type": "code",
   "execution_count": 9,
   "metadata": {},
   "outputs": [],
   "source": [
    "np.save(\"cv/m2_cv.npy\", arr)"
   ]
  },
  {
   "cell_type": "code",
   "execution_count": null,
   "metadata": {},
   "outputs": [],
   "source": []
  }
 ],
 "metadata": {
  "kernelspec": {
   "display_name": "Python 3",
   "language": "python",
   "name": "python3"
  },
  "language_info": {
   "codemirror_mode": {
    "name": "ipython",
    "version": 3
   },
   "file_extension": ".py",
   "mimetype": "text/x-python",
   "name": "python",
   "nbconvert_exporter": "python",
   "pygments_lexer": "ipython3",
   "version": "3.7.4"
  },
  "varInspector": {
   "cols": {
    "lenName": 16,
    "lenType": 16,
    "lenVar": 40
   },
   "kernels_config": {
    "python": {
     "delete_cmd_postfix": "",
     "delete_cmd_prefix": "del ",
     "library": "var_list.py",
     "varRefreshCmd": "print(var_dic_list())"
    },
    "r": {
     "delete_cmd_postfix": ") ",
     "delete_cmd_prefix": "rm(",
     "library": "var_list.r",
     "varRefreshCmd": "cat(var_dic_list()) "
    }
   },
   "types_to_exclude": [
    "module",
    "function",
    "builtin_function_or_method",
    "instance",
    "_Feature"
   ],
   "window_display": false
  }
 },
 "nbformat": 4,
 "nbformat_minor": 2
}
