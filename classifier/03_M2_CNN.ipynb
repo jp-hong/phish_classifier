{
 "cells": [
  {
   "cell_type": "code",
   "execution_count": 1,
   "metadata": {},
   "outputs": [
    {
     "name": "stderr",
     "output_type": "stream",
     "text": [
      "c:\\program files\\python37\\lib\\site-packages\\tensorboard\\compat\\tensorflow_stub\\dtypes.py:541: FutureWarning: Passing (type, 1) or '1type' as a synonym of type is deprecated; in a future version of numpy, it will be understood as (type, (1,)) / '(1,)type'.\n",
      "  _np_qint8 = np.dtype([(\"qint8\", np.int8, 1)])\n",
      "c:\\program files\\python37\\lib\\site-packages\\tensorboard\\compat\\tensorflow_stub\\dtypes.py:542: FutureWarning: Passing (type, 1) or '1type' as a synonym of type is deprecated; in a future version of numpy, it will be understood as (type, (1,)) / '(1,)type'.\n",
      "  _np_quint8 = np.dtype([(\"quint8\", np.uint8, 1)])\n",
      "c:\\program files\\python37\\lib\\site-packages\\tensorboard\\compat\\tensorflow_stub\\dtypes.py:543: FutureWarning: Passing (type, 1) or '1type' as a synonym of type is deprecated; in a future version of numpy, it will be understood as (type, (1,)) / '(1,)type'.\n",
      "  _np_qint16 = np.dtype([(\"qint16\", np.int16, 1)])\n",
      "c:\\program files\\python37\\lib\\site-packages\\tensorboard\\compat\\tensorflow_stub\\dtypes.py:544: FutureWarning: Passing (type, 1) or '1type' as a synonym of type is deprecated; in a future version of numpy, it will be understood as (type, (1,)) / '(1,)type'.\n",
      "  _np_quint16 = np.dtype([(\"quint16\", np.uint16, 1)])\n",
      "c:\\program files\\python37\\lib\\site-packages\\tensorboard\\compat\\tensorflow_stub\\dtypes.py:545: FutureWarning: Passing (type, 1) or '1type' as a synonym of type is deprecated; in a future version of numpy, it will be understood as (type, (1,)) / '(1,)type'.\n",
      "  _np_qint32 = np.dtype([(\"qint32\", np.int32, 1)])\n",
      "c:\\program files\\python37\\lib\\site-packages\\tensorboard\\compat\\tensorflow_stub\\dtypes.py:550: FutureWarning: Passing (type, 1) or '1type' as a synonym of type is deprecated; in a future version of numpy, it will be understood as (type, (1,)) / '(1,)type'.\n",
      "  np_resource = np.dtype([(\"resource\", np.ubyte, 1)])\n"
     ]
    }
   ],
   "source": [
    "from tensorflow.keras.models import Model\n",
    "from tensorflow.keras.optimizers import Adam\n",
    "from tensorflow.keras.callbacks import EarlyStopping\n",
    "from tensorflow.keras.layers import Input, Dropout, Dense, Flatten, Reshape, Conv1D, MaxPool1D, TimeDistributed, GRU\n",
    "from sklearn.model_selection import train_test_split\n",
    "from sklearn.metrics import confusion_matrix\n",
    "import matplotlib.pyplot as plt\n",
    "import numpy as np\n",
    "\n",
    "from code.util import *\n",
    "from code.modelhelper import *"
   ]
  },
  {
   "cell_type": "code",
   "execution_count": 2,
   "metadata": {},
   "outputs": [],
   "source": [
    "CVECT = 100\n",
    "UCHARS = 139\n",
    "NCLASS = 2\n",
    "BATCH_SIZE = 192\n",
    "EPOCHS = 300"
   ]
  },
  {
   "cell_type": "code",
   "execution_count": 3,
   "metadata": {},
   "outputs": [
    {
     "data": {
      "text/plain": [
       "((60000, 13900), (60000, 2))"
      ]
     },
     "execution_count": 3,
     "metadata": {},
     "output_type": "execute_result"
    }
   ],
   "source": [
    "x = np.load(\"data/xy/x_char_onehot_45_15.npz\")[\"arr_0\"]\n",
    "y = np.load(\"data/xy/y_onehot_45_15.npy\")\n",
    "x.shape, y.shape"
   ]
  },
  {
   "cell_type": "code",
   "execution_count": 4,
   "metadata": {},
   "outputs": [],
   "source": [
    "x_train, x_test, y_train, y_test = train_test_split(\n",
    "    x, y, test_size=0.2, random_state=11\n",
    ")"
   ]
  },
  {
   "cell_type": "code",
   "execution_count": 5,
   "metadata": {},
   "outputs": [
    {
     "name": "stdout",
     "output_type": "stream",
     "text": [
      "Model: \"model\"\n",
      "_________________________________________________________________\n",
      "Layer (type)                 Output Shape              Param #   \n",
      "=================================================================\n",
      "m2_input (InputLayer)        [(None, 13900)]           0         \n",
      "_________________________________________________________________\n",
      "m2_reshape (Reshape)         (None, 100, 139, 1)       0         \n",
      "_________________________________________________________________\n",
      "m2_timedistributed_1 (TimeDi (None, 100, 139, 20)      60        \n",
      "_________________________________________________________________\n",
      "m2_timedistributed_2 (TimeDi (None, 100, 69, 20)       0         \n",
      "_________________________________________________________________\n",
      "m2_timedistributed_3 (TimeDi (None, 100, 69, 20)       820       \n",
      "_________________________________________________________________\n",
      "m2_timedistributed_4 (TimeDi (None, 100, 34, 20)       0         \n",
      "_________________________________________________________________\n",
      "m2_timedistributed_5 (TimeDi (None, 100, 34, 20)       820       \n",
      "_________________________________________________________________\n",
      "m2_timedistributed_6 (TimeDi (None, 100, 17, 20)       0         \n",
      "_________________________________________________________________\n",
      "m2_timedistributed_7 (TimeDi (None, 100, 340)          0         \n",
      "_________________________________________________________________\n",
      "m2_dropout_1 (Dropout)       (None, 100, 340)          0         \n",
      "_________________________________________________________________\n",
      "m2_gru_1 (GRU)               (None, 100, 256)          459264    \n",
      "_________________________________________________________________\n",
      "m2_gru_2 (GRU)               (None, 256)               394752    \n",
      "_________________________________________________________________\n",
      "m2_dropout_2 (Dropout)       (None, 256)               0         \n",
      "_________________________________________________________________\n",
      "m2_dense_1 (Dense)           (None, 64)                16448     \n",
      "_________________________________________________________________\n",
      "m2_output (Dense)            (None, 2)                 130       \n",
      "=================================================================\n",
      "Total params: 872,294\n",
      "Trainable params: 872,294\n",
      "Non-trainable params: 0\n",
      "_________________________________________________________________\n"
     ]
    }
   ],
   "source": [
    "model_input = Input(shape=(CVECT*UCHARS,), name=\"m2_input\")\n",
    "H = Reshape((CVECT, UCHARS, 1), name=\"m2_reshape\")(model_input)\n",
    "\n",
    "H = TimeDistributed(\n",
    "    Conv1D(\n",
    "        filters=20, \n",
    "        kernel_size=(2), \n",
    "        padding='same', \n",
    "        activation='tanh',\n",
    "        name=\"m2_conv1d_1\"\n",
    "    ),\n",
    "    name=\"m2_timedistributed_1\"\n",
    ")(H)\n",
    "H = TimeDistributed(MaxPool1D(2, name=\"m2_maxpool1d_1\"), name=\"m2_timedistributed_2\")(H)\n",
    "\n",
    "H = TimeDistributed(\n",
    "    Conv1D(\n",
    "        filters=20, \n",
    "        kernel_size=(2), \n",
    "        padding='same', \n",
    "        activation='tanh',\n",
    "        name=\"m2_conv1d_2\"\n",
    "    ),\n",
    "    name=\"m2_timedistributed_3\"\n",
    ")(H)\n",
    "H = TimeDistributed(MaxPool1D(2, name=\"m2_maxpool1d_2\"), name=\"m2_timedistributed_4\")(H)\n",
    "\n",
    "H = TimeDistributed(\n",
    "    Conv1D(\n",
    "        filters=20, \n",
    "        kernel_size=(2), \n",
    "        padding='same', \n",
    "        activation='tanh',\n",
    "        name=\"m2_conv1d_3\"\n",
    "    ),\n",
    "    name=\"m2_timedistributed_5\"\n",
    ")(H)\n",
    "H = TimeDistributed(MaxPool1D(2, name=\"m2_maxpool1d_3\"), name=\"m2_timedistributed_6\")(H)\n",
    "\n",
    "H = TimeDistributed(Flatten(name=\"m2_flatten\"), name=\"m2_timedistributed_7\")(H)\n",
    "H = Dropout(0.5, name=\"m2_dropout_1\")(H)\n",
    "H = GRU(256, return_sequences=True, name=\"m2_gru_1\")(H)\n",
    "H = GRU(256, return_sequences=False, go_backwards=True, name=\"m2_gru_2\")(H)\n",
    "H = Dropout(rate=0.5, name=\"m2_dropout_2\")(H)\n",
    "H = Dense(64, activation='tanh', name=\"m2_dense_1\")(H)\n",
    "model_output = Dense(2, activation='softmax', name=\"m2_output\")(H)\n",
    "\n",
    "model = Model(model_input, model_output)\n",
    "model.summary()"
   ]
  },
  {
   "cell_type": "code",
   "execution_count": 6,
   "metadata": {},
   "outputs": [
    {
     "name": "stdout",
     "output_type": "stream",
     "text": [
      "Train on 48000 samples, validate on 12000 samples\n",
      "Epoch 1/300\n",
      "48000/48000 - 58s - loss: 0.3615 - accuracy: 0.8293 - val_loss: 0.3148 - val_accuracy: 0.8535\n",
      "Epoch 2/300\n",
      "48000/48000 - 51s - loss: 0.3057 - accuracy: 0.8644 - val_loss: 0.2642 - val_accuracy: 0.8808\n",
      "Epoch 3/300\n",
      "48000/48000 - 51s - loss: 0.2667 - accuracy: 0.8842 - val_loss: 0.2413 - val_accuracy: 0.8935\n",
      "Epoch 4/300\n",
      "48000/48000 - 51s - loss: 0.2484 - accuracy: 0.8932 - val_loss: 0.2270 - val_accuracy: 0.9019\n",
      "Epoch 5/300\n",
      "48000/48000 - 51s - loss: 0.2380 - accuracy: 0.9001 - val_loss: 0.2229 - val_accuracy: 0.9072\n",
      "Epoch 6/300\n",
      "48000/48000 - 51s - loss: 0.2275 - accuracy: 0.9050 - val_loss: 0.2137 - val_accuracy: 0.9098\n",
      "Epoch 7/300\n",
      "48000/48000 - 51s - loss: 0.2135 - accuracy: 0.9121 - val_loss: 0.1951 - val_accuracy: 0.9205\n",
      "Epoch 8/300\n",
      "48000/48000 - 51s - loss: 0.1997 - accuracy: 0.9192 - val_loss: 0.1783 - val_accuracy: 0.9298\n",
      "Epoch 9/300\n",
      "48000/48000 - 51s - loss: 0.1840 - accuracy: 0.9277 - val_loss: 0.1698 - val_accuracy: 0.9331\n",
      "Epoch 10/300\n",
      "48000/48000 - 51s - loss: 0.1691 - accuracy: 0.9347 - val_loss: 0.1609 - val_accuracy: 0.9364\n",
      "Epoch 11/300\n",
      "48000/48000 - 51s - loss: 0.1509 - accuracy: 0.9434 - val_loss: 0.1561 - val_accuracy: 0.9423\n",
      "Epoch 12/300\n",
      "48000/48000 - 51s - loss: 0.1389 - accuracy: 0.9492 - val_loss: 0.1598 - val_accuracy: 0.9455\n",
      "Epoch 13/300\n",
      "48000/48000 - 51s - loss: 0.1251 - accuracy: 0.9533 - val_loss: 0.1484 - val_accuracy: 0.9457\n",
      "Epoch 14/300\n",
      "48000/48000 - 51s - loss: 0.1118 - accuracy: 0.9596 - val_loss: 0.1563 - val_accuracy: 0.9434\n",
      "Epoch 15/300\n",
      "48000/48000 - 51s - loss: 0.1004 - accuracy: 0.9639 - val_loss: 0.1457 - val_accuracy: 0.9490\n",
      "Epoch 16/300\n",
      "48000/48000 - 51s - loss: 0.0929 - accuracy: 0.9671 - val_loss: 0.1640 - val_accuracy: 0.9497\n",
      "Epoch 17/300\n",
      "48000/48000 - 52s - loss: 0.0829 - accuracy: 0.9722 - val_loss: 0.1446 - val_accuracy: 0.9513\n",
      "Epoch 18/300\n",
      "48000/48000 - 51s - loss: 0.0727 - accuracy: 0.9751 - val_loss: 0.1571 - val_accuracy: 0.9508\n",
      "Epoch 19/300\n",
      "48000/48000 - 51s - loss: 0.0687 - accuracy: 0.9758 - val_loss: 0.1543 - val_accuracy: 0.9506\n",
      "Epoch 20/300\n",
      "48000/48000 - 51s - loss: 0.0646 - accuracy: 0.9777 - val_loss: 0.1621 - val_accuracy: 0.9533\n",
      "Epoch 21/300\n",
      "48000/48000 - 51s - loss: 0.0581 - accuracy: 0.9802 - val_loss: 0.1617 - val_accuracy: 0.9534\n",
      "Epoch 22/300\n",
      "48000/48000 - 51s - loss: 0.0554 - accuracy: 0.9811 - val_loss: 0.1687 - val_accuracy: 0.9532\n"
     ]
    }
   ],
   "source": [
    "model.compile(\n",
    "    loss=\"categorical_crossentropy\",\n",
    "    optimizer=Adam(),\n",
    "    metrics=[\"accuracy\"]\n",
    ")\n",
    "\n",
    "es = EarlyStopping(\n",
    "    mode=\"auto\",\n",
    "    monitor=\"val_loss\",\n",
    "    patience=5,\n",
    "    restore_best_weights=True\n",
    ")\n",
    "\n",
    "history = model.fit(\n",
    "    x_train, y_train,\n",
    "    batch_size=BATCH_SIZE,\n",
    "    epochs=EPOCHS,\n",
    "    verbose=2,\n",
    "    validation_data=(x_test, y_test),\n",
    "    callbacks=[es]\n",
    ")"
   ]
  },
  {
   "cell_type": "code",
   "execution_count": 7,
   "metadata": {},
   "outputs": [
    {
     "name": "stdout",
     "output_type": "stream",
     "text": [
      "Test loss: 0.14455712543986737\n",
      "Test accuracy: 0.95125\n",
      "Test recall: 0.8739438999662048\n",
      "[[8829  212]\n",
      " [ 373 2586]]\n"
     ]
    }
   ],
   "source": [
    "score = model.evaluate(x_test, y_test, verbose=0)\n",
    "print('Test loss:', score[0])\n",
    "print('Test accuracy:', score[1])\n",
    "\n",
    "y_pred_model = model.predict(x_test)\n",
    "y_pred = to_bin(y_pred_model)\n",
    "print(\"Test recall: {}\".format(recall(y_test, y_pred)))\n",
    "\n",
    "y_test0 = to_1D(y_test)\n",
    "y_pred0 = to_1D(y_pred)\n",
    "print(confusion_matrix(y_test0, y_pred0))"
   ]
  },
  {
   "cell_type": "code",
   "execution_count": 8,
   "metadata": {},
   "outputs": [
    {
     "data": {
      "image/png": "[encoded data removed]",
      "text/plain": [
       "<Figure size 864x432 with 1 Axes>"
      ]
     },
     "metadata": {
      "needs_background": "light"
     },
     "output_type": "display_data"
    }
   ],
   "source": [
    "plt.figure(figsize=(12, 6))\n",
    "plt.plot(history.history[\"accuracy\"], label=\"Train\")\n",
    "plt.plot(history.history[\"val_accuracy\"], label=\"Test\")\n",
    "plt.legend()\n",
    "plt.xlabel(\"Epochs\")\n",
    "plt.ylabel(\"Accuracy\")\n",
    "plt.show()"
   ]
  },
  {
   "cell_type": "code",
   "execution_count": 9,
   "metadata": {},
   "outputs": [],
   "source": [
    "model.save(\"models/dl/m2.h5\")"
   ]
  },
  {
   "cell_type": "code",
   "execution_count": null,
   "metadata": {},
   "outputs": [],
   "source": []
  }
 ],
 "metadata": {
  "kernelspec": {
   "display_name": "Python 3",
   "language": "python",
   "name": "python3"
  },
  "language_info": {
   "codemirror_mode": {
    "name": "ipython",
    "version": 3
   },
   "file_extension": ".py",
   "mimetype": "text/x-python",
   "name": "python",
   "nbconvert_exporter": "python",
   "pygments_lexer": "ipython3",
   "version": "3.7.4"
  },
  "varInspector": {
   "cols": {
    "lenName": 16,
    "lenType": 16,
    "lenVar": 40
   },
   "kernels_config": {
    "python": {
     "delete_cmd_postfix": "",
     "delete_cmd_prefix": "del ",
     "library": "var_list.py",
     "varRefreshCmd": "print(var_dic_list())"
    },
    "r": {
     "delete_cmd_postfix": ") ",
     "delete_cmd_prefix": "rm(",
     "library": "var_list.r",
     "varRefreshCmd": "cat(var_dic_list()) "
    }
   },
   "types_to_exclude": [
    "module",
    "function",
    "builtin_function_or_method",
    "instance",
    "_Feature"
   ],
   "window_display": false
  }
 },
 "nbformat": 4,
 "nbformat_minor": 2
}
