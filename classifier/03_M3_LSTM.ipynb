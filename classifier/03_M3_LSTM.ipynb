{
 "cells": [
  {
   "cell_type": "code",
   "execution_count": 1,
   "metadata": {},
   "outputs": [],
   "source": [
    "from tensorflow.keras.models import Model\n",
    "from tensorflow.keras.layers import Input, Dense, Embedding, SpatialDropout1D, LSTM\n",
    "from tensorflow.keras.callbacks import EarlyStopping\n",
    "from sklearn.model_selection import train_test_split\n",
    "from sklearn.metrics import confusion_matrix\n",
    "import matplotlib.pyplot as plt\n",
    "import numpy as np\n",
    "\n",
    "from code.modelhelper import *"
   ]
  },
  {
   "cell_type": "code",
   "execution_count": 2,
   "metadata": {},
   "outputs": [],
   "source": [
    "N_VOCAB = 5000\n",
    "N_CLASS = 2\n",
    "BATCH_SIZE = 256\n",
    "EPOCHS = 300"
   ]
  },
  {
   "cell_type": "code",
   "execution_count": 5,
   "metadata": {},
   "outputs": [
    {
     "data": {
      "text/plain": [
       "((60000, 20), (60000, 2))"
      ]
     },
     "execution_count": 5,
     "metadata": {},
     "output_type": "execute_result"
    }
   ],
   "source": [
    "x = np.load(\"data/xy/x_word_45_15.npy\")\n",
    "y = np.load(\"data/xy/y_onehot_45_15.npy\")\n",
    "x.shape, y.shape"
   ]
  },
  {
   "cell_type": "code",
   "execution_count": 6,
   "metadata": {},
   "outputs": [],
   "source": [
    "x_train, x_test, y_train, y_test = train_test_split(\n",
    "    x, y, test_size=0.2, random_state=11)"
   ]
  },
  {
   "cell_type": "markdown",
   "metadata": {},
   "source": [
    "# Word-level LSTM"
   ]
  },
  {
   "cell_type": "code",
   "execution_count": 7,
   "metadata": {},
   "outputs": [
    {
     "name": "stdout",
     "output_type": "stream",
     "text": [
      "Model: \"model\"\n",
      "_________________________________________________________________\n",
      "Layer (type)                 Output Shape              Param #   \n",
      "=================================================================\n",
      "m3_input (InputLayer)        [(None, 20)]              0         \n",
      "_________________________________________________________________\n",
      "m3_embedding (Embedding)     (None, 20, 32)            160000    \n",
      "_________________________________________________________________\n",
      "m3_spacialdropout1d (Spatial (None, 20, 32)            0         \n",
      "_________________________________________________________________\n",
      "m3_lstm (LSTM)               (None, 32)                8320      \n",
      "_________________________________________________________________\n",
      "m3_output (Dense)            (None, 2)                 66        \n",
      "=================================================================\n",
      "Total params: 168,386\n",
      "Trainable params: 168,386\n",
      "Non-trainable params: 0\n",
      "_________________________________________________________________\n"
     ]
    }
   ],
   "source": [
    "model_input = Input(shape=(x.shape[1], ), name=\"m3_input\")\n",
    "H = Embedding(N_VOCAB, 32, name=\"m3_embedding\")(model_input)\n",
    "H = SpatialDropout1D(0.25, name=\"m3_spacialdropout1d\")(H)\n",
    "H = LSTM(32, name=\"m3_lstm\")(H)\n",
    "model_output = Dense(N_CLASS, activation=\"softmax\", name=\"m3_output\")(H)\n",
    "\n",
    "model = Model(model_input, model_output)\n",
    "model.summary()\n",
    "\n",
    "model.compile(\n",
    "    loss=\"categorical_crossentropy\",\n",
    "    optimizer=\"adam\",\n",
    "    metrics=[\"accuracy\"]\n",
    ")\n",
    "\n",
    "es = EarlyStopping(\n",
    "    monitor=\"val_loss\",\n",
    "    patience=5,\n",
    "    restore_best_weights=True\n",
    ")"
   ]
  },
  {
   "cell_type": "markdown",
   "metadata": {
    "heading_collapsed": true
   },
   "source": [
    "# Training"
   ]
  },
  {
   "cell_type": "code",
   "execution_count": 7,
   "metadata": {
    "hidden": true
   },
   "outputs": [
    {
     "name": "stdout",
     "output_type": "stream",
     "text": [
      "Train on 48000 samples, validate on 12000 samples\n",
      "Epoch 1/300\n",
      "48000/48000 [==============================] - 5s 95us/sample - loss: 0.2964 - accuracy: 0.8756 - val_loss: 0.1168 - val_accuracy: 0.9629\n",
      "Epoch 2/300\n",
      "48000/48000 [==============================] - 3s 55us/sample - loss: 0.0980 - accuracy: 0.9676 - val_loss: 0.0916 - val_accuracy: 0.9710\n",
      "Epoch 3/300\n",
      "48000/48000 [==============================] - 3s 53us/sample - loss: 0.0747 - accuracy: 0.9768 - val_loss: 0.0852 - val_accuracy: 0.9732\n",
      "Epoch 4/300\n",
      "48000/48000 [==============================] - 3s 54us/sample - loss: 0.0645 - accuracy: 0.9800 - val_loss: 0.0877 - val_accuracy: 0.9702\n",
      "Epoch 5/300\n",
      "48000/48000 [==============================] - 2s 51us/sample - loss: 0.0591 - accuracy: 0.9813 - val_loss: 0.0894 - val_accuracy: 0.9729\n",
      "Epoch 6/300\n",
      "48000/48000 [==============================] - 3s 52us/sample - loss: 0.0559 - accuracy: 0.9827 - val_loss: 0.0859 - val_accuracy: 0.9724\n",
      "Epoch 7/300\n",
      "48000/48000 [==============================] - 3s 53us/sample - loss: 0.0531 - accuracy: 0.9832 - val_loss: 0.0872 - val_accuracy: 0.9728\n",
      "Epoch 8/300\n",
      "48000/48000 [==============================] - 3s 52us/sample - loss: 0.0514 - accuracy: 0.9843 - val_loss: 0.0898 - val_accuracy: 0.9710\n"
     ]
    }
   ],
   "source": [
    "history = model.fit(\n",
    "    x_train,\n",
    "    y_train,\n",
    "    batch_size=BATCH_SIZE,\n",
    "    epochs=EPOCHS,\n",
    "    verbose=2,\n",
    "    validation_data=(x_test, y_test),\n",
    "    callbacks=[es]\n",
    ")"
   ]
  },
  {
   "cell_type": "code",
   "execution_count": 8,
   "metadata": {
    "hidden": true
   },
   "outputs": [
    {
     "name": "stdout",
     "output_type": "stream",
     "text": [
      "Test loss: 0.08519735573604703\n",
      "Test accuracy: 0.97325\n",
      "Test recall: 0.919905373436972\n",
      "[[8957   84]\n",
      " [ 237 2722]]\n"
     ]
    }
   ],
   "source": [
    "score = model.evaluate(x_test, y_test, verbose=0)\n",
    "print('Test loss:', score[0])\n",
    "print('Test accuracy:', score[1])\n",
    "\n",
    "y_pred = to_bin(model.predict(x_test))\n",
    "print(\"Test recall: {}\".format(recall(y_test, y_pred)))\n",
    "\n",
    "y_test0 = to_1D(y_test)\n",
    "y_pred0 = to_1D(y_pred)\n",
    "print(confusion_matrix(y_test0, y_pred0))"
   ]
  },
  {
   "cell_type": "code",
   "execution_count": 9,
   "metadata": {
    "hidden": true
   },
   "outputs": [
    {
     "data": {
      "image/png": "[encoded data removed]",
      "text/plain": [
       "<Figure size 864x432 with 1 Axes>"
      ]
     },
     "metadata": {
      "image/png": {
       "height": 375,
       "width": 730
      },
      "needs_background": "light"
     },
     "output_type": "display_data"
    }
   ],
   "source": [
    "plt.figure(figsize=(12, 6))\n",
    "plt.plot(history.history[\"accuracy\"], label=\"Train\")\n",
    "plt.plot(history.history[\"val_accuracy\"], label=\"Test\")\n",
    "plt.legend()\n",
    "plt.xlabel(\"Epochs\")\n",
    "plt.ylabel(\"Accuracy\")\n",
    "plt.show()"
   ]
  },
  {
   "cell_type": "code",
   "execution_count": 10,
   "metadata": {
    "hidden": true
   },
   "outputs": [],
   "source": [
    "model.save(\"models/dl/m3_10000.h5\")"
   ]
  },
  {
   "cell_type": "markdown",
   "metadata": {},
   "source": [
    "# K-fold CV"
   ]
  },
  {
   "cell_type": "code",
   "execution_count": 8,
   "metadata": {},
   "outputs": [],
   "source": [
    "model_params = {\n",
    "    \"batch_size\": BATCH_SIZE,\n",
    "    \"epochs\": EPOCHS,\n",
    "    \"es\": es,\n",
    "}"
   ]
  },
  {
   "cell_type": "code",
   "execution_count": 9,
   "metadata": {},
   "outputs": [
    {
     "name": "stdout",
     "output_type": "stream",
     "text": [
      "Starting 10-fold cross validation:\n",
      "    Validation 01 of 10 ... done [36.41s]\n",
      "    Validation 02 of 10 ... done [16.59s]\n",
      "    Validation 03 of 10 ... done [16.93s]\n",
      "    Validation 04 of 10 ... done [17.21s]\n",
      "    Validation 05 of 10 ... done [16.88s]\n",
      "    Validation 06 of 10 ... done [16.76s]\n",
      "    Validation 07 of 10 ... done [16.73s]\n",
      "    Validation 08 of 10 ... done [16.51s]\n",
      "    Validation 09 of 10 ... done [16.50s]\n",
      "    Validation 10 of 10 ... done [16.50s]\n"
     ]
    }
   ],
   "source": [
    "scores = kfold(model, model_params, x, y, 10)"
   ]
  },
  {
   "cell_type": "code",
   "execution_count": 10,
   "metadata": {},
   "outputs": [
    {
     "data": {
      "text/plain": [
       "array([[0.97016667, 0.9795    , 0.97933333, 0.97583333, 0.97866667,\n",
       "        0.97933333, 0.983     , 0.98233333, 0.9845    , 0.98233333],\n",
       "       [0.96344086, 0.98163842, 0.9844523 , 0.98571429, 0.98165138,\n",
       "        0.98643826, 0.98053691, 0.98750867, 0.98612946, 0.99051787],\n",
       "       [0.91304348, 0.93476799, 0.93177258, 0.91694352, 0.93168118,\n",
       "        0.92938803, 0.95241199, 0.94176042, 0.95399361, 0.93590627],\n",
       "       [0.01126325, 0.00576113, 0.00488346, 0.00444939, 0.0057688 ,\n",
       "        0.00421006, 0.00649351, 0.0040098 , 0.00473506, 0.00285777]])"
      ]
     },
     "execution_count": 10,
     "metadata": {},
     "output_type": "execute_result"
    }
   ],
   "source": [
    "arr = scores_dict_to_array(scores)\n",
    "arr"
   ]
  },
  {
   "cell_type": "code",
   "execution_count": 11,
   "metadata": {},
   "outputs": [],
   "source": [
    "np.save(\"cv/m3_cv.npy\", arr)"
   ]
  },
  {
   "cell_type": "code",
   "execution_count": null,
   "metadata": {},
   "outputs": [],
   "source": []
  }
 ],
 "metadata": {
  "kernelspec": {
   "display_name": "Python 3",
   "language": "python",
   "name": "python3"
  },
  "language_info": {
   "codemirror_mode": {
    "name": "ipython",
    "version": 3
   },
   "file_extension": ".py",
   "mimetype": "text/x-python",
   "name": "python",
   "nbconvert_exporter": "python",
   "pygments_lexer": "ipython3",
   "version": "3.7.4"
  },
  "varInspector": {
   "cols": {
    "lenName": 16,
    "lenType": 16,
    "lenVar": 40
   },
   "kernels_config": {
    "python": {
     "delete_cmd_postfix": "",
     "delete_cmd_prefix": "del ",
     "library": "var_list.py",
     "varRefreshCmd": "print(var_dic_list())"
    },
    "r": {
     "delete_cmd_postfix": ") ",
     "delete_cmd_prefix": "rm(",
     "library": "var_list.r",
     "varRefreshCmd": "cat(var_dic_list()) "
    }
   },
   "types_to_exclude": [
    "module",
    "function",
    "builtin_function_or_method",
    "instance",
    "_Feature"
   ],
   "window_display": false
  }
 },
 "nbformat": 4,
 "nbformat_minor": 2
}
